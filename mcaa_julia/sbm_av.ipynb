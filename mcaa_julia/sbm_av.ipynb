{
 "cells": [
  {
   "cell_type": "code",
   "execution_count": 52,
   "id": "01bdbd15",
   "metadata": {},
   "outputs": [],
   "source": [
    "include(\"helper.jl\")\n",
    "include(\"algorithms.jl\")\n",
    "using NPZ\n",
    "using MultivariateStats\n",
    "\n",
    "# For autoreload file\n",
    "#using Revise\n",
    "#import helper"
   ]
  },
  {
   "cell_type": "code",
   "execution_count": 53,
   "id": "960d969d",
   "metadata": {
    "scrolled": true
   },
   "outputs": [
    {
     "data": {
      "text/plain": [
       "8"
      ]
     },
     "execution_count": 53,
     "metadata": {},
     "output_type": "execute_result"
    }
   ],
   "source": [
    "Threads.nthreads()"
   ]
  },
  {
   "cell_type": "markdown",
   "id": "ab674e24",
   "metadata": {},
   "source": [
    "# Metropolis"
   ]
  },
  {
   "cell_type": "markdown",
   "id": "4e29f4bf",
   "metadata": {},
   "source": [
    "## Overlap over time"
   ]
  },
  {
   "cell_type": "code",
   "execution_count": 75,
   "id": "331bfb3a-25aa-44c2-8825-5fdb0ae8733b",
   "metadata": {},
   "outputs": [
    {
     "data": {
      "text/plain": [
       "0.1"
      ]
     },
     "execution_count": 75,
     "metadata": {},
     "output_type": "execute_result"
    }
   ],
   "source": [
    "#Global resuts\n",
    "nb_iter = f(5000) + 10000\n",
    "nb_exp = 100\n",
    "\n",
    "a = 5.9\n",
    "b = 0.1"
   ]
  },
  {
   "cell_type": "code",
   "execution_count": 11,
   "id": "9db297f2-c777-4959-9215-d0fb37f84cf8",
   "metadata": {},
   "outputs": [
    {
     "data": {
      "text/plain": [
       "f (generic function with 1 method)"
      ]
     },
     "execution_count": 11,
     "metadata": {},
     "output_type": "execute_result"
    }
   ],
   "source": [
    "# Define function to compute nb_iter in function of N\n",
    "f(N) = ceil(Int64, 11 * N * log(N))"
   ]
  },
  {
   "cell_type": "code",
   "execution_count": null,
   "id": "46d52860-ce60-4e3e-9c8d-b43020b8b6ea",
   "metadata": {},
   "outputs": [],
   "source": [
    "@time begin\n",
    "    # Run for N=100\n",
    "    N = 100\n",
    "    x_star = generate_x(N)\n",
    "    overlap_hat_metropolis_100 = run_experiment(N, a, b,\n",
    "        x_star, metropolis, nb_iter, nb_exp)\n",
    "    npzwrite(\"data/overlap_hat_metropolis_100.npy\", overlap_hat_metropolis_100)\n",
    "end"
   ]
  },
  {
   "cell_type": "code",
   "execution_count": null,
   "id": "927db9de-a034-421a-9b26-346e8b7a7635",
   "metadata": {},
   "outputs": [],
   "source": [
    "@time begin\n",
    "    # Run for N=500\n",
    "    N = 500\n",
    "    x_star = generate_x(N)\n",
    "    overlap_hat_metropolis_500 = run_experiment(N, a, b,\n",
    "        x_star, metropolis, nb_iter, nb_exp)\n",
    "    npzwrite(\"data/overlap_hat_metropolis_500.npy\", overlap_hat_metropolis_500)\n",
    "end"
   ]
  },
  {
   "cell_type": "code",
   "execution_count": null,
   "id": "c60d4ed0",
   "metadata": {},
   "outputs": [],
   "source": [
    "@time begin\n",
    "    # Run for N=1000\n",
    "    N = 1000\n",
    "    x_star = generate_x(N)\n",
    "    overlap_hat_metropolis_1000 = run_experiment(N, a, b,\n",
    "        x_star, metropolis, nb_iter, nb_exp)\n",
    "    npzwrite(\"data/overlap_hat_metropolis_1000.npy\", overlap_hat_metropolis_1000)\n",
    "end"
   ]
  },
  {
   "cell_type": "code",
   "execution_count": null,
   "id": "5b3ac8f6-b331-4774-920b-25706ab3d598",
   "metadata": {},
   "outputs": [],
   "source": [
    "@time begin\n",
    "    # Run for N=5000\n",
    "    N = 5000\n",
    "    x_star = generate_x(N)\n",
    "    overlap_hat_metropolis_5000 = run_experiment(N, a, b,\n",
    "        x_star, metropolis, nb_iter, nb_exp)\n",
    "    npzwrite(\"data/overlap_hat_metropolis_5000.npy\", overlap_hat_metropolis_5000)\n",
    "end"
   ]
  },
  {
   "cell_type": "code",
   "execution_count": 76,
   "id": "5cda9f8f",
   "metadata": {},
   "outputs": [],
   "source": [
    "# Plots the result of the previous plots \n",
    "nb_iter = f(5000) + 10000\n",
    "nb_exp = 100\n",
    "\n",
    "a = 5.9\n",
    "b = 0.1\n",
    "\n",
    "overlap_hat_metropolis_100 = npzread(\"data/overlap_hat_metropolis_100.npy\")\n",
    "overlap_hat_metropolis_500 = npzread(\"data/overlap_hat_metropolis_500.npy\")\n",
    "overlap_hat_metropolis_1000 = npzread(\"data/overlap_hat_metropolis_1000.npy\")\n",
    "overlap_hat_metropolis_5000 = npzread(\"data/overlap_hat_metropolis_5000.npy\")\n",
    "\n",
    "Ns = Vector{Int64}([100, 500, 1000, 5000])\n",
    "x_vlines = f.(Ns)\n",
    "\n",
    "visualize_overlap(overlap_hat_metropolis_100[1, :],\n",
    "    overlap_hat_metropolis_500[1, :],\n",
    "    overlap_hat_metropolis_1000[1, :],\n",
    "    overlap_hat_metropolis_5000[1, :],\n",
    "    nb_exp, x_vlines, a, b, Vector{String}([\"100\",\"500\",\"1000\",\"5000\"]), \"Metropolis\")\n",
    "\n",
    "# Save figure\n",
    "savefig(\"figures/overlap_metropolis.png\")"
   ]
  },
  {
   "cell_type": "markdown",
   "id": "d89449f3",
   "metadata": {},
   "source": [
    "## Overlap as a function of r"
   ]
  },
  {
   "cell_type": "code",
   "execution_count": 69,
   "id": "5f784f3f-dea6-448c-9026-ba16ed35daee",
   "metadata": {},
   "outputs": [
    {
     "data": {
      "text/plain": [
       "10"
      ]
     },
     "execution_count": 69,
     "metadata": {},
     "output_type": "execute_result"
    }
   ],
   "source": [
    "nb_exp = 100\n",
    "d = 3\n",
    "nb_r = 10"
   ]
  },
  {
   "cell_type": "code",
   "execution_count": null,
   "id": "e5804b4c-1d2f-40d6-bb3b-b37c164f509b",
   "metadata": {},
   "outputs": [],
   "source": [
    "@time begin\n",
    "    # Run for N=100\n",
    "    N = 100\n",
    "    nb_iter = f(N)\n",
    "    x_star = generate_x(N)\n",
    "    overlap_r_vector_metropolis_100, range_r_100 = overlap_r(x_star, metropolis, N, nb_iter, nb_exp, d, 0, nb_r)\n",
    "    npzwrite(\"data/overlap_r_vector_metropolis_100.npy\", overlap_r_vector_metropolis_100)\n",
    "end"
   ]
  },
  {
   "cell_type": "code",
   "execution_count": null,
   "id": "6148d845-bc95-470b-9f30-3f3967754888",
   "metadata": {},
   "outputs": [],
   "source": [
    "@time begin\n",
    "    # Run for N=500\n",
    "    N = 500\n",
    "    nb_iter = f(N)\n",
    "    x_star = generate_x(N)\n",
    "    overlap_r_vector_metropolis_500, range_r_500 = overlap_r(x_star, metropolis, N, nb_iter, nb_exp, d, 0, nb_r)\n",
    "    npzwrite(\"data/overlap_r_vector_metropolis_500.npy\", overlap_r_vector_metropolis_500)\n",
    "end"
   ]
  },
  {
   "cell_type": "code",
   "execution_count": null,
   "id": "2578857a-158c-4a92-930e-acab215b9f3a",
   "metadata": {},
   "outputs": [],
   "source": [
    "@time begin\n",
    "    # Run for N=1000\n",
    "    N = 1000\n",
    "    nb_iter = f(N)\n",
    "    x_star = generate_x(N)\n",
    "    overlap_r_vector_metropolis_1000, range_r_1000 = overlap_r(x_star, metropolis, N, nb_iter, nb_exp, d, 0, nb_r)\n",
    "    npzwrite(\"data/overlap_r_vector_metropolis_1000.npy\", overlap_r_vector_metropolis_1000)\n",
    "end"
   ]
  },
  {
   "cell_type": "code",
   "execution_count": null,
   "id": "e0c97c46-7269-4728-8cbb-2abaea49f758",
   "metadata": {},
   "outputs": [],
   "source": [
    "@time begin\n",
    "    # Run for N=5000\n",
    "    N = 5000\n",
    "    nb_iter = f(N)\n",
    "    x_star = generate_x(N)\n",
    "    overlap_r_vector_metropolis_5000, range_r_5000 = overlap_r(x_star, metropolis, N, nb_iter, nb_exp, d, 0, nb_r)\n",
    "    npzwrite(\"data/overlap_r_vector_metropolis_100.npy\", overlap_r_vector_metropolis_100)\n",
    "    npzwrite(\"data/overlap_r_vector_metropolis_5000.npy\", overlap_r_vector_metropolis_5000)\n",
    "end"
   ]
  },
  {
   "cell_type": "markdown",
   "id": "ca10e8f2-3c4a-4b63-82e3-aaea99a978ed",
   "metadata": {},
   "source": [
    "### Plot results"
   ]
  },
  {
   "cell_type": "code",
   "execution_count": 70,
   "id": "0d3cabc1-e6b7-46c8-9c13-bd041b81be9f",
   "metadata": {},
   "outputs": [],
   "source": [
    "nb_exp = 100\n",
    "d = 3\n",
    "\n",
    "a = 5.9\n",
    "b = 0.1\n",
    "\n",
    "nb_r = 10\n",
    "\n",
    "range_r_100 = exp10.(range(-3, 0, nb_r))\n",
    "\n",
    "overlap_r_metropolis_100 = npzread(\"data/overlap_r_vector_metropolis_100.npy\")\n",
    "overlap_r_metropolis_500 = npzread(\"data/overlap_r_vector_metropolis_500.npy\")\n",
    "overlap_r_metropolis_1000 = npzread(\"data/overlap_r_vector_metropolis_1000.npy\")\n",
    "overlap_r_metropolis_5000 = npzread(\"data/overlap_r_vector_metropolis_5000.npy\")\n",
    "\n",
    "\n",
    "plot_overlap_r(\n",
    "    overlap_r_metropolis_100[:],\n",
    "    overlap_r_metropolis_500[:],\n",
    "    overlap_r_metropolis_1000[:],\n",
    "    overlap_r_metropolis_5000[:],\n",
    "    range_r_100[:], d, Vector{String}([\"100\",\"500\",\"1000\",\"5000\"]), \"Metropolis\")\n",
    "\n",
    "savefig(\"figures/overlap_r_metropolis.png\")"
   ]
  },
  {
   "cell_type": "markdown",
   "id": "9dddef08",
   "metadata": {},
   "source": [
    "# Houdayer"
   ]
  },
  {
   "cell_type": "markdown",
   "id": "8460be71",
   "metadata": {},
   "source": [
    "## Overlap over time"
   ]
  },
  {
   "cell_type": "code",
   "execution_count": 77,
   "id": "0fe22462-778a-48ac-9705-78f405d6192a",
   "metadata": {},
   "outputs": [
    {
     "data": {
      "text/plain": [
       "0.1"
      ]
     },
     "execution_count": 77,
     "metadata": {},
     "output_type": "execute_result"
    }
   ],
   "source": [
    "nb_iter = 60000\n",
    "nb_exp = 100\n",
    "a = 5.9\n",
    "b = 0.1"
   ]
  },
  {
   "cell_type": "code",
   "execution_count": null,
   "id": "1c5bbecd-875e-470e-ac5c-6f40e9f6def5",
   "metadata": {},
   "outputs": [],
   "source": [
    "@time begin\n",
    "    N = 100\n",
    "    x_star = generate_x(N)\n",
    "    overlap_hat_houdayer_100 = run_experiment(N, a, b,\n",
    "        x_star, houdayer, nb_iter, nb_exp)\n",
    "    npzwrite(\"data/overlap_time_vector_houdayer_100.npy\", overlap_hat_houdayer_100)\n",
    "end"
   ]
  },
  {
   "cell_type": "code",
   "execution_count": null,
   "id": "fb791270-98f3-44b5-9db6-35e1affea4c2",
   "metadata": {},
   "outputs": [],
   "source": [
    "@time begin\n",
    "    N = 300\n",
    "    x_star = generate_x(N)\n",
    "    overlap_hat_houdayer_300 = run_experiment(N, a, b,\n",
    "        x_star, houdayer, nb_iter, nb_exp)\n",
    "    npzwrite(\"data/overlap_time_vector_houdayer_300.npy\", overlap_hat_houdayer_300)\n",
    "end"
   ]
  },
  {
   "cell_type": "code",
   "execution_count": null,
   "id": "4af8b5b4-65d2-43d8-944a-0b0cd4995890",
   "metadata": {},
   "outputs": [],
   "source": [
    "@time begin\n",
    "    N = 500\n",
    "    x_star = generate_x(N)\n",
    "    overlap_hat_houdayer_500 = run_experiment(N, a, b,\n",
    "        x_star, houdayer, nb_iter, nb_exp)\n",
    "    npzwrite(\"data/overlap_time_vector_houdayer_500.npy\", overlap_hat_houdayer_500)\n",
    "end"
   ]
  },
  {
   "cell_type": "code",
   "execution_count": null,
   "id": "a7481afa-4532-45ea-9a4b-300a4f317901",
   "metadata": {},
   "outputs": [],
   "source": [
    "@time begin\n",
    "    N = 700\n",
    "    x_star = generate_x(N)\n",
    "    overlap_hat_houdayer_700 = run_experiment(N, a, b,\n",
    "        x_star, houdayer, nb_iter, nb_exp)\n",
    "    npzwrite(\"data/overlap_time_vector_houdayer_700.npy\", overlap_hat_houdayer_700)\n",
    "end"
   ]
  },
  {
   "cell_type": "code",
   "execution_count": 78,
   "id": "5fd6846c",
   "metadata": {},
   "outputs": [],
   "source": [
    "Ns = Vector{Int64}([100, 300, 500, 700])\n",
    "\n",
    "overlap_hat_houdayer_100s = npzread(\"data/overlap_time_vector_houdayer_100.npy\")\n",
    "overlap_hat_houdayer_300 = npzread(\"data/overlap_time_vector_houdayer_300.npy\")\n",
    "overlap_hat_houdayer_500 = npzread(\"data/overlap_time_vector_houdayer_500.npy\")\n",
    "overlap_hat_houdayer_700 = npzread(\"data/overlap_time_vector_houdayer_700.npy\")\n",
    "\n",
    "x_vlines = nb_iter = f.(Ns)\n",
    "visualize_overlap(overlap_hat_houdayer_100s[1, :],\n",
    "    overlap_hat_houdayer_300[1, :], \n",
    "    overlap_hat_houdayer_500[1, :],\n",
    "    overlap_hat_houdayer_700[1, :],\n",
    "    nb_exp, x_vlines, a, b, Vector{String}([\"100\",\"300\",\"500\",\"700\"]), \"Houdayer\")\n",
    "\n",
    "# Save figure\n",
    "savefig(\"figures/overlap_houdayer.png\")"
   ]
  },
  {
   "cell_type": "markdown",
   "id": "a8faed8e",
   "metadata": {},
   "source": [
    "## Overlap wrt r"
   ]
  },
  {
   "cell_type": "code",
   "execution_count": null,
   "id": "bdc18f02-d746-4bba-81c3-e5bd79d2f1d6",
   "metadata": {},
   "outputs": [],
   "source": [
    "nb_exp = 100\n",
    "d = 3\n",
    "nb_r = 10"
   ]
  },
  {
   "cell_type": "code",
   "execution_count": null,
   "id": "0a570848-d768-41f3-aca1-17ffc5194be2",
   "metadata": {},
   "outputs": [],
   "source": [
    "@time begin\n",
    "    N = 100\n",
    "    nb_iter = f(N)\n",
    "    x_star = generate_x(N)\n",
    "    overlap_r_vector_houdayer_100, range_r_100 = overlap_r(x_star, houdayer, N, nb_iter, nb_exp, d)\n",
    "end"
   ]
  },
  {
   "cell_type": "code",
   "execution_count": null,
   "id": "ea5d5d5f-af84-4a44-91d2-d7cb8990d2c7",
   "metadata": {},
   "outputs": [],
   "source": [
    "@time begin\n",
    "    N = 300\n",
    "    nb_iter = f(N)\n",
    "    x_star = generate_x(N)\n",
    "    overlap_r_vector_houdayer_300, range_r_300 = overlap_r(x_star, houdayer, N, nb_iter, nb_exp, d)\n",
    "end"
   ]
  },
  {
   "cell_type": "code",
   "execution_count": null,
   "id": "ccf6e41e-af01-465d-9660-057808756d0b",
   "metadata": {},
   "outputs": [],
   "source": [
    "@time begin\n",
    "    N = 500\n",
    "    nb_iter = f(N)\n",
    "    x_star = generate_x(N)\n",
    "    overlap_r_vector_houdayer_500, range_r_500 = overlap_r(x_star, houdayer, N, nb_iter, nb_exp, d)\n",
    "end"
   ]
  },
  {
   "cell_type": "code",
   "execution_count": null,
   "id": "3dba1dfc",
   "metadata": {},
   "outputs": [],
   "source": [
    "nb_r = 10\n",
    "range_r_100 = exp10.(range(-3, 0, nb_r))\n",
    "\n",
    "overlap_r_houdayer_100 = npzread(\"data/overlap_r_houdayer_100.npy\")\n",
    "overlap_r_houdayer_300 = npzread(\"data/overlap_r_houdayer_300.npy\")\n",
    "overlap_r_houdayer_500 = npzread(\"data/overlap_r_houdayer_500.npy\")\n",
    "\n",
    "plot_overlap_r(\n",
    "    overlap_r_houdayer_100[1,:],\n",
    "    overlap_r_houdayer_300[1,:],\n",
    "    overlap_r_houdayer_500[1,:],\n",
    "    Vector{Float},\n",
    "    range_r_100[1,:], d, Vector{String}([\"100\",\"500\",\"1000\",\"5000\"]), \"Metropolis\")\n",
    "\n",
    "savefig(\"figures/overlap_r_houdayer.png\")"
   ]
  },
  {
   "cell_type": "markdown",
   "id": "adcb3653",
   "metadata": {},
   "source": [
    "# Houdayer mixed"
   ]
  },
  {
   "cell_type": "code",
   "execution_count": 67,
   "id": "8f06f31b-4305-4266-aff8-8e8d8b55159a",
   "metadata": {},
   "outputs": [
    {
     "data": {
      "text/plain": [
       "0.1"
      ]
     },
     "execution_count": 67,
     "metadata": {},
     "output_type": "execute_result"
    }
   ],
   "source": [
    "N = 1000\n",
    "x_star = generate_x(N)\n",
    "nb_iter = f(N)\n",
    "nb_exp = 100\n",
    "a = 5.9\n",
    "b = 0.1"
   ]
  },
  {
   "cell_type": "markdown",
   "id": "cb9d05b8",
   "metadata": {},
   "source": [
    "## Find the best $n_0$"
   ]
  },
  {
   "cell_type": "code",
   "execution_count": null,
   "id": "574b6d4d",
   "metadata": {
    "scrolled": true
   },
   "outputs": [],
   "source": [
    "@time begin  \n",
    "    n0 = 100\n",
    "    overlap_hat_houdayer_mixed_100 = run_experiment(N, a, b,\n",
    "        x_star, houdayer_mixed, nb_iter, nb_exp, n0)\n",
    "    \n",
    "    npzwrite(\"data/overlap_hat_houdayer_mixed_100.npy\", overlap_hat_houdayer_mixed_100)\n",
    "end"
   ]
  },
  {
   "cell_type": "code",
   "execution_count": null,
   "id": "019abfab",
   "metadata": {},
   "outputs": [],
   "source": [
    "@time begin\n",
    "    \n",
    "        n0 = 1000\n",
    "    overlap_hat_houdayer_mixed_1000 = run_experiment(N, a, b,\n",
    "        x_star, houdayer_mixed, nb_iter, nb_exp, n0)\n",
    "    \n",
    "    npzwrite(\"data/overlap_hat_houdayer_mixed_1000.npy\", overlap_hat_houdayer_mixed_1000)\n",
    "    \n",
    "end"
   ]
  },
  {
   "cell_type": "code",
   "execution_count": null,
   "id": "9dd9f310",
   "metadata": {},
   "outputs": [],
   "source": [
    "@time begin\n",
    "        n0 = 5000\n",
    "    overlap_hat_houdayer_mixed_5000 = run_experiment(N, a, b,\n",
    "        x_star, houdayer_mixed, nb_iter, nb_exp, n0)\n",
    "    \n",
    "    npzwrite(\"data/overlap_hat_houdayer_mixed_5000.npy\", overlap_hat_houdayer_mixed_5000)\n",
    "end"
   ]
  },
  {
   "cell_type": "code",
   "execution_count": null,
   "id": "1597c2b2",
   "metadata": {},
   "outputs": [],
   "source": [
    "@time begin\n",
    "    n0 = 10000\n",
    "    overlap_hat_houdayer_mixed_10000 = run_experiment(N, a, b,\n",
    "        x_star, houdayer_mixed, nb_iter, nb_exp, n0)\n",
    "    \n",
    "    npzwrite(\"data/overlap_hat_houdayer_mixed_10000.npy\", overlap_hat_houdayer_mixed_10000)\n",
    "end"
   ]
  },
  {
   "cell_type": "code",
   "execution_count": null,
   "id": "9a4bd059",
   "metadata": {},
   "outputs": [],
   "source": [
    "@time begin  \n",
    "    n0 = 20000\n",
    "    overlap_hat_houdayer_mixed_20000 = run_experiment(N, a, b,\n",
    "        x_star, houdayer_mixed, nb_iter, nb_exp, n0)\n",
    "    \n",
    "    npzwrite(\"data/overlap_hat_houdayer_mixed_20000.npy\", overlap_hat_houdayer_mixed_20000)\n",
    "    \n",
    "end"
   ]
  },
  {
   "cell_type": "code",
   "execution_count": 68,
   "id": "48ee0a2e",
   "metadata": {},
   "outputs": [],
   "source": [
    "overlap_hat_houdayer_mixed_100 = npzread(\"data/overlap_hat_houdayer_mixed_100.npy\")\n",
    "overlap_hat_houdayer_mixed_1000 = npzread(\"data/overlap_hat_houdayer_mixed_1000.npy\")\n",
    "overlap_hat_houdayer_mixed_5000 = npzread(\"data/overlap_hat_houdayer_mixed_5000.npy\")\n",
    "overlap_hat_houdayer_mixed_10000 = npzread(\"data/overlap_hat_houdayer_mixed_10000.npy\")\n",
    "overlap_hat_houdayer_mixed_20000 = npzread(\"data/overlap_hat_houdayer_mixed_20000.npy\")\n",
    "\n",
    "nb_exp = 100\n",
    "\n",
    "# Plot the result\n",
    "Ns = Vector{Int64}([1000])\n",
    "x_vlines = f.(Ns)\n",
    "visualize_n0(\n",
    "    overlap_hat_houdayer_mixed_100[1, :],\n",
    "    overlap_hat_houdayer_mixed_1000[1, :],\n",
    "    overlap_hat_houdayer_mixed_5000[1, :],\n",
    "    overlap_hat_houdayer_mixed_10000[1, :],\n",
    "    overlap_hat_houdayer_mixed_20000[1, :],\n",
    "    nb_exp, x_vlines, a, b)\n",
    "\n",
    "savefig(\"figures/overlap_n0_houdayer_mixed.png\")"
   ]
  },
  {
   "cell_type": "markdown",
   "id": "d60a48e4",
   "metadata": {},
   "source": [
    "## Overlap over time"
   ]
  },
  {
   "cell_type": "code",
   "execution_count": 73,
   "id": "9cb846e8-7680-44f5-bd1a-f61ba576d8f7",
   "metadata": {},
   "outputs": [
    {
     "data": {
      "text/plain": [
       "1000"
      ]
     },
     "execution_count": 73,
     "metadata": {},
     "output_type": "execute_result"
    }
   ],
   "source": [
    "# Number of iterations for the slowest method\n",
    "nb_iter = f(5000) + 10000\n",
    "nb_exp = 100\n",
    "a = 5.9\n",
    "b = 0.1\n",
    "n0 = 1000"
   ]
  },
  {
   "cell_type": "code",
   "execution_count": null,
   "id": "34214dfc",
   "metadata": {},
   "outputs": [],
   "source": [
    "@time begin\n",
    "    N = 100\n",
    "    x_star = generate_x(N)\n",
    "    overlap_hat_houdayer_mixed_100 = run_experiment(N, a, b,\n",
    "        x_star, houdayer_mixed, nb_iter, nb_exp, n0)\n",
    "    \n",
    "    npzwrite(\"data/overlap_hat_houdayer_mixed_N100.npy\", overlap_hat_houdayer_mixed_100)\n",
    "end"
   ]
  },
  {
   "cell_type": "code",
   "execution_count": null,
   "id": "fc5db07e",
   "metadata": {},
   "outputs": [],
   "source": [
    "@time begin\n",
    "    N = 500\n",
    "    x_star = generate_x(N)\n",
    "    overlap_hat_houdayer_mixed_500 = run_experiment(N, a, b,\n",
    "        x_star, houdayer_mixed, nb_iter, nb_exp, n0)\n",
    "\n",
    "    npzwrite(\"data/overlap_hat_houdayer_mixed_N500.npy\", overlap_hat_houdayer_mixed_500)\n",
    "end"
   ]
  },
  {
   "cell_type": "code",
   "execution_count": null,
   "id": "f325016f",
   "metadata": {},
   "outputs": [],
   "source": [
    "@time begin\n",
    "    N = 1000\n",
    "    x_star = generate_x(N)\n",
    "    overlap_hat_houdayer_mixed_1000 = run_experiment(N, a, b,\n",
    "        x_star, houdayer_mixed, nb_iter, nb_exp, n0)\n",
    "    \n",
    "    npzwrite(\"data/overlap_hat_houdayer_mixed_N1000.npy\", overlap_hat_houdayer_mixed_1000)\n",
    "end"
   ]
  },
  {
   "cell_type": "code",
   "execution_count": null,
   "id": "3d460a8f",
   "metadata": {},
   "outputs": [],
   "source": [
    "@time begin\n",
    "    N = 5000\n",
    "    x_star = generate_x(N)\n",
    "    overlap_hat_houdayer_mixed_5000 = run_experiment(N, a, b,\n",
    "        x_star, houdayer_mixed, nb_iter, nb_exp, n0)\n",
    "    \n",
    "    npzwrite(\"data/overlap_hat_houdayer_mixed_N5000.npy\", overlap_hat_houdayer_mixed_5000)\n",
    "end"
   ]
  },
  {
   "cell_type": "code",
   "execution_count": 74,
   "id": "75b453e3",
   "metadata": {},
   "outputs": [],
   "source": [
    "Ns = Vector{Int64}([100, 500, 1000, 5000])\n",
    "x_vlines = f.(Ns)\n",
    "\n",
    "\n",
    "overlap_hat_houdayer_mixed_N100 = npzread(\"data/overlap_hat_houdayer_mixed_N100.npy\")\n",
    "overlap_hat_houdayer_mixed_N500 = npzread(\"data/overlap_hat_houdayer_mixed_N500.npy\")\n",
    "overlap_hat_houdayer_mixed_N1000 = npzread(\"data/overlap_hat_houdayer_mixed_N1000.npy\")\n",
    "overlap_hat_houdayer_mixed_N5000 = npzread(\"data/overlap_hat_houdayer_mixed_N5000.npy\")\n",
    "\n",
    "visualize_overlap(overlap_hat_houdayer_mixed_N100[1, :],\n",
    "    overlap_hat_houdayer_mixed_N500[1, :],\n",
    "    overlap_hat_houdayer_mixed_N1000[1, :],\n",
    "    overlap_hat_houdayer_mixed_N5000[1, :],\n",
    "    nb_exp, x_vlines,  a, b, Vector{String}([\"100\",\"500\",\"1000\",\"5000\"]), \"Houdayer mixed\", n0)\n",
    "\n",
    "# Save figure\n",
    "savefig(\"figures/overlap_houdayer_mixed.png\")"
   ]
  },
  {
   "cell_type": "markdown",
   "id": "5bbf8bf2",
   "metadata": {},
   "source": [
    "## Overlap wrt r"
   ]
  },
  {
   "cell_type": "code",
   "execution_count": 71,
   "id": "937c3812-73a3-454e-aede-3d636c85bdf9",
   "metadata": {},
   "outputs": [
    {
     "data": {
      "text/plain": [
       "10"
      ]
     },
     "execution_count": 71,
     "metadata": {},
     "output_type": "execute_result"
    }
   ],
   "source": [
    "nb_exp = 100\n",
    "d = 3\n",
    "n0 = 1000\n",
    "nb_r = 10"
   ]
  },
  {
   "cell_type": "code",
   "execution_count": null,
   "id": "ffbf8bd1-cdb6-44b1-a48d-b238d71336cb",
   "metadata": {},
   "outputs": [],
   "source": [
    "@time begin\n",
    "    N = 100\n",
    "    nb_iter = f(N)\n",
    "    x_star = generate_x(N)\n",
    "    overlap_r_vector_houdayer_mixed_100, range_r_100 = overlap_r(x_star, houdayer_mixed, N, nb_iter, nb_exp, d, n0, nb_r)\n",
    "    npzwrite(\"data/overlap_r_houdayer_mixed_100.npy\", overlap_r_vector_houdayer_mixed_100)\n",
    "end"
   ]
  },
  {
   "cell_type": "code",
   "execution_count": null,
   "id": "23696b11-4494-48c0-b3fd-a5ebc27dadde",
   "metadata": {},
   "outputs": [],
   "source": [
    "@time begin\n",
    "    N = 500\n",
    "    nb_iter = f(N)\n",
    "    x_star = generate_x(N)\n",
    "    overlap_r_vector_houdayer_mixed_500, range_r_500 = overlap_r(x_star, houdayer_mixed, N, nb_iter, nb_exp, d, n0, nb_r)\n",
    "    npzwrite(\"data/overlap_r_houdayer_mixed_500.npy\", overlap_r_vector_houdayer_mixed_500)\n",
    "end"
   ]
  },
  {
   "cell_type": "code",
   "execution_count": null,
   "id": "62c699e0-579e-4335-8d36-711448dbc364",
   "metadata": {},
   "outputs": [],
   "source": [
    "@time begin\n",
    "    N = 1000\n",
    "    nb_iter = f(N)\n",
    "    x_star = generate_x(N)\n",
    "    overlap_r_vector_houdayer_mixed_1000, range_r_1000 = overlap_r(x_star, houdayer_mixed, N, nb_iter, nb_exp, d, n0, nb_r)\n",
    "    npzwrite(\"data/overlap_r_houdayer_mixed_1000.npy\", overlap_r_vector_houdayer_mixed_1000)\n",
    "end"
   ]
  },
  {
   "cell_type": "code",
   "execution_count": null,
   "id": "ae047f68-a602-46e5-8e19-5627dd933f97",
   "metadata": {},
   "outputs": [],
   "source": [
    "@time begin\n",
    "    N = 5000\n",
    "    nb_iter = f(N)\n",
    "    x_star = generate_x(N)\n",
    "    overlap_r_vector_houdayer_mixed_5000, range_r_5000 = overlap_r(x_star, houdayer_mixed, N, nb_iter, nb_exp, d, n0, nb_r)\n",
    "    npzwrite(\"data/overlap_r_houdayer_mixed_5000.npy\", overlap_r_vector_houdayer_mixed_5000)\n",
    "end"
   ]
  },
  {
   "cell_type": "code",
   "execution_count": 72,
   "id": "542343a1",
   "metadata": {},
   "outputs": [
    {
     "name": "stdout",
     "output_type": "stream",
     "text": [
      "[0.001, 0.0021544346900318843, 0.004641588833612777, 0.01, 0.021544346900318832, 0.046415888336127795, 0.1, 0.2154434690031884, 0.4641588833612779, 1.0]"
     ]
    }
   ],
   "source": [
    "nb_r = 10\n",
    "\n",
    "range_r_100 = exp10.(range(-3, 0, nb_r))\n",
    "\n",
    "overlap_r_vector_houdayer_mixed_100 = npzread(\"data/overlap_r_houdayer_mixed_100.npy\")\n",
    "overlap_r_vector_houdayer_mixed_500 = npzread(\"data/overlap_r_houdayer_mixed_500.npy\")\n",
    "overlap_r_vector_houdayer_mixed_1000 = npzread(\"data/overlap_hat_houdayer_mixed_R1000.npy\")\n",
    "\n",
    "plot_overlap_r(\n",
    "    overlap_r_vector_houdayer_mixed_100,\n",
    "    overlap_r_vector_houdayer_mixed_500,\n",
    "    overlap_r_vector_houdayer_mixed_1000,\n",
    "    Vector{Float64}([]),\n",
    "    range_r_100, d, Vector{String}([\"100\",\"500\",\"1000\"]), \"Houdayer mixed\")\n",
    "\n",
    "savefig(\"figures/overlap_r_houdayer_mixed.png\")"
   ]
  },
  {
   "cell_type": "markdown",
   "id": "0ea87149",
   "metadata": {},
   "source": [
    "# Competition"
   ]
  },
  {
   "cell_type": "code",
   "execution_count": null,
   "id": "3dec868c",
   "metadata": {
    "scrolled": true
   },
   "outputs": [],
   "source": [
    "# Load adjacency matrix\n",
    "adj = BitMatrix(npzread(\"A_test.npy\"))"
   ]
  },
  {
   "cell_type": "code",
   "execution_count": null,
   "id": "4a3c090c",
   "metadata": {
    "scrolled": true
   },
   "outputs": [],
   "source": [
    "# Test\n",
    "adj = generate_graph(generate_x(2500), 5.9, 0.1)"
   ]
  },
  {
   "cell_type": "code",
   "execution_count": null,
   "id": "2bf399b3",
   "metadata": {},
   "outputs": [],
   "source": [
    "# Number of nodes in graph\n",
    "N = size(adj, 1)\n",
    "a = 5.9\n",
    "b = 0.1\n",
    "\n",
    "nb_exp = 300\n",
    "nb_iter = f(N)"
   ]
  },
  {
   "cell_type": "code",
   "execution_count": null,
   "id": "36c4cd8a",
   "metadata": {},
   "outputs": [],
   "source": [
    "@time begin\n",
    "\n",
    "    x_hat_matrix = competition(adj, a, b, nb_iter, nb_exp, N)\n",
    "    \n",
    "end"
   ]
  },
  {
   "cell_type": "code",
   "execution_count": null,
   "id": "df0d5765",
   "metadata": {},
   "outputs": [],
   "source": [
    "x_hat_matrix_kmeans = kmeans_clustering(x_hat_matrix)"
   ]
  },
  {
   "cell_type": "code",
   "execution_count": null,
   "id": "de62044f",
   "metadata": {},
   "outputs": [],
   "source": [
    "# PCA on the original x_hat_matrix\n",
    "model = fit(PCA, x_hat_matrix; maxoutdim=2)\n",
    "x_hat_proj = transform(model, Matrix{Float64}(x_hat_matrix))\n",
    "\n",
    "scatter(x_hat_proj)"
   ]
  },
  {
   "cell_type": "code",
   "execution_count": null,
   "id": "165dde5f",
   "metadata": {},
   "outputs": [],
   "source": [
    "model = fit(PCA, x_hat_matrix_kmeans; maxoutdim=2)\n",
    "x_hat_kmeans_proj = transform(model, Matrix{Float64}(x_hat_matrix_kmeans))\n",
    "\n",
    "scatter(x_hat_kmeans_proj)"
   ]
  },
  {
   "cell_type": "code",
   "execution_count": null,
   "id": "e4f62101",
   "metadata": {},
   "outputs": [],
   "source": []
  }
 ],
 "metadata": {
  "kernelspec": {
   "display_name": "Julia 1.7.0",
   "language": "julia",
   "name": "julia-1.7"
  },
  "language_info": {
   "file_extension": ".jl",
   "mimetype": "application/julia",
   "name": "julia",
   "version": "1.7.0"
  }
 },
 "nbformat": 4,
 "nbformat_minor": 5
}

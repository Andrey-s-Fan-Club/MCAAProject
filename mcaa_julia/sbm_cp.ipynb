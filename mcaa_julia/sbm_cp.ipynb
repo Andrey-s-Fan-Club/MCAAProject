{
 "cells": [
  {
   "cell_type": "code",
   "execution_count": 14,
   "id": "01bdbd15",
   "metadata": {},
   "outputs": [],
   "source": [
    "include(\"helper.jl\")\n",
    "include(\"algorithms.jl\")\n",
    "using NPZ\n",
    "using MultivariateStats\n",
    "\n",
    "# For autoreload file\n",
    "#using Revise\n",
    "#import helper"
   ]
  },
  {
   "cell_type": "code",
   "execution_count": 15,
   "id": "960d969d",
   "metadata": {
    "scrolled": true
   },
   "outputs": [
    {
     "data": {
      "text/plain": [
       "6"
      ]
     },
     "execution_count": 15,
     "metadata": {},
     "output_type": "execute_result"
    }
   ],
   "source": [
    "Threads.nthreads()"
   ]
  },
  {
   "cell_type": "markdown",
   "id": "ab674e24",
   "metadata": {},
   "source": [
    "# Metropolis"
   ]
  },
  {
   "cell_type": "markdown",
   "id": "4e29f4bf",
   "metadata": {},
   "source": [
    "## Overlap over time"
   ]
  },
  {
   "cell_type": "code",
   "execution_count": 4,
   "id": "2b50e419",
   "metadata": {},
   "outputs": [
    {
     "data": {
      "text/plain": [
       "f (generic function with 1 method)"
      ]
     },
     "execution_count": 4,
     "metadata": {},
     "output_type": "execute_result"
    }
   ],
   "source": [
    "# Define function to compute nb_iter in function of N\n",
    "f(N) = ceil(Int64, 11 * N * log(N))"
   ]
  },
  {
   "cell_type": "code",
   "execution_count": 57,
   "id": "8d538513",
   "metadata": {},
   "outputs": [
    {
     "name": "stdout",
     "output_type": "stream",
     "text": [
      "4016.053283 seconds (4.61 G allocations: 10.918 TiB, 10.95% gc time, 0.01% compilation time)\n"
     ]
    },
    {
     "data": {
      "text/plain": [
       "1×648790 Matrix{Float64}:\n",
       " 0.011776  0.011736  0.0117  0.011708  …  0.853976  0.853964  0.853964"
      ]
     },
     "execution_count": 57,
     "metadata": {},
     "output_type": "execute_result"
    }
   ],
   "source": [
    "@time begin\n",
    "\n",
    "    nb_iter = f(5000) + 10000\n",
    "    nb_exp = 100\n",
    "    \n",
    "    a = 5.9\n",
    "    b = 0.1\n",
    "\n",
    "    # Run for N=100\n",
    "    N = 100\n",
    "    x_star = generate_x(N)\n",
    "    overlap_hat_metropolis_100 = run_experiment(N, a, b,\n",
    "        metropolis, nb_iter, nb_exp)\n",
    "    \n",
    "    # Run for N=500\n",
    "    N = 500\n",
    "    x_star = generate_x(N)\n",
    "    overlap_hat_metropolis_500 = run_experiment(N, a, b,\n",
    "        metropolis, nb_iter, nb_exp)\n",
    "    \n",
    "    # Run for N=1000\n",
    "    N = 1000\n",
    "    x_star = generate_x(N)\n",
    "    overlap_hat_metropolis_1000 = run_experiment(N, a, b,\n",
    "        metropolis, nb_iter, nb_exp)\n",
    "    \n",
    "    # Run for N=5000\n",
    "    N = 5000\n",
    "    x_star = generate_x(N)\n",
    "    overlap_hat_metropolis_5000 = run_experiment(N, a, b,\n",
    "        metropolis, nb_iter, nb_exp)\n",
    "end"
   ]
  },
  {
   "cell_type": "code",
   "execution_count": 58,
   "id": "c60d4ed0",
   "metadata": {},
   "outputs": [],
   "source": [
    "# Save results\n",
    "npzwrite(\"data/overlap_hat_metropolis_100.npy\", overlap_hat_metropolis_100)\n",
    "npzwrite(\"data/overlap_hat_metropolis_500.npy\", overlap_hat_metropolis_500)\n",
    "npzwrite(\"data/overlap_hat_metropolis_1000.npy\", overlap_hat_metropolis_1000)\n",
    "npzwrite(\"data/overlap_hat_metropolis_5000.npy\", overlap_hat_metropolis_5000)"
   ]
  },
  {
   "cell_type": "code",
   "execution_count": 65,
   "id": "5cda9f8f",
   "metadata": {
    "scrolled": false
   },
   "outputs": [],
   "source": [
    "# Vertical lines at \n",
    "Ns = Vector{Int64}([100, 500, 1000, 5000])\n",
    "x_vlines = f.(Ns)\n",
    "\n",
    "visualize_overlap(overlap_hat_metropolis_100[1, :],\n",
    "    overlap_hat_metropolis_500[1, :],\n",
    "    overlap_hat_metropolis_1000[1, :],\n",
    "    overlap_hat_metropolis_5000[1, :],\n",
    "    nb_exp, x_vlines, a, b)\n",
    "\n",
    "# Save figure\n",
    "savefig(\"figures/overlap_metropolis.png\")"
   ]
  },
  {
   "cell_type": "code",
   "execution_count": 7,
   "id": "04a3881b",
   "metadata": {},
   "outputs": [
    {
     "name": "stdout",
     "output_type": "stream",
     "text": [
      " 31.651617 seconds (69.26 M allocations: 103.355 GiB, 12.14% gc time, 3.59% compilation time)\n"
     ]
    }
   ],
   "source": [
    "@time begin\n",
    "    \n",
    "    nb_iter = 60000\n",
    "    nb_exp = 100\n",
    "    \n",
    "    a = 5.9\n",
    "    b = 0.1\n",
    "    N = 700\n",
    "    x_star = generate_x(N)\n",
    "    overlap_hat_metropolis_700 = run_experiment(N, a, b, x_star,\n",
    "        metropolis, nb_iter, nb_exp)\n",
    "    \n",
    "    npzwrite(\"data/overlap_hat_metropolis_700.npy\", overlap_hat_metropolis_700)\n",
    "end"
   ]
  },
  {
   "cell_type": "markdown",
   "id": "d89449f3",
   "metadata": {},
   "source": [
    "## Overlap wrt r"
   ]
  },
  {
   "cell_type": "code",
   "execution_count": 7,
   "id": "1557184e",
   "metadata": {
    "scrolled": true
   },
   "outputs": [
    {
     "name": "stdout",
     "output_type": "stream",
     "text": [
      "End of N=100End of N=500End of N=1000"
     ]
    },
    {
     "ename": "LoadError",
     "evalue": "TaskFailedException\n\n\u001b[91m    nested task error: \u001b[39mInterruptException:\n    Stacktrace:\n      [1] \u001b[0m\u001b[1mArray\u001b[22m\n    \u001b[90m    @ \u001b[39m\u001b[90m./\u001b[39m\u001b[90m\u001b[4mboot.jl:457\u001b[24m\u001b[39m\u001b[90m [inlined]\u001b[39m\n      [2] \u001b[0m\u001b[1mArray\u001b[22m\n    \u001b[90m    @ \u001b[39m\u001b[90m./\u001b[39m\u001b[90m\u001b[4mboot.jl:466\u001b[24m\u001b[39m\u001b[90m [inlined]\u001b[39m\n      [3] \u001b[0m\u001b[1mArray\u001b[22m\n    \u001b[90m    @ \u001b[39m\u001b[90m./\u001b[39m\u001b[90m\u001b[4mboot.jl:474\u001b[24m\u001b[39m\u001b[90m [inlined]\u001b[39m\n      [4] \u001b[0m\u001b[1msimilar\u001b[22m\n    \u001b[90m    @ \u001b[39m\u001b[90m./\u001b[39m\u001b[90m\u001b[4mabstractarray.jl:829\u001b[24m\u001b[39m\u001b[90m [inlined]\u001b[39m\n      [5] \u001b[0m\u001b[1msimilar\u001b[22m\n    \u001b[90m    @ \u001b[39m\u001b[90m./\u001b[39m\u001b[90m\u001b[4mabstractarray.jl:828\u001b[24m\u001b[39m\u001b[90m [inlined]\u001b[39m\n      [6] \u001b[0m\u001b[1msimilar\u001b[22m\n    \u001b[90m    @ \u001b[39m\u001b[90m./\u001b[39m\u001b[90m\u001b[4mbroadcast.jl:212\u001b[24m\u001b[39m\u001b[90m [inlined]\u001b[39m\n      [7] \u001b[0m\u001b[1msimilar\u001b[22m\n    \u001b[90m    @ \u001b[39m\u001b[90m./\u001b[39m\u001b[90m\u001b[4mbroadcast.jl:211\u001b[24m\u001b[39m\u001b[90m [inlined]\u001b[39m\n      [8] \u001b[0m\u001b[1mcopy\u001b[22m\n    \u001b[90m    @ \u001b[39m\u001b[90m./\u001b[39m\u001b[90m\u001b[4mbroadcast.jl:885\u001b[24m\u001b[39m\u001b[90m [inlined]\u001b[39m\n      [9] \u001b[0m\u001b[1mmaterialize\u001b[22m\n    \u001b[90m    @ \u001b[39m\u001b[90m./\u001b[39m\u001b[90m\u001b[4mbroadcast.jl:860\u001b[24m\u001b[39m\u001b[90m [inlined]\u001b[39m\n     [10] \u001b[0m\u001b[1mget_h_row\u001b[22m\n    \u001b[90m    @ \u001b[39m\u001b[90m~/MA1/mcaa/github/MCAAProject/mcaa_julia/\u001b[39m\u001b[90m\u001b[4malgorithms.jl:13\u001b[24m\u001b[39m\u001b[90m [inlined]\u001b[39m\n     [11] \u001b[0m\u001b[1mcompute_acceptance_proba\u001b[22m\u001b[0m\u001b[1m(\u001b[22m\u001b[90mx\u001b[39m::\u001b[0mVector\u001b[90m{Int8}\u001b[39m, \u001b[90mv\u001b[39m::\u001b[0mInt64, \u001b[90mn\u001b[39m::\u001b[0mInt64, \u001b[90madj\u001b[39m::\u001b[0mBitMatrix, \u001b[90ma\u001b[39m::\u001b[0mFloat64, \u001b[90mb\u001b[39m::\u001b[0mFloat64\u001b[0m\u001b[1m)\u001b[22m\n    \u001b[90m    @ \u001b[39m\u001b[35mMain\u001b[39m \u001b[90m~/MA1/mcaa/github/MCAAProject/mcaa_julia/\u001b[39m\u001b[90m\u001b[4malgorithms.jl:22\u001b[24m\u001b[39m\n     [12] \u001b[0m\u001b[1mmetropolis_step!\u001b[22m\n    \u001b[90m    @ \u001b[39m\u001b[90m~/MA1/mcaa/github/MCAAProject/mcaa_julia/\u001b[39m\u001b[90m\u001b[4malgorithms.jl:30\u001b[24m\u001b[39m\u001b[90m [inlined]\u001b[39m\n     [13] \u001b[0m\u001b[1mmetropolis\u001b[22m\u001b[0m\u001b[1m(\u001b[22m\u001b[90madj\u001b[39m::\u001b[0mBitMatrix, \u001b[90ma\u001b[39m::\u001b[0mFloat64, \u001b[90mb\u001b[39m::\u001b[0mFloat64, \u001b[90mnb\u001b[39m::\u001b[0mInt64, \u001b[90mnb_iter\u001b[39m::\u001b[0mInt64, \u001b[90mx_star\u001b[39m::\u001b[0mVector\u001b[90m{Int8}\u001b[39m, \u001b[90marg\u001b[39m::\u001b[0mInt64\u001b[0m\u001b[1m)\u001b[22m\n    \u001b[90m    @ \u001b[39m\u001b[35mMain\u001b[39m \u001b[90m~/MA1/mcaa/github/MCAAProject/mcaa_julia/\u001b[39m\u001b[90m\u001b[4malgorithms.jl:43\u001b[24m\u001b[39m\n     [14] \u001b[0m\u001b[1mmacro expansion\u001b[22m\n    \u001b[90m    @ \u001b[39m\u001b[90m~/MA1/mcaa/github/MCAAProject/mcaa_julia/\u001b[39m\u001b[90m\u001b[4malgorithms.jl:173\u001b[24m\u001b[39m\u001b[90m [inlined]\u001b[39m\n     [15] \u001b[0m\u001b[1m(::var\"#146#threadsfor_fun#8\"{Int64, Float64, Float64, Vector{Int8}, typeof(metropolis), Int64, Int64, Matrix{Float64}, UnitRange{Int64}})\u001b[22m\u001b[0m\u001b[1m(\u001b[22m\u001b[90monethread\u001b[39m::\u001b[0mBool\u001b[0m\u001b[1m)\u001b[22m\n    \u001b[90m    @ \u001b[39m\u001b[35mMain\u001b[39m \u001b[90m./\u001b[39m\u001b[90m\u001b[4mthreadingconstructs.jl:85\u001b[24m\u001b[39m\n     [16] \u001b[0m\u001b[1m#invokelatest#2\u001b[22m\n    \u001b[90m    @ \u001b[39m\u001b[90m./\u001b[39m\u001b[90m\u001b[4messentials.jl:716\u001b[24m\u001b[39m\u001b[90m [inlined]\u001b[39m\n     [17] \u001b[0m\u001b[1minvokelatest\u001b[22m\n    \u001b[90m    @ \u001b[39m\u001b[90m./\u001b[39m\u001b[90m\u001b[4messentials.jl:714\u001b[24m\u001b[39m\u001b[90m [inlined]\u001b[39m\n     [18] \u001b[0m\u001b[1mmacro expansion\u001b[22m\n    \u001b[90m    @ \u001b[39m\u001b[90m./\u001b[39m\u001b[90m\u001b[4mthreadingconstructs.jl:90\u001b[24m\u001b[39m\u001b[90m [inlined]\u001b[39m\n     [19] \u001b[0m\u001b[1mrun_experiment\u001b[22m\u001b[0m\u001b[1m(\u001b[22m\u001b[90mnb\u001b[39m::\u001b[0mInt64, \u001b[90ma\u001b[39m::\u001b[0mFloat64, \u001b[90mb\u001b[39m::\u001b[0mFloat64, \u001b[90mx_star\u001b[39m::\u001b[0mVector\u001b[90m{Int8}\u001b[39m, \u001b[90malgorithm\u001b[39m::\u001b[0mtypeof(metropolis), \u001b[90mnb_iter\u001b[39m::\u001b[0mInt64, \u001b[90mnb_exp\u001b[39m::\u001b[0mInt64, \u001b[90mn0\u001b[39m::\u001b[0mInt64\u001b[0m\u001b[1m)\u001b[22m\n    \u001b[90m    @ \u001b[39m\u001b[35mMain\u001b[39m \u001b[90m~/MA1/mcaa/github/MCAAProject/mcaa_julia/\u001b[39m\u001b[90m\u001b[4malgorithms.jl:168\u001b[24m\u001b[39m\n     [20] \u001b[0m\u001b[1mmacro expansion\u001b[22m\n    \u001b[90m    @ \u001b[39m\u001b[90m~/MA1/mcaa/github/MCAAProject/mcaa_julia/\u001b[39m\u001b[90m\u001b[4malgorithms.jl:201\u001b[24m\u001b[39m\u001b[90m [inlined]\u001b[39m\n     [21] \u001b[0m\u001b[1m(::var\"#177#threadsfor_fun#10\"{Vector{Int8}, typeof(metropolis), Int64, Int64, Int64, Int64, Int64, Vector{Float64}, Vector{Float64}, UnitRange{Int64}})\u001b[22m\u001b[0m\u001b[1m(\u001b[22m\u001b[90monethread\u001b[39m::\u001b[0mBool\u001b[0m\u001b[1m)\u001b[22m\n    \u001b[90m    @ \u001b[39m\u001b[35mMain\u001b[39m \u001b[90m./\u001b[39m\u001b[90m\u001b[4mthreadingconstructs.jl:85\u001b[24m\u001b[39m\n     [22] \u001b[0m\u001b[1m(::var\"#177#threadsfor_fun#10\"{Vector{Int8}, typeof(metropolis), Int64, Int64, Int64, Int64, Int64, Vector{Float64}, Vector{Float64}, UnitRange{Int64}})\u001b[22m\u001b[0m\u001b[1m(\u001b[22m\u001b[0m\u001b[1m)\u001b[22m\n    \u001b[90m    @ \u001b[39m\u001b[35mMain\u001b[39m \u001b[90m./\u001b[39m\u001b[90m\u001b[4mthreadingconstructs.jl:52\u001b[24m\u001b[39m",
     "output_type": "error",
     "traceback": [
      "TaskFailedException\n\n\u001b[91m    nested task error: \u001b[39mInterruptException:\n    Stacktrace:\n      [1] \u001b[0m\u001b[1mArray\u001b[22m\n    \u001b[90m    @ \u001b[39m\u001b[90m./\u001b[39m\u001b[90m\u001b[4mboot.jl:457\u001b[24m\u001b[39m\u001b[90m [inlined]\u001b[39m\n      [2] \u001b[0m\u001b[1mArray\u001b[22m\n    \u001b[90m    @ \u001b[39m\u001b[90m./\u001b[39m\u001b[90m\u001b[4mboot.jl:466\u001b[24m\u001b[39m\u001b[90m [inlined]\u001b[39m\n      [3] \u001b[0m\u001b[1mArray\u001b[22m\n    \u001b[90m    @ \u001b[39m\u001b[90m./\u001b[39m\u001b[90m\u001b[4mboot.jl:474\u001b[24m\u001b[39m\u001b[90m [inlined]\u001b[39m\n      [4] \u001b[0m\u001b[1msimilar\u001b[22m\n    \u001b[90m    @ \u001b[39m\u001b[90m./\u001b[39m\u001b[90m\u001b[4mabstractarray.jl:829\u001b[24m\u001b[39m\u001b[90m [inlined]\u001b[39m\n      [5] \u001b[0m\u001b[1msimilar\u001b[22m\n    \u001b[90m    @ \u001b[39m\u001b[90m./\u001b[39m\u001b[90m\u001b[4mabstractarray.jl:828\u001b[24m\u001b[39m\u001b[90m [inlined]\u001b[39m\n      [6] \u001b[0m\u001b[1msimilar\u001b[22m\n    \u001b[90m    @ \u001b[39m\u001b[90m./\u001b[39m\u001b[90m\u001b[4mbroadcast.jl:212\u001b[24m\u001b[39m\u001b[90m [inlined]\u001b[39m\n      [7] \u001b[0m\u001b[1msimilar\u001b[22m\n    \u001b[90m    @ \u001b[39m\u001b[90m./\u001b[39m\u001b[90m\u001b[4mbroadcast.jl:211\u001b[24m\u001b[39m\u001b[90m [inlined]\u001b[39m\n      [8] \u001b[0m\u001b[1mcopy\u001b[22m\n    \u001b[90m    @ \u001b[39m\u001b[90m./\u001b[39m\u001b[90m\u001b[4mbroadcast.jl:885\u001b[24m\u001b[39m\u001b[90m [inlined]\u001b[39m\n      [9] \u001b[0m\u001b[1mmaterialize\u001b[22m\n    \u001b[90m    @ \u001b[39m\u001b[90m./\u001b[39m\u001b[90m\u001b[4mbroadcast.jl:860\u001b[24m\u001b[39m\u001b[90m [inlined]\u001b[39m\n     [10] \u001b[0m\u001b[1mget_h_row\u001b[22m\n    \u001b[90m    @ \u001b[39m\u001b[90m~/MA1/mcaa/github/MCAAProject/mcaa_julia/\u001b[39m\u001b[90m\u001b[4malgorithms.jl:13\u001b[24m\u001b[39m\u001b[90m [inlined]\u001b[39m\n     [11] \u001b[0m\u001b[1mcompute_acceptance_proba\u001b[22m\u001b[0m\u001b[1m(\u001b[22m\u001b[90mx\u001b[39m::\u001b[0mVector\u001b[90m{Int8}\u001b[39m, \u001b[90mv\u001b[39m::\u001b[0mInt64, \u001b[90mn\u001b[39m::\u001b[0mInt64, \u001b[90madj\u001b[39m::\u001b[0mBitMatrix, \u001b[90ma\u001b[39m::\u001b[0mFloat64, \u001b[90mb\u001b[39m::\u001b[0mFloat64\u001b[0m\u001b[1m)\u001b[22m\n    \u001b[90m    @ \u001b[39m\u001b[35mMain\u001b[39m \u001b[90m~/MA1/mcaa/github/MCAAProject/mcaa_julia/\u001b[39m\u001b[90m\u001b[4malgorithms.jl:22\u001b[24m\u001b[39m\n     [12] \u001b[0m\u001b[1mmetropolis_step!\u001b[22m\n    \u001b[90m    @ \u001b[39m\u001b[90m~/MA1/mcaa/github/MCAAProject/mcaa_julia/\u001b[39m\u001b[90m\u001b[4malgorithms.jl:30\u001b[24m\u001b[39m\u001b[90m [inlined]\u001b[39m\n     [13] \u001b[0m\u001b[1mmetropolis\u001b[22m\u001b[0m\u001b[1m(\u001b[22m\u001b[90madj\u001b[39m::\u001b[0mBitMatrix, \u001b[90ma\u001b[39m::\u001b[0mFloat64, \u001b[90mb\u001b[39m::\u001b[0mFloat64, \u001b[90mnb\u001b[39m::\u001b[0mInt64, \u001b[90mnb_iter\u001b[39m::\u001b[0mInt64, \u001b[90mx_star\u001b[39m::\u001b[0mVector\u001b[90m{Int8}\u001b[39m, \u001b[90marg\u001b[39m::\u001b[0mInt64\u001b[0m\u001b[1m)\u001b[22m\n    \u001b[90m    @ \u001b[39m\u001b[35mMain\u001b[39m \u001b[90m~/MA1/mcaa/github/MCAAProject/mcaa_julia/\u001b[39m\u001b[90m\u001b[4malgorithms.jl:43\u001b[24m\u001b[39m\n     [14] \u001b[0m\u001b[1mmacro expansion\u001b[22m\n    \u001b[90m    @ \u001b[39m\u001b[90m~/MA1/mcaa/github/MCAAProject/mcaa_julia/\u001b[39m\u001b[90m\u001b[4malgorithms.jl:173\u001b[24m\u001b[39m\u001b[90m [inlined]\u001b[39m\n     [15] \u001b[0m\u001b[1m(::var\"#146#threadsfor_fun#8\"{Int64, Float64, Float64, Vector{Int8}, typeof(metropolis), Int64, Int64, Matrix{Float64}, UnitRange{Int64}})\u001b[22m\u001b[0m\u001b[1m(\u001b[22m\u001b[90monethread\u001b[39m::\u001b[0mBool\u001b[0m\u001b[1m)\u001b[22m\n    \u001b[90m    @ \u001b[39m\u001b[35mMain\u001b[39m \u001b[90m./\u001b[39m\u001b[90m\u001b[4mthreadingconstructs.jl:85\u001b[24m\u001b[39m\n     [16] \u001b[0m\u001b[1m#invokelatest#2\u001b[22m\n    \u001b[90m    @ \u001b[39m\u001b[90m./\u001b[39m\u001b[90m\u001b[4messentials.jl:716\u001b[24m\u001b[39m\u001b[90m [inlined]\u001b[39m\n     [17] \u001b[0m\u001b[1minvokelatest\u001b[22m\n    \u001b[90m    @ \u001b[39m\u001b[90m./\u001b[39m\u001b[90m\u001b[4messentials.jl:714\u001b[24m\u001b[39m\u001b[90m [inlined]\u001b[39m\n     [18] \u001b[0m\u001b[1mmacro expansion\u001b[22m\n    \u001b[90m    @ \u001b[39m\u001b[90m./\u001b[39m\u001b[90m\u001b[4mthreadingconstructs.jl:90\u001b[24m\u001b[39m\u001b[90m [inlined]\u001b[39m\n     [19] \u001b[0m\u001b[1mrun_experiment\u001b[22m\u001b[0m\u001b[1m(\u001b[22m\u001b[90mnb\u001b[39m::\u001b[0mInt64, \u001b[90ma\u001b[39m::\u001b[0mFloat64, \u001b[90mb\u001b[39m::\u001b[0mFloat64, \u001b[90mx_star\u001b[39m::\u001b[0mVector\u001b[90m{Int8}\u001b[39m, \u001b[90malgorithm\u001b[39m::\u001b[0mtypeof(metropolis), \u001b[90mnb_iter\u001b[39m::\u001b[0mInt64, \u001b[90mnb_exp\u001b[39m::\u001b[0mInt64, \u001b[90mn0\u001b[39m::\u001b[0mInt64\u001b[0m\u001b[1m)\u001b[22m\n    \u001b[90m    @ \u001b[39m\u001b[35mMain\u001b[39m \u001b[90m~/MA1/mcaa/github/MCAAProject/mcaa_julia/\u001b[39m\u001b[90m\u001b[4malgorithms.jl:168\u001b[24m\u001b[39m\n     [20] \u001b[0m\u001b[1mmacro expansion\u001b[22m\n    \u001b[90m    @ \u001b[39m\u001b[90m~/MA1/mcaa/github/MCAAProject/mcaa_julia/\u001b[39m\u001b[90m\u001b[4malgorithms.jl:201\u001b[24m\u001b[39m\u001b[90m [inlined]\u001b[39m\n     [21] \u001b[0m\u001b[1m(::var\"#177#threadsfor_fun#10\"{Vector{Int8}, typeof(metropolis), Int64, Int64, Int64, Int64, Int64, Vector{Float64}, Vector{Float64}, UnitRange{Int64}})\u001b[22m\u001b[0m\u001b[1m(\u001b[22m\u001b[90monethread\u001b[39m::\u001b[0mBool\u001b[0m\u001b[1m)\u001b[22m\n    \u001b[90m    @ \u001b[39m\u001b[35mMain\u001b[39m \u001b[90m./\u001b[39m\u001b[90m\u001b[4mthreadingconstructs.jl:85\u001b[24m\u001b[39m\n     [22] \u001b[0m\u001b[1m(::var\"#177#threadsfor_fun#10\"{Vector{Int8}, typeof(metropolis), Int64, Int64, Int64, Int64, Int64, Vector{Float64}, Vector{Float64}, UnitRange{Int64}})\u001b[22m\u001b[0m\u001b[1m(\u001b[22m\u001b[0m\u001b[1m)\u001b[22m\n    \u001b[90m    @ \u001b[39m\u001b[35mMain\u001b[39m \u001b[90m./\u001b[39m\u001b[90m\u001b[4mthreadingconstructs.jl:52\u001b[24m\u001b[39m",
      "",
      "Stacktrace:",
      " [1] wait",
      "   @ ./task.jl:334 [inlined]",
      " [2] threading_run(func::Function)",
      "   @ Base.Threads ./threadingconstructs.jl:38",
      " [3] macro expansion",
      "   @ ./threadingconstructs.jl:97 [inlined]",
      " [4] overlap_r(x_star::Vector{Int8}, algorithm::Function, nb::Int64, nb_iter::Int64, nb_exp::Int64, d::Int64, n0::Int64, nb_r::Int64)",
      "   @ Main ~/MA1/mcaa/github/MCAAProject/mcaa_julia/algorithms.jl:198",
      " [5] macro expansion",
      "   @ ./In[7]:25 [inlined]",
      " [6] top-level scope",
      "   @ ./timing.jl:220 [inlined]",
      " [7] top-level scope",
      "   @ ./In[7]:0",
      " [8] eval",
      "   @ ./boot.jl:373 [inlined]",
      " [9] include_string(mapexpr::typeof(REPL.softscope), mod::Module, code::String, filename::String)",
      "   @ Base ./loading.jl:1196"
     ]
    }
   ],
   "source": [
    "@time begin\n",
    "    \n",
    "    nb_exp = 100\n",
    "    d = 3\n",
    "    nb_r = 10\n",
    "    \n",
    "    N = 100\n",
    "    nb_iter = f(N)\n",
    "    x_star = generate_x(N)\n",
    "    overlap_r_vector_metropolis_100, range_r_100 = overlap_r(x_star, metropolis, N, nb_iter, nb_exp, d, 0, nb_r)\n",
    "    print(\"End of N=100\")\n",
    "    N = 500\n",
    "    nb_iter = f(N)\n",
    "    x_star = generate_x(N)\n",
    "    overlap_r_vector_metropolis_500, range_r_500 = overlap_r(x_star, metropolis, N, nb_iter, nb_exp, d, 0, nb_r)\n",
    "    print(\"End of N=500\")\n",
    "    N = 1000\n",
    "    nb_iter = f(N)\n",
    "    x_star = generate_x(N)\n",
    "    overlap_r_vector_metropolis_1000, range_r_1000 = overlap_r(x_star, metropolis, N, nb_iter, nb_exp, d, 0, nb_r)\n",
    "    print(\"End of N=1000\")\n",
    "    N = 5000\n",
    "    nb_iter = f(N)\n",
    "    x_star = generate_x(N)\n",
    "    overlap_r_vector_metropolis_5000, range_r_5000 = overlap_r(x_star, metropolis, N, nb_iter, nb_exp, d, 0, nb_r)\n",
    "end"
   ]
  },
  {
   "cell_type": "code",
   "execution_count": 8,
   "id": "aa158aaf",
   "metadata": {},
   "outputs": [
    {
     "ename": "LoadError",
     "evalue": "UndefVarError: overlap_r_vector_metropolis_5000 not defined",
     "output_type": "error",
     "traceback": [
      "UndefVarError: overlap_r_vector_metropolis_5000 not defined",
      "",
      "Stacktrace:",
      " [1] top-level scope",
      "   @ In[8]:5",
      " [2] eval",
      "   @ ./boot.jl:373 [inlined]",
      " [3] include_string(mapexpr::typeof(REPL.softscope), mod::Module, code::String, filename::String)",
      "   @ Base ./loading.jl:1196"
     ]
    }
   ],
   "source": [
    "# Save results\n",
    "npzwrite(\"data/overlap_r_vector_metropolis_100.npy\", overlap_r_vector_metropolis_100)\n",
    "npzwrite(\"data/overlap_r_vector_metropolis_500.npy\", overlap_r_vector_metropolis_500)\n",
    "npzwrite(\"data/overlap_r_vector_metropolis_1000.npy\", overlap_r_vector_metropolis_1000)\n",
    "npzwrite(\"data/overlap_r_vector_metropolis_5000.npy\", overlap_r_vector_metropolis_5000)"
   ]
  },
  {
   "cell_type": "code",
   "execution_count": null,
   "id": "bce4f9dd",
   "metadata": {},
   "outputs": [],
   "source": [
    "plot_overlap_r(\n",
    "    overlap_r_vector_metropolis_100[1, :],\n",
    "    overlap_r_vector_metropolis_500[1, :],\n",
    "    overlap_r_vector_metropolis_700[1, :],\n",
    "    overlap_r_vector_metropolis_1000[1, :],\n",
    "    range_r_100, d)\n",
    "\n",
    "savefig(\"figures/overlap_r_metropolis.png\")"
   ]
  },
  {
   "cell_type": "markdown",
   "id": "9dddef08",
   "metadata": {},
   "source": [
    "# Houdayer"
   ]
  },
  {
   "cell_type": "markdown",
   "id": "8460be71",
   "metadata": {},
   "source": [
    "## Overlap over time"
   ]
  },
  {
   "cell_type": "code",
   "execution_count": 15,
   "id": "72133255",
   "metadata": {
    "scrolled": true
   },
   "outputs": [
    {
     "ename": "LoadError",
     "evalue": "TaskFailedException\n\n\u001b[91m    nested task error: \u001b[39mInterruptException:\n    Stacktrace:\n      [1] \u001b[0m\u001b[1mArray\u001b[22m\n    \u001b[90m    @ \u001b[39m\u001b[90m./\u001b[39m\u001b[90m\u001b[4mboot.jl:457\u001b[24m\u001b[39m\u001b[90m [inlined]\u001b[39m\n      [2] \u001b[0m\u001b[1mBitMatrix\u001b[22m\u001b[0m\u001b[1m(\u001b[22m::\u001b[0mUndefInitializer, ::\u001b[0mInt64, ::\u001b[0mInt64\u001b[0m\u001b[1m)\u001b[22m\n    \u001b[90m    @ \u001b[39m\u001b[90mBase\u001b[39m \u001b[90m./\u001b[39m\u001b[90m\u001b[4mbitarray.jl:37\u001b[24m\u001b[39m\n      [3] \u001b[0m\u001b[1mBitArray\u001b[22m\n    \u001b[90m    @ \u001b[39m\u001b[90m./\u001b[39m\u001b[90m\u001b[4mbitarray.jl:71\u001b[24m\u001b[39m\u001b[90m [inlined]\u001b[39m\n      [4] \u001b[0m\u001b[1mfalses\u001b[22m\n    \u001b[90m    @ \u001b[39m\u001b[90m./\u001b[39m\u001b[90m\u001b[4mbitarray.jl:405\u001b[24m\u001b[39m\u001b[90m [inlined]\u001b[39m\n      [5] \u001b[0m\u001b[1mcopy\u001b[22m\n    \u001b[90m    @ \u001b[39m\u001b[90m~/julia-1.7.0/share/julia/stdlib/v1.7/LinearAlgebra/src/\u001b[39m\u001b[90m\u001b[4mbitarray.jl:239\u001b[24m\u001b[39m\u001b[90m [inlined]\u001b[39m\n      [6] \u001b[0m\u001b[1missymmetric\u001b[22m\u001b[0m\u001b[1m(\u001b[22m\u001b[90mA\u001b[39m::\u001b[0mBitMatrix\u001b[0m\u001b[1m)\u001b[22m\n    \u001b[90m    @ \u001b[39m\u001b[35mLinearAlgebra\u001b[39m \u001b[90m~/julia-1.7.0/share/julia/stdlib/v1.7/LinearAlgebra/src/\u001b[39m\u001b[90m\u001b[4mbitarray.jl:140\u001b[24m\u001b[39m\n      [7] \u001b[0m\u001b[1mSimpleGraph{Int64}\u001b[22m\u001b[0m\u001b[1m(\u001b[22m\u001b[90madjmx\u001b[39m::\u001b[0mBitMatrix\u001b[0m\u001b[1m)\u001b[22m\n    \u001b[90m    @ \u001b[39m\u001b[36mGraphs.SimpleGraphs\u001b[39m \u001b[90m~/.julia/packages/Graphs/Mih78/src/SimpleGraphs/\u001b[39m\u001b[90m\u001b[4msimplegraph.jl:91\u001b[24m\u001b[39m\n      [8] \u001b[0m\u001b[1mSimpleGraph\u001b[22m\n    \u001b[90m    @ \u001b[39m\u001b[90m~/.julia/packages/Graphs/Mih78/src/SimpleGraphs/\u001b[39m\u001b[90m\u001b[4msimplegraph.jl:85\u001b[24m\u001b[39m\u001b[90m [inlined]\u001b[39m\n      [9] \u001b[0m\u001b[1mhoudayer_step\u001b[22m\u001b[0m\u001b[1m(\u001b[22m\u001b[90mcur_x1\u001b[39m::\u001b[0mVector\u001b[90m{Int8}\u001b[39m, \u001b[90mcur_x2\u001b[39m::\u001b[0mVector\u001b[90m{Int8}\u001b[39m, \u001b[90madj\u001b[39m::\u001b[0mBitMatrix\u001b[0m\u001b[1m)\u001b[22m\n    \u001b[90m    @ \u001b[39m\u001b[32mMain\u001b[39m \u001b[90m~/MA1/mcaa/github/MCAAProject/mcaa_julia/\u001b[39m\u001b[90m\u001b[4malgorithms.jl:81\u001b[24m\u001b[39m\n     [10] \u001b[0m\u001b[1mhoudayer\u001b[22m\u001b[0m\u001b[1m(\u001b[22m\u001b[90madj\u001b[39m::\u001b[0mBitMatrix, \u001b[90ma\u001b[39m::\u001b[0mFloat64, \u001b[90mb\u001b[39m::\u001b[0mFloat64, \u001b[90mnb\u001b[39m::\u001b[0mInt64, \u001b[90mnb_iter\u001b[39m::\u001b[0mInt64, \u001b[90mx_star\u001b[39m::\u001b[0mVector\u001b[90m{Int8}\u001b[39m, \u001b[90marg\u001b[39m::\u001b[0mInt64\u001b[0m\u001b[1m)\u001b[22m\n    \u001b[90m    @ \u001b[39m\u001b[32mMain\u001b[39m \u001b[90m~/MA1/mcaa/github/MCAAProject/mcaa_julia/\u001b[39m\u001b[90m\u001b[4malgorithms.jl:104\u001b[24m\u001b[39m\n     [11] \u001b[0m\u001b[1mmacro expansion\u001b[22m\n    \u001b[90m    @ \u001b[39m\u001b[90m~/MA1/mcaa/github/MCAAProject/mcaa_julia/\u001b[39m\u001b[90m\u001b[4malgorithms.jl:150\u001b[24m\u001b[39m\u001b[90m [inlined]\u001b[39m\n     [12] \u001b[0m\u001b[1m(::var\"#60#threadsfor_fun#3\"{Int64, Float64, Float64, Vector{Int8}, typeof(houdayer), Int64, Int64, Matrix{Float64}, UnitRange{Int64}})\u001b[22m\u001b[0m\u001b[1m(\u001b[22m\u001b[90monethread\u001b[39m::\u001b[0mBool\u001b[0m\u001b[1m)\u001b[22m\n    \u001b[90m    @ \u001b[39m\u001b[32mMain\u001b[39m \u001b[90m./\u001b[39m\u001b[90m\u001b[4mthreadingconstructs.jl:85\u001b[24m\u001b[39m\n     [13] \u001b[0m\u001b[1m(::var\"#60#threadsfor_fun#3\"{Int64, Float64, Float64, Vector{Int8}, typeof(houdayer), Int64, Int64, Matrix{Float64}, UnitRange{Int64}})\u001b[22m\u001b[0m\u001b[1m(\u001b[22m\u001b[0m\u001b[1m)\u001b[22m\n    \u001b[90m    @ \u001b[39m\u001b[32mMain\u001b[39m \u001b[90m./\u001b[39m\u001b[90m\u001b[4mthreadingconstructs.jl:52\u001b[24m\u001b[39m",
     "output_type": "error",
     "traceback": [
      "TaskFailedException\n\n\u001b[91m    nested task error: \u001b[39mInterruptException:\n    Stacktrace:\n      [1] \u001b[0m\u001b[1mArray\u001b[22m\n    \u001b[90m    @ \u001b[39m\u001b[90m./\u001b[39m\u001b[90m\u001b[4mboot.jl:457\u001b[24m\u001b[39m\u001b[90m [inlined]\u001b[39m\n      [2] \u001b[0m\u001b[1mBitMatrix\u001b[22m\u001b[0m\u001b[1m(\u001b[22m::\u001b[0mUndefInitializer, ::\u001b[0mInt64, ::\u001b[0mInt64\u001b[0m\u001b[1m)\u001b[22m\n    \u001b[90m    @ \u001b[39m\u001b[90mBase\u001b[39m \u001b[90m./\u001b[39m\u001b[90m\u001b[4mbitarray.jl:37\u001b[24m\u001b[39m\n      [3] \u001b[0m\u001b[1mBitArray\u001b[22m\n    \u001b[90m    @ \u001b[39m\u001b[90m./\u001b[39m\u001b[90m\u001b[4mbitarray.jl:71\u001b[24m\u001b[39m\u001b[90m [inlined]\u001b[39m\n      [4] \u001b[0m\u001b[1mfalses\u001b[22m\n    \u001b[90m    @ \u001b[39m\u001b[90m./\u001b[39m\u001b[90m\u001b[4mbitarray.jl:405\u001b[24m\u001b[39m\u001b[90m [inlined]\u001b[39m\n      [5] \u001b[0m\u001b[1mcopy\u001b[22m\n    \u001b[90m    @ \u001b[39m\u001b[90m~/julia-1.7.0/share/julia/stdlib/v1.7/LinearAlgebra/src/\u001b[39m\u001b[90m\u001b[4mbitarray.jl:239\u001b[24m\u001b[39m\u001b[90m [inlined]\u001b[39m\n      [6] \u001b[0m\u001b[1missymmetric\u001b[22m\u001b[0m\u001b[1m(\u001b[22m\u001b[90mA\u001b[39m::\u001b[0mBitMatrix\u001b[0m\u001b[1m)\u001b[22m\n    \u001b[90m    @ \u001b[39m\u001b[35mLinearAlgebra\u001b[39m \u001b[90m~/julia-1.7.0/share/julia/stdlib/v1.7/LinearAlgebra/src/\u001b[39m\u001b[90m\u001b[4mbitarray.jl:140\u001b[24m\u001b[39m\n      [7] \u001b[0m\u001b[1mSimpleGraph{Int64}\u001b[22m\u001b[0m\u001b[1m(\u001b[22m\u001b[90madjmx\u001b[39m::\u001b[0mBitMatrix\u001b[0m\u001b[1m)\u001b[22m\n    \u001b[90m    @ \u001b[39m\u001b[36mGraphs.SimpleGraphs\u001b[39m \u001b[90m~/.julia/packages/Graphs/Mih78/src/SimpleGraphs/\u001b[39m\u001b[90m\u001b[4msimplegraph.jl:91\u001b[24m\u001b[39m\n      [8] \u001b[0m\u001b[1mSimpleGraph\u001b[22m\n    \u001b[90m    @ \u001b[39m\u001b[90m~/.julia/packages/Graphs/Mih78/src/SimpleGraphs/\u001b[39m\u001b[90m\u001b[4msimplegraph.jl:85\u001b[24m\u001b[39m\u001b[90m [inlined]\u001b[39m\n      [9] \u001b[0m\u001b[1mhoudayer_step\u001b[22m\u001b[0m\u001b[1m(\u001b[22m\u001b[90mcur_x1\u001b[39m::\u001b[0mVector\u001b[90m{Int8}\u001b[39m, \u001b[90mcur_x2\u001b[39m::\u001b[0mVector\u001b[90m{Int8}\u001b[39m, \u001b[90madj\u001b[39m::\u001b[0mBitMatrix\u001b[0m\u001b[1m)\u001b[22m\n    \u001b[90m    @ \u001b[39m\u001b[32mMain\u001b[39m \u001b[90m~/MA1/mcaa/github/MCAAProject/mcaa_julia/\u001b[39m\u001b[90m\u001b[4malgorithms.jl:81\u001b[24m\u001b[39m\n     [10] \u001b[0m\u001b[1mhoudayer\u001b[22m\u001b[0m\u001b[1m(\u001b[22m\u001b[90madj\u001b[39m::\u001b[0mBitMatrix, \u001b[90ma\u001b[39m::\u001b[0mFloat64, \u001b[90mb\u001b[39m::\u001b[0mFloat64, \u001b[90mnb\u001b[39m::\u001b[0mInt64, \u001b[90mnb_iter\u001b[39m::\u001b[0mInt64, \u001b[90mx_star\u001b[39m::\u001b[0mVector\u001b[90m{Int8}\u001b[39m, \u001b[90marg\u001b[39m::\u001b[0mInt64\u001b[0m\u001b[1m)\u001b[22m\n    \u001b[90m    @ \u001b[39m\u001b[32mMain\u001b[39m \u001b[90m~/MA1/mcaa/github/MCAAProject/mcaa_julia/\u001b[39m\u001b[90m\u001b[4malgorithms.jl:104\u001b[24m\u001b[39m\n     [11] \u001b[0m\u001b[1mmacro expansion\u001b[22m\n    \u001b[90m    @ \u001b[39m\u001b[90m~/MA1/mcaa/github/MCAAProject/mcaa_julia/\u001b[39m\u001b[90m\u001b[4malgorithms.jl:150\u001b[24m\u001b[39m\u001b[90m [inlined]\u001b[39m\n     [12] \u001b[0m\u001b[1m(::var\"#60#threadsfor_fun#3\"{Int64, Float64, Float64, Vector{Int8}, typeof(houdayer), Int64, Int64, Matrix{Float64}, UnitRange{Int64}})\u001b[22m\u001b[0m\u001b[1m(\u001b[22m\u001b[90monethread\u001b[39m::\u001b[0mBool\u001b[0m\u001b[1m)\u001b[22m\n    \u001b[90m    @ \u001b[39m\u001b[32mMain\u001b[39m \u001b[90m./\u001b[39m\u001b[90m\u001b[4mthreadingconstructs.jl:85\u001b[24m\u001b[39m\n     [13] \u001b[0m\u001b[1m(::var\"#60#threadsfor_fun#3\"{Int64, Float64, Float64, Vector{Int8}, typeof(houdayer), Int64, Int64, Matrix{Float64}, UnitRange{Int64}})\u001b[22m\u001b[0m\u001b[1m(\u001b[22m\u001b[0m\u001b[1m)\u001b[22m\n    \u001b[90m    @ \u001b[39m\u001b[32mMain\u001b[39m \u001b[90m./\u001b[39m\u001b[90m\u001b[4mthreadingconstructs.jl:52\u001b[24m\u001b[39m",
      "",
      "Stacktrace:",
      "  [1] wait",
      "    @ ./task.jl:334 [inlined]",
      "  [2] threading_run(func::Function)",
      "    @ Base.Threads ./threadingconstructs.jl:38",
      "  [3] macro expansion",
      "    @ ./threadingconstructs.jl:97 [inlined]",
      "  [4] run_experiment(nb::Int64, a::Float64, b::Float64, x_star::Vector{Int8}, algorithm::typeof(houdayer), nb_iter::Int64, nb_exp::Int64, n0::Int64)",
      "    @ Main ~/MA1/mcaa/github/MCAAProject/mcaa_julia/algorithms.jl:145",
      "  [5] run_experiment(nb::Int64, a::Float64, b::Float64, x_star::Vector{Int8}, algorithm::Function, nb_iter::Int64, nb_exp::Int64)",
      "    @ Main ~/MA1/mcaa/github/MCAAProject/mcaa_julia/algorithms.jl:143",
      "  [6] macro expansion",
      "    @ ./In[15]:16 [inlined]",
      "  [7] top-level scope",
      "    @ ./timing.jl:220 [inlined]",
      "  [8] top-level scope",
      "    @ ./In[15]:0",
      "  [9] eval",
      "    @ ./boot.jl:373 [inlined]",
      " [10] include_string(mapexpr::typeof(REPL.softscope), mod::Module, code::String, filename::String)",
      "    @ Base ./loading.jl:1196"
     ]
    }
   ],
   "source": [
    "@time begin\n",
    "\n",
    "    \n",
    "    nb_iter = 80000\n",
    "    nb_exp = 100\n",
    "    a = 5.9\n",
    "    b = 0.1\n",
    "\n",
    "    N = 100\n",
    "    x_star = generate_x(N)\n",
    "    overlap_hat_houdayer_100 = run_experiment(N, a, b,\n",
    "        houdayer, nb_iter, nb_exp)\n",
    "    \n",
    "    N = 400\n",
    "    x_star = generate_x(N)\n",
    "    overlap_hat_houdayer_400 = run_experiment(N, a, b,\n",
    "        houdayer, nb_iter, nb_exp)\n",
    "    \n",
    "    N = 700\n",
    "    x_star = generate_x(N)\n",
    "    overlap_hat_houdayer_700 = run_experiment(N, a, b,\n",
    "        houdayer, nb_iter, nb_exp)\n",
    "    \n",
    "    N = 1000\n",
    "    x_star = generate_x(N)\n",
    "    overlap_hat_houdayer_1000 = run_experiment(N, a, b,\n",
    "        houdayer, nb_iter, nb_exp)\n",
    "end"
   ]
  },
  {
   "cell_type": "code",
   "execution_count": 43,
   "id": "5fd6846c",
   "metadata": {
    "scrolled": false
   },
   "outputs": [
    {
     "name": "stderr",
     "output_type": "stream",
     "text": [
      "┌ Warning: no data to be written to data/overlap_time_vector_houdayer_100.npy. It might not be possible to read the file correctly.\n",
      "└ @ NPZ /home/cpittet/.julia/packages/NPZ/UizJj/src/NPZ.jl:451\n"
     ]
    },
    {
     "ename": "LoadError",
     "evalue": "MethodError: no method matching getindex(::Nothing, ::Int64, ::Colon)",
     "output_type": "error",
     "traceback": [
      "MethodError: no method matching getindex(::Nothing, ::Int64, ::Colon)",
      "",
      "Stacktrace:",
      " [1] top-level scope",
      "   @ In[43]:3",
      " [2] eval",
      "   @ ./boot.jl:373 [inlined]",
      " [3] include_string(mapexpr::typeof(REPL.softscope), mod::Module, code::String, filename::String)",
      "   @ Base ./loading.jl:1196"
     ]
    }
   ],
   "source": [
    "Ns = Vector{Int64}([100, 300, 500, 700])\n",
    "x_vlines = nb_iter = f.(Ns)\n",
    "visualize_overlap(npzread(\"data/overlap_time_vector_houdayer_100.npy\")[1, :],\n",
    "    npzread(\"data/overlap_time_vector_houdayer_300.npy\")[1, :],\n",
    "    npzread(\"data/overlap_time_vector_houdayer_500.npy\")[1, :],\n",
    "    npzread(\"data/overlap_time_vector_houdayer_700.npy\")[1, :],\n",
    "    100, x_vlines, N, a, b)\n",
    "\n",
    "# Save figure\n",
    "savefig(\"figures/overlap_time_houdayer.png\")"
   ]
  },
  {
   "cell_type": "markdown",
   "id": "a8faed8e",
   "metadata": {},
   "source": [
    "## Overlap wrt r"
   ]
  },
  {
   "cell_type": "code",
   "execution_count": 51,
   "id": "798bbd83",
   "metadata": {},
   "outputs": [
    {
     "data": {
      "text/plain": [
       "([0.5045, 0.47119999999999995, 0.4743999999999998, 0.4534, 0.4618, 0.4622000000000001, 0.4714999999999999, 0.4405000000000001, 0.4275999999999999, 0.4885  …  0.3803000000000001, 0.3777, 0.3057, 0.2873, 0.2584, 0.21280000000000002, 0.15459999999999996, 0.12989999999999996, 0.10570000000000002, 0.0817], [1.0e-10, 1.4773776525985098e-10, 2.1826447283974916e-10, 3.224590545296398e-10, 4.76393801040134e-10, 7.038135554931547e-10, 1.039798418481492e-9, 1.5361749466718297e-9, 2.2695105366946685e-9, 3.352924149249553e-9  …  0.02982471286216891, 0.04406236427773573, 0.0650967523045817, 0.09617248711152965, 0.14208308325339222, 0.20991037201085547, 0.3101168926574778, 0.45815976690544913, 0.6768750009458534, 1.0])"
      ]
     },
     "execution_count": 51,
     "metadata": {},
     "output_type": "execute_result"
    }
   ],
   "source": [
    "@time begin\n",
    "\n",
    "    nb_exp = 100\n",
    "    d = 3\n",
    "    nb_r = 10\n",
    "\n",
    "    N = 100\n",
    "    nb_iter = f(N)\n",
    "    x_star = generate_x(N)\n",
    "    overlap_r_vector_houdayer_100, range_r_100 = overlap_r(x_star, houdayer, N, nb_iter, nb_exp, d)\n",
    "    \n",
    "    N = 400\n",
    "    nb_iter = f(N)\n",
    "    x_star = generate_x(N)\n",
    "    overlap_r_vector_houdayer_400, range_r_400 = overlap_r(x_star, houdayer, N, nb_iter, nb_exp, d)\n",
    "    \n",
    "    N = 700\n",
    "    nb_iter = f(N)\n",
    "    x_star = generate_x(N)\n",
    "    overlap_r_vector_houdayer_700, range_r_700 = overlap_r(x_star, houdayer, N, nb_iter, nb_exp, d)\n",
    "    \n",
    "    N = 1000\n",
    "    nb_iter = f(N)\n",
    "    x_star = generate_x(N)\n",
    "    overlap_r_vector_houdayer_1000, range_r_1000 = overlap_r(x_star, houdayer, N, nb_iter, nb_exp, d)\n",
    "    \n",
    "end"
   ]
  },
  {
   "cell_type": "code",
   "execution_count": 53,
   "id": "3dba1dfc",
   "metadata": {},
   "outputs": [
    {
     "data": {
      "image/svg+xml": [
       "<?xml version=\"1.0\" encoding=\"utf-8\"?>\n",
       "<svg xmlns=\"http://www.w3.org/2000/svg\" xmlns:xlink=\"http://www.w3.org/1999/xlink\" width=\"600\" height=\"400\" viewBox=\"0 0 2400 1600\">\n",
       "<defs>\n",
       "  <clipPath id=\"clip640\">\n",
       "    <rect x=\"0\" y=\"0\" width=\"2400\" height=\"1600\"/>\n",
       "  </clipPath>\n",
       "</defs>\n",
       "<path clip-path=\"url(#clip640)\" d=\"\n",
       "M0 1600 L2400 1600 L2400 0 L0 0  Z\n",
       "  \" fill=\"#ffffff\" fill-rule=\"evenodd\" fill-opacity=\"1\"/>\n",
       "<defs>\n",
       "  <clipPath id=\"clip641\">\n",
       "    <rect x=\"480\" y=\"0\" width=\"1681\" height=\"1600\"/>\n",
       "  </clipPath>\n",
       "</defs>\n",
       "<path clip-path=\"url(#clip640)\" d=\"\n",
       "M219.866 1410.9 L2352.76 1410.9 L2352.76 123.472 L219.866 123.472  Z\n",
       "  \" fill=\"#ffffff\" fill-rule=\"evenodd\" fill-opacity=\"1\"/>\n",
       "<defs>\n",
       "  <clipPath id=\"clip642\">\n",
       "    <rect x=\"219\" y=\"123\" width=\"2134\" height=\"1288\"/>\n",
       "  </clipPath>\n",
       "</defs>\n",
       "<polyline clip-path=\"url(#clip642)\" style=\"stroke:#000000; stroke-linecap:butt; stroke-linejoin:round; stroke-width:2; stroke-opacity:0.1; fill:none\" points=\"\n",
       "  280.231,1410.9 280.231,123.472 \n",
       "  \"/>\n",
       "<polyline clip-path=\"url(#clip642)\" style=\"stroke:#000000; stroke-linecap:butt; stroke-linejoin:round; stroke-width:2; stroke-opacity:0.1; fill:none\" points=\"\n",
       "  1286.31,1410.9 1286.31,123.472 \n",
       "  \"/>\n",
       "<polyline clip-path=\"url(#clip642)\" style=\"stroke:#000000; stroke-linecap:butt; stroke-linejoin:round; stroke-width:2; stroke-opacity:0.1; fill:none\" points=\"\n",
       "  2292.39,1410.9 2292.39,123.472 \n",
       "  \"/>\n",
       "<polyline clip-path=\"url(#clip640)\" style=\"stroke:#000000; stroke-linecap:butt; stroke-linejoin:round; stroke-width:4; stroke-opacity:1; fill:none\" points=\"\n",
       "  219.866,1410.9 2352.76,1410.9 \n",
       "  \"/>\n",
       "<polyline clip-path=\"url(#clip640)\" style=\"stroke:#000000; stroke-linecap:butt; stroke-linejoin:round; stroke-width:4; stroke-opacity:1; fill:none\" points=\"\n",
       "  280.231,1410.9 280.231,1392 \n",
       "  \"/>\n",
       "<polyline clip-path=\"url(#clip640)\" style=\"stroke:#000000; stroke-linecap:butt; stroke-linejoin:round; stroke-width:4; stroke-opacity:1; fill:none\" points=\"\n",
       "  1286.31,1410.9 1286.31,1392 \n",
       "  \"/>\n",
       "<polyline clip-path=\"url(#clip640)\" style=\"stroke:#000000; stroke-linecap:butt; stroke-linejoin:round; stroke-width:4; stroke-opacity:1; fill:none\" points=\"\n",
       "  2292.39,1410.9 2292.39,1392 \n",
       "  \"/>\n",
       "<path clip-path=\"url(#clip640)\" d=\"M217.595 1485.02 L225.234 1485.02 L225.234 1458.66 L216.923 1460.32 L216.923 1456.06 L225.187 1454.4 L229.863 1454.4 L229.863 1485.02 L237.502 1485.02 L237.502 1488.96 L217.595 1488.96 L217.595 1485.02 Z\" fill=\"#000000\" fill-rule=\"evenodd\" fill-opacity=\"1\" /><path clip-path=\"url(#clip640)\" d=\"M256.946 1457.48 Q253.335 1457.48 251.507 1461.04 Q249.701 1464.58 249.701 1471.71 Q249.701 1478.82 251.507 1482.38 Q253.335 1485.92 256.946 1485.92 Q260.581 1485.92 262.386 1482.38 Q264.215 1478.82 264.215 1471.71 Q264.215 1464.58 262.386 1461.04 Q260.581 1457.48 256.946 1457.48 M256.946 1453.77 Q262.756 1453.77 265.812 1458.38 Q268.891 1462.96 268.891 1471.71 Q268.891 1480.44 265.812 1485.04 Q262.756 1489.63 256.946 1489.63 Q251.136 1489.63 248.057 1485.04 Q245.002 1480.44 245.002 1471.71 Q245.002 1462.96 248.057 1458.38 Q251.136 1453.77 256.946 1453.77 Z\" fill=\"#000000\" fill-rule=\"evenodd\" fill-opacity=\"1\" /><path clip-path=\"url(#clip640)\" d=\"M268.891 1447.87 L293.002 1447.87 L293.002 1451.07 L268.891 1451.07 L268.891 1447.87 Z\" fill=\"#000000\" fill-rule=\"evenodd\" fill-opacity=\"1\" /><path clip-path=\"url(#clip640)\" d=\"M301.861 1458.35 L308.067 1458.35 L308.067 1436.93 L301.315 1438.28 L301.315 1434.82 L308.03 1433.47 L311.829 1433.47 L311.829 1458.35 L318.035 1458.35 L318.035 1461.55 L301.861 1461.55 L301.861 1458.35 Z\" fill=\"#000000\" fill-rule=\"evenodd\" fill-opacity=\"1\" /><path clip-path=\"url(#clip640)\" d=\"M333.834 1435.97 Q330.9 1435.97 329.414 1438.86 Q327.947 1441.74 327.947 1447.53 Q327.947 1453.31 329.414 1456.2 Q330.9 1459.08 333.834 1459.08 Q336.787 1459.08 338.254 1456.2 Q339.74 1453.31 339.74 1447.53 Q339.74 1441.74 338.254 1438.86 Q336.787 1435.97 333.834 1435.97 M333.834 1432.96 Q338.555 1432.96 341.037 1436.7 Q343.539 1440.43 343.539 1447.53 Q343.539 1454.62 341.037 1458.37 Q338.555 1462.09 333.834 1462.09 Q329.113 1462.09 326.612 1458.37 Q324.129 1454.62 324.129 1447.53 Q324.129 1440.43 326.612 1436.7 Q329.113 1432.96 333.834 1432.96 Z\" fill=\"#000000\" fill-rule=\"evenodd\" fill-opacity=\"1\" /><path clip-path=\"url(#clip640)\" d=\"M1236.33 1485.02 L1243.97 1485.02 L1243.97 1458.66 L1235.66 1460.32 L1235.66 1456.06 L1243.92 1454.4 L1248.6 1454.4 L1248.6 1485.02 L1256.24 1485.02 L1256.24 1488.96 L1236.33 1488.96 L1236.33 1485.02 Z\" fill=\"#000000\" fill-rule=\"evenodd\" fill-opacity=\"1\" /><path clip-path=\"url(#clip640)\" d=\"M1275.68 1457.48 Q1272.07 1457.48 1270.24 1461.04 Q1268.44 1464.58 1268.44 1471.71 Q1268.44 1478.82 1270.24 1482.38 Q1272.07 1485.92 1275.68 1485.92 Q1279.32 1485.92 1281.12 1482.38 Q1282.95 1478.82 1282.95 1471.71 Q1282.95 1464.58 1281.12 1461.04 Q1279.32 1457.48 1275.68 1457.48 M1275.68 1453.77 Q1281.49 1453.77 1284.55 1458.38 Q1287.63 1462.96 1287.63 1471.71 Q1287.63 1480.44 1284.55 1485.04 Q1281.49 1489.63 1275.68 1489.63 Q1269.87 1489.63 1266.8 1485.04 Q1263.74 1480.44 1263.74 1471.71 Q1263.74 1462.96 1266.8 1458.38 Q1269.87 1453.77 1275.68 1453.77 Z\" fill=\"#000000\" fill-rule=\"evenodd\" fill-opacity=\"1\" /><path clip-path=\"url(#clip640)\" d=\"M1287.63 1447.87 L1311.74 1447.87 L1311.74 1451.07 L1287.63 1451.07 L1287.63 1447.87 Z\" fill=\"#000000\" fill-rule=\"evenodd\" fill-opacity=\"1\" /><path clip-path=\"url(#clip640)\" d=\"M1319.98 1433.47 L1334.89 1433.47 L1334.89 1436.66 L1323.46 1436.66 L1323.46 1443.55 Q1324.28 1443.27 1325.11 1443.13 Q1325.94 1442.98 1326.77 1442.98 Q1331.47 1442.98 1334.22 1445.56 Q1336.96 1448.14 1336.96 1452.54 Q1336.96 1457.07 1334.14 1459.59 Q1331.32 1462.09 1326.18 1462.09 Q1324.42 1462.09 1322.57 1461.79 Q1320.75 1461.49 1318.79 1460.89 L1318.79 1457.07 Q1320.49 1457.99 1322.29 1458.44 Q1324.1 1458.89 1326.11 1458.89 Q1329.36 1458.89 1331.26 1457.18 Q1333.16 1455.47 1333.16 1452.54 Q1333.16 1449.6 1331.26 1447.89 Q1329.36 1446.18 1326.11 1446.18 Q1324.59 1446.18 1323.06 1446.52 Q1321.56 1446.86 1319.98 1447.57 L1319.98 1433.47 Z\" fill=\"#000000\" fill-rule=\"evenodd\" fill-opacity=\"1\" /><path clip-path=\"url(#clip640)\" d=\"M2257.37 1485.02 L2265.01 1485.02 L2265.01 1458.66 L2256.7 1460.32 L2256.7 1456.06 L2264.97 1454.4 L2269.64 1454.4 L2269.64 1485.02 L2277.28 1485.02 L2277.28 1488.96 L2257.37 1488.96 L2257.37 1485.02 Z\" fill=\"#000000\" fill-rule=\"evenodd\" fill-opacity=\"1\" /><path clip-path=\"url(#clip640)\" d=\"M2296.73 1457.48 Q2293.11 1457.48 2291.29 1461.04 Q2289.48 1464.58 2289.48 1471.71 Q2289.48 1478.82 2291.29 1482.38 Q2293.11 1485.92 2296.73 1485.92 Q2300.36 1485.92 2302.17 1482.38 Q2303.99 1478.82 2303.99 1471.71 Q2303.99 1464.58 2302.17 1461.04 Q2300.36 1457.48 2296.73 1457.48 M2296.73 1453.77 Q2302.54 1453.77 2305.59 1458.38 Q2308.67 1462.96 2308.67 1471.71 Q2308.67 1480.44 2305.59 1485.04 Q2302.54 1489.63 2296.73 1489.63 Q2290.92 1489.63 2287.84 1485.04 Q2284.78 1480.44 2284.78 1471.71 Q2284.78 1462.96 2287.84 1458.38 Q2290.92 1453.77 2296.73 1453.77 Z\" fill=\"#000000\" fill-rule=\"evenodd\" fill-opacity=\"1\" /><path clip-path=\"url(#clip640)\" d=\"M2318.37 1435.97 Q2315.44 1435.97 2313.95 1438.86 Q2312.49 1441.74 2312.49 1447.53 Q2312.49 1453.31 2313.95 1456.2 Q2315.44 1459.08 2318.37 1459.08 Q2321.33 1459.08 2322.79 1456.2 Q2324.28 1453.31 2324.28 1447.53 Q2324.28 1441.74 2322.79 1438.86 Q2321.33 1435.97 2318.37 1435.97 M2318.37 1432.96 Q2323.1 1432.96 2325.58 1436.7 Q2328.08 1440.43 2328.08 1447.53 Q2328.08 1454.62 2325.58 1458.37 Q2323.1 1462.09 2318.37 1462.09 Q2313.65 1462.09 2311.15 1458.37 Q2308.67 1454.62 2308.67 1447.53 Q2308.67 1440.43 2311.15 1436.7 Q2313.65 1432.96 2318.37 1432.96 Z\" fill=\"#000000\" fill-rule=\"evenodd\" fill-opacity=\"1\" /><path clip-path=\"url(#clip640)\" d=\"M1296.75 1544.01 Q1295.76 1543.44 1294.59 1543.18 Q1293.44 1542.9 1292.04 1542.9 Q1287.07 1542.9 1284.4 1546.14 Q1281.76 1549.36 1281.76 1555.41 L1281.76 1574.19 L1275.87 1574.19 L1275.87 1538.54 L1281.76 1538.54 L1281.76 1544.08 Q1283.61 1540.83 1286.57 1539.27 Q1289.53 1537.68 1293.76 1537.68 Q1294.36 1537.68 1295.1 1537.77 Q1295.83 1537.84 1296.72 1538 L1296.75 1544.01 Z\" fill=\"#000000\" fill-rule=\"evenodd\" fill-opacity=\"1\" /><polyline clip-path=\"url(#clip642)\" style=\"stroke:#000000; stroke-linecap:butt; stroke-linejoin:round; stroke-width:2; stroke-opacity:0.1; fill:none\" points=\"\n",
       "  219.866,1321.89 2352.76,1321.89 \n",
       "  \"/>\n",
       "<polyline clip-path=\"url(#clip642)\" style=\"stroke:#000000; stroke-linecap:butt; stroke-linejoin:round; stroke-width:2; stroke-opacity:0.1; fill:none\" points=\"\n",
       "  219.866,1034.63 2352.76,1034.63 \n",
       "  \"/>\n",
       "<polyline clip-path=\"url(#clip642)\" style=\"stroke:#000000; stroke-linecap:butt; stroke-linejoin:round; stroke-width:2; stroke-opacity:0.1; fill:none\" points=\"\n",
       "  219.866,747.363 2352.76,747.363 \n",
       "  \"/>\n",
       "<polyline clip-path=\"url(#clip642)\" style=\"stroke:#000000; stroke-linecap:butt; stroke-linejoin:round; stroke-width:2; stroke-opacity:0.1; fill:none\" points=\"\n",
       "  219.866,460.099 2352.76,460.099 \n",
       "  \"/>\n",
       "<polyline clip-path=\"url(#clip642)\" style=\"stroke:#000000; stroke-linecap:butt; stroke-linejoin:round; stroke-width:2; stroke-opacity:0.1; fill:none\" points=\"\n",
       "  219.866,172.836 2352.76,172.836 \n",
       "  \"/>\n",
       "<polyline clip-path=\"url(#clip640)\" style=\"stroke:#000000; stroke-linecap:butt; stroke-linejoin:round; stroke-width:4; stroke-opacity:1; fill:none\" points=\"\n",
       "  219.866,1410.9 219.866,123.472 \n",
       "  \"/>\n",
       "<polyline clip-path=\"url(#clip640)\" style=\"stroke:#000000; stroke-linecap:butt; stroke-linejoin:round; stroke-width:4; stroke-opacity:1; fill:none\" points=\"\n",
       "  219.866,1321.89 238.764,1321.89 \n",
       "  \"/>\n",
       "<polyline clip-path=\"url(#clip640)\" style=\"stroke:#000000; stroke-linecap:butt; stroke-linejoin:round; stroke-width:4; stroke-opacity:1; fill:none\" points=\"\n",
       "  219.866,1034.63 238.764,1034.63 \n",
       "  \"/>\n",
       "<polyline clip-path=\"url(#clip640)\" style=\"stroke:#000000; stroke-linecap:butt; stroke-linejoin:round; stroke-width:4; stroke-opacity:1; fill:none\" points=\"\n",
       "  219.866,747.363 238.764,747.363 \n",
       "  \"/>\n",
       "<polyline clip-path=\"url(#clip640)\" style=\"stroke:#000000; stroke-linecap:butt; stroke-linejoin:round; stroke-width:4; stroke-opacity:1; fill:none\" points=\"\n",
       "  219.866,460.099 238.764,460.099 \n",
       "  \"/>\n",
       "<polyline clip-path=\"url(#clip640)\" style=\"stroke:#000000; stroke-linecap:butt; stroke-linejoin:round; stroke-width:4; stroke-opacity:1; fill:none\" points=\"\n",
       "  219.866,172.836 238.764,172.836 \n",
       "  \"/>\n",
       "<path clip-path=\"url(#clip640)\" d=\"M127.917 1307.69 Q124.306 1307.69 122.478 1311.25 Q120.672 1314.8 120.672 1321.93 Q120.672 1329.03 122.478 1332.6 Q124.306 1336.14 127.917 1336.14 Q131.552 1336.14 133.357 1332.6 Q135.186 1329.03 135.186 1321.93 Q135.186 1314.8 133.357 1311.25 Q131.552 1307.69 127.917 1307.69 M127.917 1303.99 Q133.728 1303.99 136.783 1308.59 Q139.862 1313.18 139.862 1321.93 Q139.862 1330.65 136.783 1335.26 Q133.728 1339.84 127.917 1339.84 Q122.107 1339.84 119.029 1335.26 Q115.973 1330.65 115.973 1321.93 Q115.973 1313.18 119.029 1308.59 Q122.107 1303.99 127.917 1303.99 Z\" fill=\"#000000\" fill-rule=\"evenodd\" fill-opacity=\"1\" /><path clip-path=\"url(#clip640)\" d=\"M148.079 1333.29 L152.964 1333.29 L152.964 1339.17 L148.079 1339.17 L148.079 1333.29 Z\" fill=\"#000000\" fill-rule=\"evenodd\" fill-opacity=\"1\" /><path clip-path=\"url(#clip640)\" d=\"M163.959 1335.24 L171.598 1335.24 L171.598 1308.87 L163.288 1310.54 L163.288 1306.28 L171.552 1304.61 L176.227 1304.61 L176.227 1335.24 L183.866 1335.24 L183.866 1339.17 L163.959 1339.17 L163.959 1335.24 Z\" fill=\"#000000\" fill-rule=\"evenodd\" fill-opacity=\"1\" /><path clip-path=\"url(#clip640)\" d=\"M128.288 1020.43 Q124.677 1020.43 122.848 1023.99 Q121.043 1027.53 121.043 1034.66 Q121.043 1041.77 122.848 1045.33 Q124.677 1048.87 128.288 1048.87 Q131.922 1048.87 133.728 1045.33 Q135.556 1041.77 135.556 1034.66 Q135.556 1027.53 133.728 1023.99 Q131.922 1020.43 128.288 1020.43 M128.288 1016.72 Q134.098 1016.72 137.154 1021.33 Q140.232 1025.91 140.232 1034.66 Q140.232 1043.39 137.154 1047.99 Q134.098 1052.58 128.288 1052.58 Q122.478 1052.58 119.399 1047.99 Q116.343 1043.39 116.343 1034.66 Q116.343 1025.91 119.399 1021.33 Q122.478 1016.72 128.288 1016.72 Z\" fill=\"#000000\" fill-rule=\"evenodd\" fill-opacity=\"1\" /><path clip-path=\"url(#clip640)\" d=\"M148.45 1046.03 L153.334 1046.03 L153.334 1051.91 L148.45 1051.91 L148.45 1046.03 Z\" fill=\"#000000\" fill-rule=\"evenodd\" fill-opacity=\"1\" /><path clip-path=\"url(#clip640)\" d=\"M167.547 1047.97 L183.866 1047.97 L183.866 1051.91 L161.922 1051.91 L161.922 1047.97 Q164.584 1045.22 169.167 1040.59 Q173.774 1035.93 174.954 1034.59 Q177.2 1032.07 178.079 1030.33 Q178.982 1028.57 178.982 1026.88 Q178.982 1024.13 177.038 1022.39 Q175.116 1020.66 172.014 1020.66 Q169.815 1020.66 167.362 1021.42 Q164.931 1022.18 162.153 1023.74 L162.153 1019.01 Q164.977 1017.88 167.431 1017.3 Q169.885 1016.72 171.922 1016.72 Q177.292 1016.72 180.487 1019.41 Q183.681 1022.09 183.681 1026.58 Q183.681 1028.71 182.871 1030.63 Q182.084 1032.53 179.977 1035.12 Q179.399 1035.8 176.297 1039.01 Q173.195 1042.21 167.547 1047.97 Z\" fill=\"#000000\" fill-rule=\"evenodd\" fill-opacity=\"1\" /><path clip-path=\"url(#clip640)\" d=\"M127.339 733.162 Q123.728 733.162 121.899 736.727 Q120.093 740.268 120.093 747.398 Q120.093 754.504 121.899 758.069 Q123.728 761.611 127.339 761.611 Q130.973 761.611 132.779 758.069 Q134.607 754.504 134.607 747.398 Q134.607 740.268 132.779 736.727 Q130.973 733.162 127.339 733.162 M127.339 729.458 Q133.149 729.458 136.204 734.065 Q139.283 738.648 139.283 747.398 Q139.283 756.125 136.204 760.731 Q133.149 765.314 127.339 765.314 Q121.529 765.314 118.45 760.731 Q115.394 756.125 115.394 747.398 Q115.394 738.648 118.45 734.065 Q121.529 729.458 127.339 729.458 Z\" fill=\"#000000\" fill-rule=\"evenodd\" fill-opacity=\"1\" /><path clip-path=\"url(#clip640)\" d=\"M147.501 758.764 L152.385 758.764 L152.385 764.643 L147.501 764.643 L147.501 758.764 Z\" fill=\"#000000\" fill-rule=\"evenodd\" fill-opacity=\"1\" /><path clip-path=\"url(#clip640)\" d=\"M176.737 746.009 Q180.093 746.727 181.968 748.995 Q183.866 751.264 183.866 754.597 Q183.866 759.713 180.348 762.514 Q176.829 765.314 170.348 765.314 Q168.172 765.314 165.857 764.875 Q163.565 764.458 161.112 763.602 L161.112 759.088 Q163.056 760.222 165.371 760.801 Q167.686 761.379 170.209 761.379 Q174.607 761.379 176.899 759.643 Q179.214 757.907 179.214 754.597 Q179.214 751.541 177.061 749.828 Q174.931 748.092 171.112 748.092 L167.084 748.092 L167.084 744.25 L171.297 744.25 Q174.746 744.25 176.575 742.884 Q178.403 741.495 178.403 738.903 Q178.403 736.241 176.505 734.829 Q174.63 733.393 171.112 733.393 Q169.19 733.393 166.991 733.81 Q164.792 734.227 162.153 735.106 L162.153 730.94 Q164.815 730.199 167.13 729.829 Q169.468 729.458 171.528 729.458 Q176.852 729.458 179.954 731.889 Q183.056 734.296 183.056 738.416 Q183.056 741.287 181.413 743.278 Q179.769 745.245 176.737 746.009 Z\" fill=\"#000000\" fill-rule=\"evenodd\" fill-opacity=\"1\" /><path clip-path=\"url(#clip640)\" d=\"M126.205 445.898 Q122.593 445.898 120.765 449.463 Q118.959 453.004 118.959 460.134 Q118.959 467.241 120.765 470.805 Q122.593 474.347 126.205 474.347 Q129.839 474.347 131.644 470.805 Q133.473 467.241 133.473 460.134 Q133.473 453.004 131.644 449.463 Q129.839 445.898 126.205 445.898 M126.205 442.194 Q132.015 442.194 135.07 446.801 Q138.149 451.384 138.149 460.134 Q138.149 468.861 135.07 473.467 Q132.015 478.051 126.205 478.051 Q120.394 478.051 117.316 473.467 Q114.26 468.861 114.26 460.134 Q114.26 451.384 117.316 446.801 Q120.394 442.194 126.205 442.194 Z\" fill=\"#000000\" fill-rule=\"evenodd\" fill-opacity=\"1\" /><path clip-path=\"url(#clip640)\" d=\"M146.366 471.5 L151.251 471.5 L151.251 477.379 L146.366 477.379 L146.366 471.5 Z\" fill=\"#000000\" fill-rule=\"evenodd\" fill-opacity=\"1\" /><path clip-path=\"url(#clip640)\" d=\"M174.283 446.893 L162.477 465.342 L174.283 465.342 L174.283 446.893 M173.056 442.819 L178.936 442.819 L178.936 465.342 L183.866 465.342 L183.866 469.231 L178.936 469.231 L178.936 477.379 L174.283 477.379 L174.283 469.231 L158.681 469.231 L158.681 464.717 L173.056 442.819 Z\" fill=\"#000000\" fill-rule=\"evenodd\" fill-opacity=\"1\" /><path clip-path=\"url(#clip640)\" d=\"M127.686 158.634 Q124.075 158.634 122.246 162.199 Q120.441 165.741 120.441 172.87 Q120.441 179.977 122.246 183.542 Q124.075 187.083 127.686 187.083 Q131.32 187.083 133.126 183.542 Q134.954 179.977 134.954 172.87 Q134.954 165.741 133.126 162.199 Q131.32 158.634 127.686 158.634 M127.686 154.931 Q133.496 154.931 136.552 159.537 Q139.63 164.12 139.63 172.87 Q139.63 181.597 136.552 186.204 Q133.496 190.787 127.686 190.787 Q121.876 190.787 118.797 186.204 Q115.742 181.597 115.742 172.87 Q115.742 164.12 118.797 159.537 Q121.876 154.931 127.686 154.931 Z\" fill=\"#000000\" fill-rule=\"evenodd\" fill-opacity=\"1\" /><path clip-path=\"url(#clip640)\" d=\"M147.848 184.236 L152.732 184.236 L152.732 190.116 L147.848 190.116 L147.848 184.236 Z\" fill=\"#000000\" fill-rule=\"evenodd\" fill-opacity=\"1\" /><path clip-path=\"url(#clip640)\" d=\"M162.964 155.556 L181.32 155.556 L181.32 159.491 L167.246 159.491 L167.246 167.963 Q168.264 167.616 169.283 167.454 Q170.302 167.268 171.32 167.268 Q177.107 167.268 180.487 170.44 Q183.866 173.611 183.866 179.028 Q183.866 184.606 180.394 187.708 Q176.922 190.787 170.602 190.787 Q168.427 190.787 166.158 190.416 Q163.913 190.046 161.505 189.305 L161.505 184.606 Q163.589 185.741 165.811 186.296 Q168.033 186.852 170.51 186.852 Q174.514 186.852 176.852 184.745 Q179.19 182.639 179.19 179.028 Q179.19 175.417 176.852 173.31 Q174.514 171.204 170.51 171.204 Q168.635 171.204 166.76 171.62 Q164.908 172.037 162.964 172.917 L162.964 155.556 Z\" fill=\"#000000\" fill-rule=\"evenodd\" fill-opacity=\"1\" /><path clip-path=\"url(#clip640)\" d=\"M22.818 936.496 L46.4666 945.217 L46.4666 927.743 L22.818 936.496 M16.4842 940.125 L16.4842 932.836 L64.0042 914.726 L64.0042 921.41 L51.8138 925.738 L51.8138 947.159 L64.0042 951.488 L64.0042 958.267 L16.4842 940.125 Z\" fill=\"#000000\" fill-rule=\"evenodd\" fill-opacity=\"1\" /><path clip-path=\"url(#clip640)\" d=\"M28.3562 916.062 L28.3562 909.856 L58.275 898.716 L28.3562 887.576 L28.3562 881.369 L64.0042 894.737 L64.0042 902.694 L28.3562 916.062 Z\" fill=\"#000000\" fill-rule=\"evenodd\" fill-opacity=\"1\" /><path clip-path=\"url(#clip640)\" d=\"M45.7664 849.827 Q39.4007 849.827 35.8996 852.469 Q32.3984 855.079 32.3984 859.821 Q32.3984 864.532 35.8996 867.174 Q39.4007 869.784 45.7664 869.784 Q52.1003 869.784 55.6014 867.174 Q59.1026 864.532 59.1026 859.821 Q59.1026 855.079 55.6014 852.469 Q52.1003 849.827 45.7664 849.827 M59.58 843.971 Q68.683 843.971 73.1071 848.013 Q77.5631 852.055 77.5631 860.394 Q77.5631 863.482 77.0857 866.219 Q76.6401 868.956 75.6852 871.534 L69.9879 871.534 Q71.3884 868.956 72.0568 866.442 Q72.7252 863.927 72.7252 861.317 Q72.7252 855.556 69.7015 852.692 Q66.7096 849.827 60.6303 849.827 L57.7339 849.827 Q60.885 851.641 62.4446 854.474 Q64.0042 857.307 64.0042 861.254 Q64.0042 867.81 59.0071 871.821 Q54.01 875.831 45.7664 875.831 Q37.491 875.831 32.4939 871.821 Q27.4968 867.81 27.4968 861.254 Q27.4968 857.307 29.0564 854.474 Q30.616 851.641 33.7671 849.827 L28.3562 849.827 L28.3562 843.971 L59.58 843.971 Z\" fill=\"#000000\" fill-rule=\"evenodd\" fill-opacity=\"1\" /><path clip-path=\"url(#clip640)\" d=\"M32.4621 797.374 Q32.4621 802.084 36.1542 804.822 Q39.8145 807.559 46.212 807.559 Q52.6095 807.559 56.3017 804.853 Q59.9619 802.116 59.9619 797.374 Q59.9619 792.695 56.2698 789.958 Q52.5777 787.22 46.212 787.22 Q39.8781 787.22 36.186 789.958 Q32.4621 792.695 32.4621 797.374 M27.4968 797.374 Q27.4968 789.735 32.4621 785.374 Q37.4273 781.014 46.212 781.014 Q54.9649 781.014 59.9619 785.374 Q64.9272 789.735 64.9272 797.374 Q64.9272 805.044 59.9619 809.405 Q54.9649 813.734 46.212 813.734 Q37.4273 813.734 32.4621 809.405 Q27.4968 805.044 27.4968 797.374 Z\" fill=\"#000000\" fill-rule=\"evenodd\" fill-opacity=\"1\" /><path clip-path=\"url(#clip640)\" d=\"M28.3562 775.508 L28.3562 769.301 L58.275 758.161 L28.3562 747.021 L28.3562 740.814 L64.0042 754.182 L64.0042 762.14 L28.3562 775.508 Z\" fill=\"#000000\" fill-rule=\"evenodd\" fill-opacity=\"1\" /><path clip-path=\"url(#clip640)\" d=\"M44.7161 702.238 L47.5806 702.238 L47.5806 729.165 Q53.6281 728.783 56.8109 725.537 Q59.9619 722.258 59.9619 716.434 Q59.9619 713.06 59.1344 709.909 Q58.3069 706.726 56.6518 703.607 L62.1899 703.607 Q63.5267 706.758 64.227 710.068 Q64.9272 713.378 64.9272 716.784 Q64.9272 725.314 59.9619 730.311 Q54.9967 735.276 46.5303 735.276 Q37.7774 735.276 32.6531 730.566 Q27.4968 725.823 27.4968 717.802 Q27.4968 710.609 32.1438 706.44 Q36.7589 702.238 44.7161 702.238 M42.9973 708.095 Q38.1912 708.158 35.3266 710.8 Q32.4621 713.41 32.4621 717.739 Q32.4621 722.64 35.2312 725.6 Q38.0002 728.529 43.0292 728.974 L42.9973 708.095 Z\" fill=\"#000000\" fill-rule=\"evenodd\" fill-opacity=\"1\" /><path clip-path=\"url(#clip640)\" d=\"M33.8307 671.969 Q33.2578 672.956 33.0032 674.134 Q32.7167 675.279 32.7167 676.68 Q32.7167 681.645 35.9632 684.319 Q39.1779 686.961 45.2253 686.961 L64.0042 686.961 L64.0042 692.849 L28.3562 692.849 L28.3562 686.961 L33.8944 686.961 Q30.6479 685.115 29.0883 682.154 Q27.4968 679.194 27.4968 674.961 Q27.4968 674.356 27.5923 673.624 Q27.656 672.892 27.8151 672.001 L33.8307 671.969 Z\" fill=\"#000000\" fill-rule=\"evenodd\" fill-opacity=\"1\" /><path clip-path=\"url(#clip640)\" d=\"M14.479 665.826 L14.479 659.97 L64.0042 659.97 L64.0042 665.826 L14.479 665.826 Z\" fill=\"#000000\" fill-rule=\"evenodd\" fill-opacity=\"1\" /><path clip-path=\"url(#clip640)\" d=\"M46.0847 631.515 Q46.0847 638.613 47.7079 641.35 Q49.3312 644.088 53.2461 644.088 Q56.3653 644.088 58.2114 642.051 Q60.0256 639.982 60.0256 636.449 Q60.0256 631.579 56.5881 628.651 Q53.1188 625.691 47.3897 625.691 L46.0847 625.691 L46.0847 631.515 M43.6657 619.834 L64.0042 619.834 L64.0042 625.691 L58.5933 625.691 Q61.8398 627.696 63.3994 630.688 Q64.9272 633.68 64.9272 638.008 Q64.9272 643.483 61.8716 646.729 Q58.7843 649.944 53.6281 649.944 Q47.6125 649.944 44.5569 645.934 Q41.5014 641.891 41.5014 633.902 L41.5014 625.691 L40.9285 625.691 Q36.8862 625.691 34.6901 628.364 Q32.4621 631.006 32.4621 635.812 Q32.4621 638.868 33.1941 641.764 Q33.9262 644.66 35.3903 647.334 L29.9795 647.334 Q28.7381 644.119 28.1334 641.096 Q27.4968 638.072 27.4968 635.207 Q27.4968 627.473 31.5072 623.654 Q35.5176 619.834 43.6657 619.834 Z\" fill=\"#000000\" fill-rule=\"evenodd\" fill-opacity=\"1\" /><path clip-path=\"url(#clip640)\" d=\"M58.657 602.106 L77.5631 602.106 L77.5631 607.994 L28.3562 607.994 L28.3562 602.106 L33.7671 602.106 Q30.5842 600.26 29.0564 597.459 Q27.4968 594.626 27.4968 590.711 Q27.4968 584.218 32.6531 580.176 Q37.8093 576.102 46.212 576.102 Q54.6147 576.102 59.771 580.176 Q64.9272 584.218 64.9272 590.711 Q64.9272 594.626 63.3994 597.459 Q61.8398 600.26 58.657 602.106 M46.212 582.181 Q39.7508 582.181 36.0905 584.855 Q32.3984 587.496 32.3984 592.143 Q32.3984 596.79 36.0905 599.464 Q39.7508 602.106 46.212 602.106 Q52.6732 602.106 56.3653 599.464 Q60.0256 596.79 60.0256 592.143 Q60.0256 587.496 56.3653 584.855 Q52.6732 582.181 46.212 582.181 Z\" fill=\"#000000\" fill-rule=\"evenodd\" fill-opacity=\"1\" /><path clip-path=\"url(#clip640)\" d=\"M505.965 20.1573 L494.866 50.2555 L517.105 50.2555 L505.965 20.1573 M501.347 12.096 L510.624 12.096 L533.673 72.576 L525.166 72.576 L519.657 57.061 L492.395 57.061 L486.885 72.576 L478.257 72.576 L501.347 12.096 Z\" fill=\"#000000\" fill-rule=\"evenodd\" fill-opacity=\"1\" /><path clip-path=\"url(#clip640)\" d=\"M531.972 27.2059 L539.871 27.2059 L554.049 65.2844 L568.228 27.2059 L576.127 27.2059 L559.113 72.576 L548.986 72.576 L531.972 27.2059 Z\" fill=\"#000000\" fill-rule=\"evenodd\" fill-opacity=\"1\" /><path clip-path=\"url(#clip640)\" d=\"M625.224 48.0275 L625.224 51.6733 L590.953 51.6733 Q591.439 59.3701 595.571 63.421 Q599.744 67.4314 607.157 67.4314 Q611.451 67.4314 615.461 66.3781 Q619.512 65.3249 623.482 63.2184 L623.482 70.267 Q619.471 71.9684 615.259 72.8596 Q611.046 73.7508 606.711 73.7508 Q595.855 73.7508 589.495 67.4314 Q583.175 61.1119 583.175 50.3365 Q583.175 39.1965 589.171 32.6746 Q595.207 26.1121 605.415 26.1121 Q614.57 26.1121 619.877 32.0264 Q625.224 37.9003 625.224 48.0275 M617.77 45.84 Q617.689 39.7232 614.327 36.0774 Q611.005 32.4315 605.496 32.4315 Q599.257 32.4315 595.49 35.9558 Q591.763 39.4801 591.196 45.8805 L617.77 45.84 Z\" fill=\"#000000\" fill-rule=\"evenodd\" fill-opacity=\"1\" /><path clip-path=\"url(#clip640)\" d=\"M663.748 34.1734 Q662.492 33.4443 660.993 33.1202 Q659.535 32.7556 657.753 32.7556 Q651.433 32.7556 648.03 36.8875 Q644.668 40.9789 644.668 48.6757 L644.668 72.576 L637.174 72.576 L637.174 27.2059 L644.668 27.2059 L644.668 34.2544 Q647.018 30.1225 650.785 28.1376 Q654.552 26.1121 659.94 26.1121 Q660.71 26.1121 661.641 26.2337 Q662.573 26.3147 663.707 26.5172 L663.748 34.1734 Z\" fill=\"#000000\" fill-rule=\"evenodd\" fill-opacity=\"1\" /><path clip-path=\"url(#clip640)\" d=\"M692.185 49.7694 Q683.152 49.7694 679.668 51.8354 Q676.184 53.9013 676.184 58.8839 Q676.184 62.8538 678.777 65.2034 Q681.41 67.5124 685.906 67.5124 Q692.104 67.5124 695.831 63.1374 Q699.598 58.7219 699.598 51.4303 L699.598 49.7694 L692.185 49.7694 M707.052 46.6907 L707.052 72.576 L699.598 72.576 L699.598 65.6895 Q697.046 69.8214 693.238 71.8063 Q689.431 73.7508 683.921 73.7508 Q676.954 73.7508 672.822 69.8619 Q668.73 65.9325 668.73 59.3701 Q668.73 51.7138 673.835 47.825 Q678.979 43.9361 689.147 43.9361 L699.598 43.9361 L699.598 43.2069 Q699.598 38.0623 696.196 35.2672 Q692.833 32.4315 686.716 32.4315 Q682.828 32.4315 679.141 33.3632 Q675.455 34.295 672.052 36.1584 L672.052 29.2718 Q676.144 27.692 679.992 26.9223 Q683.84 26.1121 687.486 26.1121 Q697.33 26.1121 702.191 31.2163 Q707.052 36.3204 707.052 46.6907 Z\" fill=\"#000000\" fill-rule=\"evenodd\" fill-opacity=\"1\" /><path clip-path=\"url(#clip640)\" d=\"M752.26 49.3643 Q752.26 41.2625 748.898 36.8065 Q745.576 32.3505 739.54 32.3505 Q733.545 32.3505 730.183 36.8065 Q726.861 41.2625 726.861 49.3643 Q726.861 57.4256 730.183 61.8816 Q733.545 66.3376 739.54 66.3376 Q745.576 66.3376 748.898 61.8816 Q752.26 57.4256 752.26 49.3643 M759.714 66.9452 Q759.714 78.5308 754.569 84.1616 Q749.424 89.8329 738.811 89.8329 Q734.882 89.8329 731.398 89.2252 Q727.914 88.6581 724.633 87.4428 L724.633 80.1917 Q727.914 81.9741 731.114 82.8248 Q734.315 83.6755 737.636 83.6755 Q744.969 83.6755 748.614 79.8271 Q752.26 76.0193 752.26 68.282 L752.26 64.5957 Q749.951 68.6061 746.346 70.5911 Q742.741 72.576 737.717 72.576 Q729.373 72.576 724.268 66.2161 Q719.164 59.8562 719.164 49.3643 Q719.164 38.832 724.268 32.472 Q729.373 26.1121 737.717 26.1121 Q742.741 26.1121 746.346 28.0971 Q749.951 30.082 752.26 34.0924 L752.26 27.2059 L759.714 27.2059 L759.714 66.9452 Z\" fill=\"#000000\" fill-rule=\"evenodd\" fill-opacity=\"1\" /><path clip-path=\"url(#clip640)\" d=\"M813.874 48.0275 L813.874 51.6733 L779.604 51.6733 Q780.09 59.3701 784.222 63.421 Q788.394 67.4314 795.807 67.4314 Q800.101 67.4314 804.112 66.3781 Q808.163 65.3249 812.132 63.2184 L812.132 70.267 Q808.122 71.9684 803.909 72.8596 Q799.696 73.7508 795.362 73.7508 Q784.505 73.7508 778.145 67.4314 Q771.826 61.1119 771.826 50.3365 Q771.826 39.1965 777.821 32.6746 Q783.857 26.1121 794.065 26.1121 Q803.221 26.1121 808.527 32.0264 Q813.874 37.9003 813.874 48.0275 M806.421 45.84 Q806.34 39.7232 802.977 36.0774 Q799.656 32.4315 794.146 32.4315 Q787.908 32.4315 784.141 35.9558 Q780.414 39.4801 779.847 45.8805 L806.421 45.84 Z\" fill=\"#000000\" fill-rule=\"evenodd\" fill-opacity=\"1\" /><path clip-path=\"url(#clip640)\" d=\"M870.06 32.4315 Q864.065 32.4315 860.581 37.1306 Q857.098 41.7891 857.098 49.9314 Q857.098 58.0738 860.541 62.7728 Q864.025 67.4314 870.06 67.4314 Q876.015 67.4314 879.499 62.7323 Q882.983 58.0333 882.983 49.9314 Q882.983 41.8701 879.499 37.1711 Q876.015 32.4315 870.06 32.4315 M870.06 26.1121 Q879.783 26.1121 885.332 32.4315 Q890.882 38.7509 890.882 49.9314 Q890.882 61.0714 885.332 67.4314 Q879.783 73.7508 870.06 73.7508 Q860.298 73.7508 854.748 67.4314 Q849.239 61.0714 849.239 49.9314 Q849.239 38.7509 854.748 32.4315 Q860.298 26.1121 870.06 26.1121 Z\" fill=\"#000000\" fill-rule=\"evenodd\" fill-opacity=\"1\" /><path clip-path=\"url(#clip640)\" d=\"M897.89 27.2059 L905.789 27.2059 L919.968 65.2844 L934.146 27.2059 L942.045 27.2059 L925.031 72.576 L914.904 72.576 L897.89 27.2059 Z\" fill=\"#000000\" fill-rule=\"evenodd\" fill-opacity=\"1\" /><path clip-path=\"url(#clip640)\" d=\"M991.142 48.0275 L991.142 51.6733 L956.871 51.6733 Q957.357 59.3701 961.489 63.421 Q965.662 67.4314 973.075 67.4314 Q977.369 67.4314 981.379 66.3781 Q985.43 65.3249 989.4 63.2184 L989.4 70.267 Q985.39 71.9684 981.177 72.8596 Q976.964 73.7508 972.629 73.7508 Q961.773 73.7508 955.413 67.4314 Q949.094 61.1119 949.094 50.3365 Q949.094 39.1965 955.089 32.6746 Q961.125 26.1121 971.333 26.1121 Q980.488 26.1121 985.795 32.0264 Q991.142 37.9003 991.142 48.0275 M983.688 45.84 Q983.607 39.7232 980.245 36.0774 Q976.923 32.4315 971.414 32.4315 Q965.176 32.4315 961.408 35.9558 Q957.681 39.4801 957.114 45.8805 L983.688 45.84 Z\" fill=\"#000000\" fill-rule=\"evenodd\" fill-opacity=\"1\" /><path clip-path=\"url(#clip640)\" d=\"M1029.67 34.1734 Q1028.41 33.4443 1026.91 33.1202 Q1025.45 32.7556 1023.67 32.7556 Q1017.35 32.7556 1013.95 36.8875 Q1010.59 40.9789 1010.59 48.6757 L1010.59 72.576 L1003.09 72.576 L1003.09 27.2059 L1010.59 27.2059 L1010.59 34.2544 Q1012.94 30.1225 1016.7 28.1376 Q1020.47 26.1121 1025.86 26.1121 Q1026.63 26.1121 1027.56 26.2337 Q1028.49 26.3147 1029.63 26.5172 L1029.67 34.1734 Z\" fill=\"#000000\" fill-rule=\"evenodd\" fill-opacity=\"1\" /><path clip-path=\"url(#clip640)\" d=\"M1037.48 9.54393 L1044.94 9.54393 L1044.94 72.576 L1037.48 72.576 L1037.48 9.54393 Z\" fill=\"#000000\" fill-rule=\"evenodd\" fill-opacity=\"1\" /><path clip-path=\"url(#clip640)\" d=\"M1081.15 49.7694 Q1072.12 49.7694 1068.64 51.8354 Q1065.15 53.9013 1065.15 58.8839 Q1065.15 62.8538 1067.74 65.2034 Q1070.38 67.5124 1074.87 67.5124 Q1081.07 67.5124 1084.8 63.1374 Q1088.57 58.7219 1088.57 51.4303 L1088.57 49.7694 L1081.15 49.7694 M1096.02 46.6907 L1096.02 72.576 L1088.57 72.576 L1088.57 65.6895 Q1086.01 69.8214 1082.21 71.8063 Q1078.4 73.7508 1072.89 73.7508 Q1065.92 73.7508 1061.79 69.8619 Q1057.7 65.9325 1057.7 59.3701 Q1057.7 51.7138 1062.8 47.825 Q1067.95 43.9361 1078.11 43.9361 L1088.57 43.9361 L1088.57 43.2069 Q1088.57 38.0623 1085.16 35.2672 Q1081.8 32.4315 1075.68 32.4315 Q1071.8 32.4315 1068.11 33.3632 Q1064.42 34.295 1061.02 36.1584 L1061.02 29.2718 Q1065.11 27.692 1068.96 26.9223 Q1072.81 26.1121 1076.45 26.1121 Q1086.3 26.1121 1091.16 31.2163 Q1096.02 36.3204 1096.02 46.6907 Z\" fill=\"#000000\" fill-rule=\"evenodd\" fill-opacity=\"1\" /><path clip-path=\"url(#clip640)\" d=\"M1118.58 65.7705 L1118.58 89.8329 L1111.09 89.8329 L1111.09 27.2059 L1118.58 27.2059 L1118.58 34.0924 Q1120.93 30.0415 1124.5 28.0971 Q1128.1 26.1121 1133.09 26.1121 Q1141.35 26.1121 1146.49 32.6746 Q1151.68 39.2371 1151.68 49.9314 Q1151.68 60.6258 1146.49 67.1883 Q1141.35 73.7508 1133.09 73.7508 Q1128.1 73.7508 1124.5 71.8063 Q1120.93 69.8214 1118.58 65.7705 M1143.94 49.9314 Q1143.94 41.7081 1140.54 37.0496 Q1137.18 32.3505 1131.26 32.3505 Q1125.35 32.3505 1121.95 37.0496 Q1118.58 41.7081 1118.58 49.9314 Q1118.58 58.1548 1121.95 62.8538 Q1125.35 67.5124 1131.26 67.5124 Q1137.18 67.5124 1140.54 62.8538 Q1143.94 58.1548 1143.94 49.9314 Z\" fill=\"#000000\" fill-rule=\"evenodd\" fill-opacity=\"1\" /><path clip-path=\"url(#clip640)\" d=\"M1207.99 32.4315 Q1201.99 32.4315 1198.51 37.1306 Q1195.02 41.7891 1195.02 49.9314 Q1195.02 58.0738 1198.47 62.7728 Q1201.95 67.4314 1207.99 67.4314 Q1213.94 67.4314 1217.43 62.7323 Q1220.91 58.0333 1220.91 49.9314 Q1220.91 41.8701 1217.43 37.1711 Q1213.94 32.4315 1207.99 32.4315 M1207.99 26.1121 Q1217.71 26.1121 1223.26 32.4315 Q1228.81 38.7509 1228.81 49.9314 Q1228.81 61.0714 1223.26 67.4314 Q1217.71 73.7508 1207.99 73.7508 Q1198.22 73.7508 1192.67 67.4314 Q1187.17 61.0714 1187.17 49.9314 Q1187.17 38.7509 1192.67 32.4315 Q1198.22 26.1121 1207.99 26.1121 Z\" fill=\"#000000\" fill-rule=\"evenodd\" fill-opacity=\"1\" /><path clip-path=\"url(#clip640)\" d=\"M1235.82 27.2059 L1243.72 27.2059 L1257.89 65.2844 L1272.07 27.2059 L1279.97 27.2059 L1262.96 72.576 L1252.83 72.576 L1235.82 27.2059 Z\" fill=\"#000000\" fill-rule=\"evenodd\" fill-opacity=\"1\" /><path clip-path=\"url(#clip640)\" d=\"M1329.07 48.0275 L1329.07 51.6733 L1294.8 51.6733 Q1295.28 59.3701 1299.42 63.421 Q1303.59 67.4314 1311 67.4314 Q1315.3 67.4314 1319.31 66.3781 Q1323.36 65.3249 1327.33 63.2184 L1327.33 70.267 Q1323.32 71.9684 1319.1 72.8596 Q1314.89 73.7508 1310.56 73.7508 Q1299.7 73.7508 1293.34 67.4314 Q1287.02 61.1119 1287.02 50.3365 Q1287.02 39.1965 1293.02 32.6746 Q1299.05 26.1121 1309.26 26.1121 Q1318.41 26.1121 1323.72 32.0264 Q1329.07 37.9003 1329.07 48.0275 M1321.61 45.84 Q1321.53 39.7232 1318.17 36.0774 Q1314.85 32.4315 1309.34 32.4315 Q1303.1 32.4315 1299.33 35.9558 Q1295.61 39.4801 1295.04 45.8805 L1321.61 45.84 Z\" fill=\"#000000\" fill-rule=\"evenodd\" fill-opacity=\"1\" /><path clip-path=\"url(#clip640)\" d=\"M1367.59 34.1734 Q1366.34 33.4443 1364.84 33.1202 Q1363.38 32.7556 1361.6 32.7556 Q1355.28 32.7556 1351.87 36.8875 Q1348.51 40.9789 1348.51 48.6757 L1348.51 72.576 L1341.02 72.576 L1341.02 27.2059 L1348.51 27.2059 L1348.51 34.2544 Q1350.86 30.1225 1354.63 28.1376 Q1358.4 26.1121 1363.78 26.1121 Q1364.55 26.1121 1365.49 26.2337 Q1366.42 26.3147 1367.55 26.5172 L1367.59 34.1734 Z\" fill=\"#000000\" fill-rule=\"evenodd\" fill-opacity=\"1\" /><path clip-path=\"url(#clip640)\" d=\"M1409.88 65.6895 L1438.44 65.6895 L1438.44 72.576 L1400.04 72.576 L1400.04 65.6895 Q1404.7 60.8689 1412.72 52.7671 Q1420.78 44.6248 1422.85 42.2752 Q1426.78 37.8598 1428.32 34.8216 Q1429.9 31.7429 1429.9 28.7857 Q1429.9 23.9651 1426.49 20.927 Q1423.13 17.8888 1417.7 17.8888 Q1413.85 17.8888 1409.56 19.2256 Q1405.31 20.5624 1400.45 23.2765 L1400.45 15.0127 Q1405.39 13.0277 1409.68 12.015 Q1413.98 11.0023 1417.54 11.0023 Q1426.94 11.0023 1432.53 15.7013 Q1438.12 20.4004 1438.12 28.2591 Q1438.12 31.9859 1436.7 35.3482 Q1435.32 38.6699 1431.64 43.2069 Q1430.62 44.3817 1425.2 50.0125 Q1419.77 55.6027 1409.88 65.6895 Z\" fill=\"#000000\" fill-rule=\"evenodd\" fill-opacity=\"1\" /><path clip-path=\"url(#clip640)\" d=\"M1473.12 17.4837 Q1466.8 17.4837 1463.6 23.7221 Q1460.44 29.92 1460.44 42.3968 Q1460.44 54.833 1463.6 61.0714 Q1466.8 67.2693 1473.12 67.2693 Q1479.48 67.2693 1482.64 61.0714 Q1485.84 54.833 1485.84 42.3968 Q1485.84 29.92 1482.64 23.7221 Q1479.48 17.4837 1473.12 17.4837 M1473.12 11.0023 Q1483.29 11.0023 1488.63 19.0636 Q1494.02 27.0843 1494.02 42.3968 Q1494.02 57.6687 1488.63 65.73 Q1483.29 73.7508 1473.12 73.7508 Q1462.95 73.7508 1457.56 65.73 Q1452.22 57.6687 1452.22 42.3968 Q1452.22 27.0843 1457.56 19.0636 Q1462.95 11.0023 1473.12 11.0023 Z\" fill=\"#000000\" fill-rule=\"evenodd\" fill-opacity=\"1\" /><path clip-path=\"url(#clip640)\" d=\"M1525.9 17.4837 Q1519.58 17.4837 1516.38 23.7221 Q1513.22 29.92 1513.22 42.3968 Q1513.22 54.833 1516.38 61.0714 Q1519.58 67.2693 1525.9 67.2693 Q1532.26 67.2693 1535.42 61.0714 Q1538.62 54.833 1538.62 42.3968 Q1538.62 29.92 1535.42 23.7221 Q1532.26 17.4837 1525.9 17.4837 M1525.9 11.0023 Q1536.07 11.0023 1541.42 19.0636 Q1546.8 27.0843 1546.8 42.3968 Q1546.8 57.6687 1541.42 65.73 Q1536.07 73.7508 1525.9 73.7508 Q1515.73 73.7508 1510.35 65.73 Q1505 57.6687 1505 42.3968 Q1505 27.0843 1510.35 19.0636 Q1515.73 11.0023 1525.9 11.0023 Z\" fill=\"#000000\" fill-rule=\"evenodd\" fill-opacity=\"1\" /><path clip-path=\"url(#clip640)\" d=\"M1625.31 48.0275 L1625.31 51.6733 L1591.04 51.6733 Q1591.53 59.3701 1595.66 63.421 Q1599.83 67.4314 1607.24 67.4314 Q1611.54 67.4314 1615.55 66.3781 Q1619.6 65.3249 1623.57 63.2184 L1623.57 70.267 Q1619.56 71.9684 1615.35 72.8596 Q1611.13 73.7508 1606.8 73.7508 Q1595.94 73.7508 1589.58 67.4314 Q1583.26 61.1119 1583.26 50.3365 Q1583.26 39.1965 1589.26 32.6746 Q1595.29 26.1121 1605.5 26.1121 Q1614.66 26.1121 1619.96 32.0264 Q1625.31 37.9003 1625.31 48.0275 M1617.86 45.84 Q1617.78 39.7232 1614.41 36.0774 Q1611.09 32.4315 1605.58 32.4315 Q1599.34 32.4315 1595.58 35.9558 Q1591.85 39.4801 1591.28 45.8805 L1617.86 45.84 Z\" fill=\"#000000\" fill-rule=\"evenodd\" fill-opacity=\"1\" /><path clip-path=\"url(#clip640)\" d=\"M1673.8 27.2059 L1657.39 49.2833 L1674.65 72.576 L1665.86 72.576 L1652.65 54.752 L1639.45 72.576 L1630.66 72.576 L1648.28 48.8377 L1632.16 27.2059 L1640.95 27.2059 L1652.98 43.369 L1665.01 27.2059 L1673.8 27.2059 Z\" fill=\"#000000\" fill-rule=\"evenodd\" fill-opacity=\"1\" /><path clip-path=\"url(#clip640)\" d=\"M1692.39 65.7705 L1692.39 89.8329 L1684.9 89.8329 L1684.9 27.2059 L1692.39 27.2059 L1692.39 34.0924 Q1694.74 30.0415 1698.31 28.0971 Q1701.91 26.1121 1706.9 26.1121 Q1715.16 26.1121 1720.3 32.6746 Q1725.49 39.2371 1725.49 49.9314 Q1725.49 60.6258 1720.3 67.1883 Q1715.16 73.7508 1706.9 73.7508 Q1701.91 73.7508 1698.31 71.8063 Q1694.74 69.8214 1692.39 65.7705 M1717.75 49.9314 Q1717.75 41.7081 1714.35 37.0496 Q1710.99 32.3505 1705.07 32.3505 Q1699.16 32.3505 1695.76 37.0496 Q1692.39 41.7081 1692.39 49.9314 Q1692.39 58.1548 1695.76 62.8538 Q1699.16 67.5124 1705.07 67.5124 Q1710.99 67.5124 1714.35 62.8538 Q1717.75 58.1548 1717.75 49.9314 Z\" fill=\"#000000\" fill-rule=\"evenodd\" fill-opacity=\"1\" /><path clip-path=\"url(#clip640)\" d=\"M1776.65 48.0275 L1776.65 51.6733 L1742.38 51.6733 Q1742.87 59.3701 1747 63.421 Q1751.17 67.4314 1758.59 67.4314 Q1762.88 67.4314 1766.89 66.3781 Q1770.94 65.3249 1774.91 63.2184 L1774.91 70.267 Q1770.9 71.9684 1766.69 72.8596 Q1762.47 73.7508 1758.14 73.7508 Q1747.28 73.7508 1740.92 67.4314 Q1734.6 61.1119 1734.6 50.3365 Q1734.6 39.1965 1740.6 32.6746 Q1746.64 26.1121 1756.84 26.1121 Q1766 26.1121 1771.31 32.0264 Q1776.65 37.9003 1776.65 48.0275 M1769.2 45.84 Q1769.12 39.7232 1765.76 36.0774 Q1762.43 32.4315 1756.92 32.4315 Q1750.69 32.4315 1746.92 35.9558 Q1743.19 39.4801 1742.63 45.8805 L1769.2 45.84 Z\" fill=\"#000000\" fill-rule=\"evenodd\" fill-opacity=\"1\" /><path clip-path=\"url(#clip640)\" d=\"M1815.18 34.1734 Q1813.92 33.4443 1812.42 33.1202 Q1810.96 32.7556 1809.18 32.7556 Q1802.86 32.7556 1799.46 36.8875 Q1796.1 40.9789 1796.1 48.6757 L1796.1 72.576 L1788.6 72.576 L1788.6 27.2059 L1796.1 27.2059 L1796.1 34.2544 Q1798.45 30.1225 1802.21 28.1376 Q1805.98 26.1121 1811.37 26.1121 Q1812.14 26.1121 1813.07 26.2337 Q1814 26.3147 1815.14 26.5172 L1815.18 34.1734 Z\" fill=\"#000000\" fill-rule=\"evenodd\" fill-opacity=\"1\" /><path clip-path=\"url(#clip640)\" d=\"M1823 27.2059 L1830.45 27.2059 L1830.45 72.576 L1823 72.576 L1823 27.2059 M1823 9.54393 L1830.45 9.54393 L1830.45 18.9825 L1823 18.9825 L1823 9.54393 Z\" fill=\"#000000\" fill-rule=\"evenodd\" fill-opacity=\"1\" /><path clip-path=\"url(#clip640)\" d=\"M1881.37 35.9153 Q1884.16 30.8922 1888.05 28.5022 Q1891.94 26.1121 1897.21 26.1121 Q1904.3 26.1121 1908.15 31.0947 Q1911.99 36.0368 1911.99 45.1919 L1911.99 72.576 L1904.5 72.576 L1904.5 45.4349 Q1904.5 38.913 1902.19 35.7533 Q1899.88 32.5936 1895.14 32.5936 Q1889.35 32.5936 1885.99 36.4419 Q1882.62 40.2903 1882.62 46.9338 L1882.62 72.576 L1875.13 72.576 L1875.13 45.4349 Q1875.13 38.8725 1872.82 35.7533 Q1870.51 32.5936 1865.69 32.5936 Q1859.98 32.5936 1856.62 36.4824 Q1853.26 40.3308 1853.26 46.9338 L1853.26 72.576 L1845.76 72.576 L1845.76 27.2059 L1853.26 27.2059 L1853.26 34.2544 Q1855.81 30.082 1859.37 28.0971 Q1862.94 26.1121 1867.84 26.1121 Q1872.78 26.1121 1876.22 28.6237 Q1879.71 31.1352 1881.37 35.9153 Z\" fill=\"#000000\" fill-rule=\"evenodd\" fill-opacity=\"1\" /><path clip-path=\"url(#clip640)\" d=\"M1965.67 48.0275 L1965.67 51.6733 L1931.4 51.6733 Q1931.88 59.3701 1936.02 63.421 Q1940.19 67.4314 1947.6 67.4314 Q1951.89 67.4314 1955.91 66.3781 Q1959.96 65.3249 1963.93 63.2184 L1963.93 70.267 Q1959.92 71.9684 1955.7 72.8596 Q1951.49 73.7508 1947.16 73.7508 Q1936.3 73.7508 1929.94 67.4314 Q1923.62 61.1119 1923.62 50.3365 Q1923.62 39.1965 1929.61 32.6746 Q1935.65 26.1121 1945.86 26.1121 Q1955.01 26.1121 1960.32 32.0264 Q1965.67 37.9003 1965.67 48.0275 M1958.21 45.84 Q1958.13 39.7232 1954.77 36.0774 Q1951.45 32.4315 1945.94 32.4315 Q1939.7 32.4315 1935.93 35.9558 Q1932.21 39.4801 1931.64 45.8805 L1958.21 45.84 Z\" fill=\"#000000\" fill-rule=\"evenodd\" fill-opacity=\"1\" /><path clip-path=\"url(#clip640)\" d=\"M2015.62 45.1919 L2015.62 72.576 L2008.16 72.576 L2008.16 45.4349 Q2008.16 38.994 2005.65 35.7938 Q2003.14 32.5936 1998.12 32.5936 Q1992.08 32.5936 1988.6 36.4419 Q1985.11 40.2903 1985.11 46.9338 L1985.11 72.576 L1977.62 72.576 L1977.62 27.2059 L1985.11 27.2059 L1985.11 34.2544 Q1987.79 30.163 1991.39 28.1376 Q1995.04 26.1121 1999.78 26.1121 Q2007.59 26.1121 2011.61 30.9732 Q2015.62 35.7938 2015.62 45.1919 Z\" fill=\"#000000\" fill-rule=\"evenodd\" fill-opacity=\"1\" /><path clip-path=\"url(#clip640)\" d=\"M2037.86 14.324 L2037.86 27.2059 L2053.21 27.2059 L2053.21 32.9987 L2037.86 32.9987 L2037.86 57.6282 Q2037.86 63.1779 2039.35 64.7578 Q2040.89 66.3376 2045.55 66.3376 L2053.21 66.3376 L2053.21 72.576 L2045.55 72.576 Q2036.92 72.576 2033.64 69.3758 Q2030.36 66.1351 2030.36 57.6282 L2030.36 32.9987 L2024.89 32.9987 L2024.89 27.2059 L2030.36 27.2059 L2030.36 14.324 L2037.86 14.324 Z\" fill=\"#000000\" fill-rule=\"evenodd\" fill-opacity=\"1\" /><path clip-path=\"url(#clip640)\" d=\"M2091.93 28.5427 L2091.93 35.5912 Q2088.77 33.9709 2085.37 33.1607 Q2081.97 32.3505 2078.32 32.3505 Q2072.77 32.3505 2069.98 34.0519 Q2067.22 35.7533 2067.22 39.156 Q2067.22 41.7486 2069.21 43.2475 Q2071.19 44.7058 2077.19 46.0426 L2079.74 46.6097 Q2087.68 48.3111 2091 51.4303 Q2094.37 54.509 2094.37 60.0587 Q2094.37 66.3781 2089.34 70.0644 Q2084.36 73.7508 2075.61 73.7508 Q2071.96 73.7508 2067.99 73.0216 Q2064.06 72.3329 2059.69 70.9151 L2059.69 63.2184 Q2063.82 65.3654 2067.83 66.4591 Q2071.84 67.5124 2075.77 67.5124 Q2081.04 67.5124 2083.87 65.73 Q2086.71 63.9071 2086.71 60.6258 Q2086.71 57.5877 2084.64 55.9673 Q2082.62 54.3469 2075.69 52.8481 L2073.1 52.2405 Q2066.17 50.7821 2063.09 47.7845 Q2060.01 44.7463 2060.01 39.4801 Q2060.01 33.0797 2064.55 29.5959 Q2069.09 26.1121 2077.43 26.1121 Q2081.56 26.1121 2085.21 26.7198 Q2088.86 27.3274 2091.93 28.5427 Z\" fill=\"#000000\" fill-rule=\"evenodd\" fill-opacity=\"1\" /><polyline clip-path=\"url(#clip642)\" style=\"stroke:#009af9; stroke-linecap:butt; stroke-linejoin:round; stroke-width:4; stroke-opacity:1; fill:none\" points=\"\n",
       "  280.231,159.909 314.335,255.568 348.44,246.375 382.544,306.7 416.649,282.57 450.753,281.421 484.858,254.706 518.962,343.758 553.066,380.815 587.171,205.871 \n",
       "  621.275,318.766 655.38,266.196 689.484,196.678 723.588,266.771 757.693,337.15 791.797,396.614 825.902,286.017 860.006,317.042 894.11,290.901 928.215,317.904 \n",
       "  962.319,326.234 996.424,301.242 1030.53,349.503 1064.63,372.484 1098.74,254.418 1132.84,312.158 1166.95,322.5 1201.05,175.421 1235.15,329.394 1269.26,245.801 \n",
       "  1303.36,247.237 1337.47,355.823 1371.57,230.288 1405.68,394.316 1439.78,318.766 1473.89,191.508 1507.99,257.004 1542.09,371.909 1576.2,205.584 1610.3,343.47 \n",
       "  1644.41,298.083 1678.51,302.966 1712.62,349.503 1746.72,301.817 1780.82,332.554 1814.93,381.676 1849.03,259.302 1883.14,288.603 1917.24,412.126 1951.35,423.33 \n",
       "  1985.45,516.69 2019.56,524.159 2053.66,730.989 2087.76,783.846 2121.87,866.865 2155.97,997.857 2190.08,1165.04 2224.18,1236 2258.29,1305.52 2292.39,1374.46 \n",
       "  \n",
       "  \"/>\n",
       "<path clip-path=\"url(#clip640)\" d=\"\n",
       "M1992.24 270.066 L2281.66 270.066 L2281.66 166.386 L1992.24 166.386  Z\n",
       "  \" fill=\"#ffffff\" fill-rule=\"evenodd\" fill-opacity=\"1\"/>\n",
       "<polyline clip-path=\"url(#clip640)\" style=\"stroke:#000000; stroke-linecap:butt; stroke-linejoin:round; stroke-width:4; stroke-opacity:1; fill:none\" points=\"\n",
       "  1992.24,270.066 2281.66,270.066 2281.66,166.386 1992.24,166.386 1992.24,270.066 \n",
       "  \"/>\n",
       "<polyline clip-path=\"url(#clip640)\" style=\"stroke:#009af9; stroke-linecap:butt; stroke-linejoin:round; stroke-width:4; stroke-opacity:1; fill:none\" points=\"\n",
       "  2015.94,218.226 2158.13,218.226 \n",
       "  \"/>\n",
       "<path clip-path=\"url(#clip640)\" d=\"M2195.67 237.914 Q2193.87 242.543 2192.16 243.955 Q2190.44 245.367 2187.57 245.367 L2184.17 245.367 L2184.17 241.803 L2186.67 241.803 Q2188.43 241.803 2189.4 240.969 Q2190.37 240.136 2191.55 237.034 L2192.32 235.09 L2181.83 209.58 L2186.35 209.58 L2194.45 229.858 L2202.55 209.58 L2207.06 209.58 L2195.67 237.914 Z\" fill=\"#000000\" fill-rule=\"evenodd\" fill-opacity=\"1\" /><path clip-path=\"url(#clip640)\" d=\"M2214.35 231.571 L2221.99 231.571 L2221.99 205.206 L2213.68 206.872 L2213.68 202.613 L2221.95 200.946 L2226.62 200.946 L2226.62 231.571 L2234.26 231.571 L2234.26 235.506 L2214.35 235.506 L2214.35 231.571 Z\" fill=\"#000000\" fill-rule=\"evenodd\" fill-opacity=\"1\" /></svg>\n"
      ]
     },
     "execution_count": 53,
     "metadata": {},
     "output_type": "execute_result"
    }
   ],
   "source": [
    "plot_overlap_r(\n",
    "    overlap_r_vector_houdayer_100,\n",
    "    overlap_r_vector_houdayer_400,\n",
    "    overlap_r_vector_houdayer_700,\n",
    "    overlap_r_vector_houdayer_1000,\n",
    "    range_r_100, d)\n",
    "\n",
    "savefig(\"figures/overlap_r_houdayer.png\")"
   ]
  },
  {
   "cell_type": "markdown",
   "id": "adcb3653",
   "metadata": {},
   "source": [
    "# Houdayer mixed"
   ]
  },
  {
   "cell_type": "markdown",
   "id": "cb9d05b8",
   "metadata": {},
   "source": [
    "## Overlap wrt n0"
   ]
  },
  {
   "cell_type": "code",
   "execution_count": 5,
   "id": "574b6d4d",
   "metadata": {
    "scrolled": true
   },
   "outputs": [
    {
     "name": "stdout",
     "output_type": "stream",
     "text": [
      "384.023725 seconds (400.10 M allocations: 1.325 TiB, 3.91% gc time, 0.77% compilation time)\n"
     ]
    }
   ],
   "source": [
    "@time begin\n",
    "    \n",
    "    N = 1000\n",
    "    x_star = generate_x(N)\n",
    "    nb_iter = f(N)\n",
    "    nb_exp = 100\n",
    "    a = 5.9\n",
    "    b = 0.1\n",
    "    \n",
    "    n0 = 100\n",
    "    overlap_hat_houdayer_mixed_100 = run_experiment(N, a, b,\n",
    "        x_star, houdayer_mixed, nb_iter, nb_exp, n0)\n",
    "    \n",
    "    npzwrite(\"data/overlap_hat_houdayer_mixed_100.npy\", overlap_hat_houdayer_mixed_100)\n",
    "\n",
    "end"
   ]
  },
  {
   "cell_type": "code",
   "execution_count": 6,
   "id": "019abfab",
   "metadata": {},
   "outputs": [
    {
     "name": "stdout",
     "output_type": "stream",
     "text": [
      "104.213325 seconds (217.03 M allocations: 566.919 GiB, 9.58% gc time)\n"
     ]
    }
   ],
   "source": [
    "@time begin\n",
    "    \n",
    "        n0 = 1000\n",
    "    overlap_hat_houdayer_mixed_1000 = run_experiment(N, a, b,\n",
    "        x_star, houdayer_mixed, nb_iter, nb_exp, n0)\n",
    "    \n",
    "    npzwrite(\"data/overlap_hat_houdayer_mixed_1000.npy\", overlap_hat_houdayer_mixed_1000)\n",
    "    \n",
    "end"
   ]
  },
  {
   "cell_type": "code",
   "execution_count": null,
   "id": "9dd9f310",
   "metadata": {},
   "outputs": [],
   "source": [
    "@time begin\n",
    "        n0 = 5000\n",
    "    overlap_hat_houdayer_mixed_5000 = run_experiment(N, a, b,\n",
    "        x_star, houdayer_mixed, nb_iter, nb_exp, n0)\n",
    "    \n",
    "    npzwrite(\"data/overlap_hat_houdayer_mixed_5000.npy\", overlap_hat_houdayer_mixed_5000)\n",
    "end"
   ]
  },
  {
   "cell_type": "code",
   "execution_count": null,
   "id": "1597c2b2",
   "metadata": {},
   "outputs": [],
   "source": [
    "@time begin\n",
    "    \n",
    "    n0 = 10000\n",
    "    overlap_hat_houdayer_mixed_10000 = run_experiment(N, a, b,\n",
    "        x_star, houdayer_mixed, nb_iter, nb_exp, n0)\n",
    "    \n",
    "    npzwrite(\"data/overlap_hat_houdayer_mixed_10000.npy\", overlap_hat_houdayer_mixed_10000)\n",
    "end"
   ]
  },
  {
   "cell_type": "code",
   "execution_count": null,
   "id": "9a4bd059",
   "metadata": {},
   "outputs": [],
   "source": [
    "@time begin\n",
    "        \n",
    "    n0 = 20000\n",
    "    overlap_hat_houdayer_mixed_20000 = run_experiment(N, a, b,\n",
    "        x_star, houdayer_mixed, nb_iter, nb_exp, n0)\n",
    "    \n",
    "    npzwrite(\"data/overlap_hat_houdayer_mixed_20000.npy\", overlap_hat_houdayer_mixed_20000)\n",
    "    \n",
    "end"
   ]
  },
  {
   "cell_type": "code",
   "execution_count": 5,
   "id": "48ee0a2e",
   "metadata": {},
   "outputs": [],
   "source": [
    "overlap_hat_houdayer_mixed_100 = npzread(\"data/overlap_hat_houdayer_mixed_100.npy\")\n",
    "overlap_hat_houdayer_mixed_1000 = npzread(\"data/overlap_hat_houdayer_mixed_1000.npy\")\n",
    "overlap_hat_houdayer_mixed_5000 = npzread(\"data/overlap_hat_houdayer_mixed_5000.npy\")\n",
    "overlap_hat_houdayer_mixed_10000 = npzread(\"data/overlap_hat_houdayer_mixed_10000.npy\")\n",
    "overlap_hat_houdayer_mixed_20000 = npzread(\"data/overlap_hat_houdayer_mixed_20000.npy\")\n",
    "nb_exp = 100\n",
    "a = 5.9\n",
    "b = 0.1\n",
    "\n",
    "Ns = Vector{Int64}([1000])\n",
    "x_vlines = nb_iter = f.(Ns)\n",
    "visualize_n0(\n",
    "    overlap_hat_houdayer_mixed_100[1, :],\n",
    "    overlap_hat_houdayer_mixed_1000[1, :],\n",
    "    overlap_hat_houdayer_mixed_5000[1, :],\n",
    "    overlap_hat_houdayer_mixed_10000[1, :],\n",
    "    overlap_hat_houdayer_mixed_20000[1, :],\n",
    "    nb_exp, x_vlines, a, b)\n",
    "\n",
    "savefig(\"figures/overlap_n0_houdayer_mixed.png\")"
   ]
  },
  {
   "cell_type": "code",
   "execution_count": 8,
   "id": "cfc72a8c",
   "metadata": {},
   "outputs": [
    {
     "name": "stdout",
     "output_type": "stream",
     "text": [
      " 27.039084 seconds (65.95 M allocations: 103.189 GiB, 12.70% gc time)\n"
     ]
    }
   ],
   "source": [
    "@time begin\n",
    "    \n",
    "    nb_iter = 60000\n",
    "    nb_exp = 100\n",
    "    n0 = 1000\n",
    "    \n",
    "    a = 5.9\n",
    "    b = 0.1\n",
    "    N = 700\n",
    "    x_star = generate_x(N)\n",
    "    overlap_hat_houdayer_mixed_700 = run_experiment(N, a, b, x_star,\n",
    "        metropolis, nb_iter, nb_exp, n0)\n",
    "    \n",
    "    npzwrite(\"data/overlap_hat_houdayer_mixed_700.npy\", overlap_hat_houdayer_mixed_700)\n",
    "end"
   ]
  },
  {
   "cell_type": "markdown",
   "id": "d60a48e4",
   "metadata": {},
   "source": [
    "## Overlap over time"
   ]
  },
  {
   "cell_type": "code",
   "execution_count": 7,
   "id": "34214dfc",
   "metadata": {},
   "outputs": [
    {
     "name": "stdout",
     "output_type": "stream",
     "text": [
      "237.744110 seconds (1.26 G allocations: 369.994 GiB, 54.62% gc time)\n"
     ]
    }
   ],
   "source": [
    "@time begin\n",
    "    nb_iter = f(5000) + 10000\n",
    "    nb_exp = 100\n",
    "    a = 5.9\n",
    "    b = 0.1\n",
    "    n0 = 1000\n",
    "    \n",
    "    N = 100\n",
    "    x_star = generate_x(N)\n",
    "    overlap_hat_houdayer_mixed_100 = run_experiment(N, a, b,\n",
    "        x_star, houdayer_mixed, nb_iter, nb_exp, n0)\n",
    "    \n",
    "    npzwrite(\"data/overlap_hat_houdayer_mixed_N100.npy\", overlap_hat_houdayer_mixed_100)\n",
    "end"
   ]
  },
  {
   "cell_type": "code",
   "execution_count": 8,
   "id": "fc5db07e",
   "metadata": {},
   "outputs": [
    {
     "name": "stdout",
     "output_type": "stream",
     "text": [
      "337.922767 seconds (1.31 G allocations: 1.671 TiB, 16.16% gc time)\n"
     ]
    }
   ],
   "source": [
    "@time begin\n",
    "    \n",
    "    N = 500\n",
    "    x_star = generate_x(N)\n",
    "    overlap_hat_houdayer_mixed_500 = run_experiment(N, a, b,\n",
    "        x_star, houdayer_mixed, nb_iter, nb_exp, n0)\n",
    "\n",
    "    npzwrite(\"data/overlap_hat_houdayer_mixed_N500.npy\", overlap_hat_houdayer_mixed_500)\n",
    "end"
   ]
  },
  {
   "cell_type": "code",
   "execution_count": 9,
   "id": "f325016f",
   "metadata": {},
   "outputs": [
    {
     "name": "stdout",
     "output_type": "stream",
     "text": [
      "677.685867 seconds (1.37 G allocations: 3.494 TiB, 9.14% gc time)\n"
     ]
    }
   ],
   "source": [
    "@time begin\n",
    "    \n",
    "    \n",
    "    N = 1000\n",
    "    x_star = generate_x(N)\n",
    "    overlap_hat_houdayer_mixed_1000 = run_experiment(N, a, b,\n",
    "        x_star, houdayer_mixed, nb_iter, nb_exp, n0)\n",
    "    \n",
    "    npzwrite(\"data/overlap_hat_houdayer_mixed_N1000.npy\", overlap_hat_houdayer_mixed_1000)\n",
    "end"
   ]
  },
  {
   "cell_type": "code",
   "execution_count": null,
   "id": "3d460a8f",
   "metadata": {},
   "outputs": [],
   "source": [
    "@time begin\n",
    "\n",
    "    N = 5000\n",
    "    x_star = generate_x(N)\n",
    "    overlap_hat_houdayer_mixed_5000 = run_experiment(N, a, b,\n",
    "        x_star, houdayer_mixed, nb_iter, nb_exp, n0)\n",
    "    \n",
    "    npzwrite(\"data/overlap_hat_houdayer_mixed_N5000.npy\", overlap_hat_houdayer_mixed_5000)\n",
    "    \n",
    "end"
   ]
  },
  {
   "cell_type": "code",
   "execution_count": 10,
   "id": "75b453e3",
   "metadata": {},
   "outputs": [
    {
     "ename": "LoadError",
     "evalue": "UndefVarError: overlap_hat_houdayer_mixed_5000 not defined",
     "output_type": "error",
     "traceback": [
      "UndefVarError: overlap_hat_houdayer_mixed_5000 not defined",
      "",
      "Stacktrace:",
      " [1] top-level scope",
      "   @ In[10]:4",
      " [2] eval",
      "   @ ./boot.jl:373 [inlined]",
      " [3] include_string(mapexpr::typeof(REPL.softscope), mod::Module, code::String, filename::String)",
      "   @ Base ./loading.jl:1196"
     ]
    }
   ],
   "source": [
    "Ns = Vector{Int64}([100, 500, 1000, 5000])\n",
    "x_vlines = f.(Ns)\n",
    "\n",
    "visualize_overlap(overlap_hat_houdayer_mixed_100[1, :],\n",
    "    overlap_hat_houdayer_mixed_500[1, :],\n",
    "    overlap_hat_houdayer_mixed_1000[1, :],\n",
    "    overlap_hat_houdayer_mixed_5000[1, :],\n",
    "    nb_exp, x_vlines, N, a, b, n0)\n",
    "\n",
    "# Save figure\n",
    "savefig(\"figures/overlap_houdayer_mixed.png\")"
   ]
  },
  {
   "cell_type": "code",
   "execution_count": null,
   "id": "a120b851",
   "metadata": {},
   "outputs": [],
   "source": [
    "# Plots the result of the previous plots \n",
    "nb_iter = f(5000) + 10000\n",
    "nb_exp = 100\n",
    "\n",
    "a = 5.9\n",
    "b = 0.1\n",
    "\n",
    "overlap_hat_metropolis_100 = npzread(\"data/overlap_hat_metropolis_100.npy\")\n",
    "overlap_hat_metropolis_500 = npzread(\"data/overlap_hat_metropolis_500.npy\")\n",
    "overlap_hat_metropolis_1000 = npzread(\"data/overlap_hat_metropolis_1000.npy\")\n",
    "overlap_hat_metropolis_5000 = npzread(\"data/overlap_hat_metropolis_5000.npy\")\n",
    "\n",
    "Ns = Vector{Int64}([100, 500, 1000, 5000])\n",
    "x_vlines = f.(Ns)\n",
    "\n",
    "visualize_overlap(overlap_hat_metropolis_100[1, :],\n",
    "    overlap_hat_metropolis_500[1, :],\n",
    "    overlap_hat_metropolis_1000[1, :],\n",
    "    overlap_hat_metropolis_5000[1, :],\n",
    "    nb_exp, x_vlines, a, b, Vector{String}([\"100\",\"500\",\"1000\",\"5000\"]), \"Metropolis\")\n",
    "\n",
    "# Save figure\n",
    "savefig(\"figures/overlap_metropolis.png\")"
   ]
  },
  {
   "cell_type": "markdown",
   "id": "5bbf8bf2",
   "metadata": {},
   "source": [
    "## Overlap wrt r"
   ]
  },
  {
   "cell_type": "code",
   "execution_count": 5,
   "id": "2a85a6c8",
   "metadata": {},
   "outputs": [
    {
     "data": {
      "text/plain": [
       "10"
      ]
     },
     "execution_count": 5,
     "metadata": {},
     "output_type": "execute_result"
    }
   ],
   "source": [
    "nb_exp = 100\n",
    "d = 3\n",
    "n0 = 1000\n",
    "nb_r = 10"
   ]
  },
  {
   "cell_type": "code",
   "execution_count": 28,
   "id": "7618be21",
   "metadata": {},
   "outputs": [
    {
     "name": "stdout",
     "output_type": "stream",
     "text": [
      "7806.899028 seconds (12.88 G allocations: 28.574 TiB, 13.86% gc time)\n"
     ]
    },
    {
     "data": {
      "text/plain": [
       "([0.4244200000000001, 0.48734, 0.4574799999999999, 0.5159199999999999, 0.59808, 0.65286, 0.8262, 0.85018, 0.8265399999999999, 0.75306, 0.5694, 0.13404000000000002, 0.03767999999999999, 0.026319999999999996, 0.025599999999999998], [0.0001, 0.00019306977288832496, 0.00037275937203149417, 0.0007196856730011522, 0.0013894954943731374, 0.0026826957952797246, 0.005179474679231213, 0.01, 0.019306977288832506, 0.0372759372031494, 0.07196856730011521, 0.13894954943731377, 0.2682695795279726, 0.5179474679231212, 1.0])"
      ]
     },
     "execution_count": 28,
     "metadata": {},
     "output_type": "execute_result"
    }
   ],
   "source": [
    "@time begin\n",
    "\n",
    "    N = 100\n",
    "    nb_iter = f(N)\n",
    "    x_star = generate_x(N)\n",
    "    overlap_r_vector_houdayer_mixed_100, range_r_100 = overlap_r(x_star, houdayer_mixed, N, nb_iter, nb_exp, d, n0, nb_r)\n",
    "    \n",
    "    npzwrite(\"data/overlap_hat_houdayer_mixed_R100.npy\", overlap_r_vector_houdayer_mixed_100)\n",
    "end"
   ]
  },
  {
   "cell_type": "code",
   "execution_count": null,
   "id": "e8d93fff",
   "metadata": {},
   "outputs": [],
   "source": [
    "@time begin\n",
    "    \n",
    "    N = 500\n",
    "    nb_iter = f(N)\n",
    "    x_star = generate_x(N)\n",
    "    overlap_r_vector_houdayer_mixed_500, range_r_500 = overlap_r(x_star, houdayer_mixed, N, nb_iter, nb_exp, d, n0, nb_r)\n",
    "    \n",
    "    npzwrite(\"data/overlap_hat_houdayer_mixed_R500.npy\", overlap_r_vector_houdayer_mixed_500)\n",
    "end"
   ]
  },
  {
   "cell_type": "code",
   "execution_count": 6,
   "id": "d8a4f7f4",
   "metadata": {},
   "outputs": [
    {
     "name": "stdout",
     "output_type": "stream",
     "text": [
      "1062.584869 seconds (2.18 G allocations: 5.551 TiB, 9.20% gc time, 0.43% compilation time)\n"
     ]
    }
   ],
   "source": [
    "@time begin\n",
    "    \n",
    "    N = 1000\n",
    "    nb_iter = f(N)\n",
    "    x_star = generate_x(N)\n",
    "    overlap_r_vector_houdayer_mixed_1000, range_r_1000 = overlap_r(x_star, houdayer_mixed, N, nb_iter, nb_exp, d, n0, nb_r)\n",
    "    \n",
    "    npzwrite(\"data/overlap_hat_houdayer_mixed_R1000.npy\", overlap_r_vector_houdayer_mixed_1000)\n",
    "end"
   ]
  },
  {
   "cell_type": "code",
   "execution_count": null,
   "id": "7c09a21d",
   "metadata": {},
   "outputs": [],
   "source": [
    "@time begin\n",
    "    \n",
    "    N = 5000\n",
    "    nb_iter = f(N)\n",
    "    x_star = generate_x(N)\n",
    "    overlap_r_vector_houdayer_mixed_5000, range_r_5000 = overlap_r(x_star, houdayer_mixed, N, nb_iter, nb_exp, d, n0, nb_r)\n",
    "    \n",
    "    npzwrite(\"data/overlap_hat_houdayer_mixed_R5000.npy\", overlap_r_vector_houdayer_mixed_5000)\n",
    "end"
   ]
  },
  {
   "cell_type": "code",
   "execution_count": 29,
   "id": "542343a1",
   "metadata": {},
   "outputs": [
    {
     "data": {
      "image/svg+xml": [
       "<?xml version=\"1.0\" encoding=\"utf-8\"?>\n",
       "<svg xmlns=\"http://www.w3.org/2000/svg\" xmlns:xlink=\"http://www.w3.org/1999/xlink\" width=\"600\" height=\"400\" viewBox=\"0 0 2400 1600\">\n",
       "<defs>\n",
       "  <clipPath id=\"clip280\">\n",
       "    <rect x=\"0\" y=\"0\" width=\"2400\" height=\"1600\"/>\n",
       "  </clipPath>\n",
       "</defs>\n",
       "<path clip-path=\"url(#clip280)\" d=\"\n",
       "M0 1600 L2400 1600 L2400 0 L0 0  Z\n",
       "  \" fill=\"#ffffff\" fill-rule=\"evenodd\" fill-opacity=\"1\"/>\n",
       "<defs>\n",
       "  <clipPath id=\"clip281\">\n",
       "    <rect x=\"480\" y=\"0\" width=\"1681\" height=\"1600\"/>\n",
       "  </clipPath>\n",
       "</defs>\n",
       "<path clip-path=\"url(#clip280)\" d=\"\n",
       "M219.866 1410.9 L2352.76 1410.9 L2352.76 123.472 L219.866 123.472  Z\n",
       "  \" fill=\"#ffffff\" fill-rule=\"evenodd\" fill-opacity=\"1\"/>\n",
       "<defs>\n",
       "  <clipPath id=\"clip282\">\n",
       "    <rect x=\"219\" y=\"123\" width=\"2134\" height=\"1288\"/>\n",
       "  </clipPath>\n",
       "</defs>\n",
       "<polyline clip-path=\"url(#clip282)\" style=\"stroke:#000000; stroke-linecap:butt; stroke-linejoin:round; stroke-width:2; stroke-opacity:0.1; fill:none\" points=\"\n",
       "  280.231,1410.9 280.231,123.472 \n",
       "  \"/>\n",
       "<polyline clip-path=\"url(#clip282)\" style=\"stroke:#000000; stroke-linecap:butt; stroke-linejoin:round; stroke-width:2; stroke-opacity:0.1; fill:none\" points=\"\n",
       "  783.271,1410.9 783.271,123.472 \n",
       "  \"/>\n",
       "<polyline clip-path=\"url(#clip282)\" style=\"stroke:#000000; stroke-linecap:butt; stroke-linejoin:round; stroke-width:2; stroke-opacity:0.1; fill:none\" points=\"\n",
       "  1286.31,1410.9 1286.31,123.472 \n",
       "  \"/>\n",
       "<polyline clip-path=\"url(#clip282)\" style=\"stroke:#000000; stroke-linecap:butt; stroke-linejoin:round; stroke-width:2; stroke-opacity:0.1; fill:none\" points=\"\n",
       "  1789.35,1410.9 1789.35,123.472 \n",
       "  \"/>\n",
       "<polyline clip-path=\"url(#clip282)\" style=\"stroke:#000000; stroke-linecap:butt; stroke-linejoin:round; stroke-width:2; stroke-opacity:0.1; fill:none\" points=\"\n",
       "  2292.39,1410.9 2292.39,123.472 \n",
       "  \"/>\n",
       "<polyline clip-path=\"url(#clip280)\" style=\"stroke:#000000; stroke-linecap:butt; stroke-linejoin:round; stroke-width:4; stroke-opacity:1; fill:none\" points=\"\n",
       "  219.866,1410.9 2352.76,1410.9 \n",
       "  \"/>\n",
       "<polyline clip-path=\"url(#clip280)\" style=\"stroke:#000000; stroke-linecap:butt; stroke-linejoin:round; stroke-width:4; stroke-opacity:1; fill:none\" points=\"\n",
       "  280.231,1410.9 280.231,1392 \n",
       "  \"/>\n",
       "<polyline clip-path=\"url(#clip280)\" style=\"stroke:#000000; stroke-linecap:butt; stroke-linejoin:round; stroke-width:4; stroke-opacity:1; fill:none\" points=\"\n",
       "  783.271,1410.9 783.271,1392 \n",
       "  \"/>\n",
       "<polyline clip-path=\"url(#clip280)\" style=\"stroke:#000000; stroke-linecap:butt; stroke-linejoin:round; stroke-width:4; stroke-opacity:1; fill:none\" points=\"\n",
       "  1286.31,1410.9 1286.31,1392 \n",
       "  \"/>\n",
       "<polyline clip-path=\"url(#clip280)\" style=\"stroke:#000000; stroke-linecap:butt; stroke-linejoin:round; stroke-width:4; stroke-opacity:1; fill:none\" points=\"\n",
       "  1789.35,1410.9 1789.35,1392 \n",
       "  \"/>\n",
       "<polyline clip-path=\"url(#clip280)\" style=\"stroke:#000000; stroke-linecap:butt; stroke-linejoin:round; stroke-width:4; stroke-opacity:1; fill:none\" points=\"\n",
       "  2292.39,1410.9 2292.39,1392 \n",
       "  \"/>\n",
       "<path clip-path=\"url(#clip280)\" d=\"M229.65 1485.02 L237.289 1485.02 L237.289 1458.66 L228.979 1460.32 L228.979 1456.06 L237.243 1454.4 L241.919 1454.4 L241.919 1485.02 L249.558 1485.02 L249.558 1488.96 L229.65 1488.96 L229.65 1485.02 Z\" fill=\"#000000\" fill-rule=\"evenodd\" fill-opacity=\"1\" /><path clip-path=\"url(#clip280)\" d=\"M269.002 1457.48 Q265.391 1457.48 263.562 1461.04 Q261.757 1464.58 261.757 1471.71 Q261.757 1478.82 263.562 1482.38 Q265.391 1485.92 269.002 1485.92 Q272.636 1485.92 274.442 1482.38 Q276.271 1478.82 276.271 1471.71 Q276.271 1464.58 274.442 1461.04 Q272.636 1457.48 269.002 1457.48 M269.002 1453.77 Q274.812 1453.77 277.868 1458.38 Q280.946 1462.96 280.946 1471.71 Q280.946 1480.44 277.868 1485.04 Q274.812 1489.63 269.002 1489.63 Q263.192 1489.63 260.113 1485.04 Q257.058 1480.44 257.058 1471.71 Q257.058 1462.96 260.113 1458.38 Q263.192 1453.77 269.002 1453.77 Z\" fill=\"#000000\" fill-rule=\"evenodd\" fill-opacity=\"1\" /><path clip-path=\"url(#clip280)\" d=\"M280.946 1447.87 L305.058 1447.87 L305.058 1451.07 L280.946 1451.07 L280.946 1447.87 Z\" fill=\"#000000\" fill-rule=\"evenodd\" fill-opacity=\"1\" /><path clip-path=\"url(#clip280)\" d=\"M323.697 1436.78 L314.105 1451.77 L323.697 1451.77 L323.697 1436.78 M322.7 1433.47 L327.477 1433.47 L327.477 1451.77 L331.483 1451.77 L331.483 1454.93 L327.477 1454.93 L327.477 1461.55 L323.697 1461.55 L323.697 1454.93 L311.02 1454.93 L311.02 1451.26 L322.7 1433.47 Z\" fill=\"#000000\" fill-rule=\"evenodd\" fill-opacity=\"1\" /><path clip-path=\"url(#clip280)\" d=\"M733.151 1485.02 L740.79 1485.02 L740.79 1458.66 L732.48 1460.32 L732.48 1456.06 L740.744 1454.4 L745.42 1454.4 L745.42 1485.02 L753.059 1485.02 L753.059 1488.96 L733.151 1488.96 L733.151 1485.02 Z\" fill=\"#000000\" fill-rule=\"evenodd\" fill-opacity=\"1\" /><path clip-path=\"url(#clip280)\" d=\"M772.503 1457.48 Q768.892 1457.48 767.063 1461.04 Q765.258 1464.58 765.258 1471.71 Q765.258 1478.82 767.063 1482.38 Q768.892 1485.92 772.503 1485.92 Q776.137 1485.92 777.943 1482.38 Q779.771 1478.82 779.771 1471.71 Q779.771 1464.58 777.943 1461.04 Q776.137 1457.48 772.503 1457.48 M772.503 1453.77 Q778.313 1453.77 781.369 1458.38 Q784.447 1462.96 784.447 1471.71 Q784.447 1480.44 781.369 1485.04 Q778.313 1489.63 772.503 1489.63 Q766.693 1489.63 763.614 1485.04 Q760.559 1480.44 760.559 1471.71 Q760.559 1462.96 763.614 1458.38 Q766.693 1453.77 772.503 1453.77 Z\" fill=\"#000000\" fill-rule=\"evenodd\" fill-opacity=\"1\" /><path clip-path=\"url(#clip280)\" d=\"M784.447 1447.87 L808.559 1447.87 L808.559 1451.07 L784.447 1451.07 L784.447 1447.87 Z\" fill=\"#000000\" fill-rule=\"evenodd\" fill-opacity=\"1\" /><path clip-path=\"url(#clip280)\" d=\"M828.269 1446.41 Q830.997 1446.99 832.52 1448.83 Q834.062 1450.68 834.062 1453.38 Q834.062 1457.54 831.203 1459.82 Q828.345 1462.09 823.078 1462.09 Q821.311 1462.09 819.43 1461.73 Q817.568 1461.4 815.574 1460.7 L815.574 1457.03 Q817.154 1457.95 819.035 1458.42 Q820.916 1458.89 822.966 1458.89 Q826.539 1458.89 828.401 1457.48 Q830.282 1456.07 830.282 1453.38 Q830.282 1450.9 828.533 1449.51 Q826.802 1448.1 823.699 1448.1 L820.427 1448.1 L820.427 1444.98 L823.85 1444.98 Q826.652 1444.98 828.138 1443.87 Q829.624 1442.74 829.624 1440.63 Q829.624 1438.47 828.081 1437.32 Q826.558 1436.16 823.699 1436.16 Q822.138 1436.16 820.351 1436.49 Q818.565 1436.83 816.42 1437.55 L816.42 1434.16 Q818.583 1433.56 820.464 1433.26 Q822.364 1432.96 824.038 1432.96 Q828.363 1432.96 830.884 1434.93 Q833.404 1436.89 833.404 1440.24 Q833.404 1442.57 832.069 1444.19 Q830.733 1445.79 828.269 1446.41 Z\" fill=\"#000000\" fill-rule=\"evenodd\" fill-opacity=\"1\" /><path clip-path=\"url(#clip280)\" d=\"M1236.58 1485.02 L1244.22 1485.02 L1244.22 1458.66 L1235.91 1460.32 L1235.91 1456.06 L1244.17 1454.4 L1248.85 1454.4 L1248.85 1485.02 L1256.48 1485.02 L1256.48 1488.96 L1236.58 1488.96 L1236.58 1485.02 Z\" fill=\"#000000\" fill-rule=\"evenodd\" fill-opacity=\"1\" /><path clip-path=\"url(#clip280)\" d=\"M1275.93 1457.48 Q1272.32 1457.48 1270.49 1461.04 Q1268.68 1464.58 1268.68 1471.71 Q1268.68 1478.82 1270.49 1482.38 Q1272.32 1485.92 1275.93 1485.92 Q1279.56 1485.92 1281.37 1482.38 Q1283.2 1478.82 1283.2 1471.71 Q1283.2 1464.58 1281.37 1461.04 Q1279.56 1457.48 1275.93 1457.48 M1275.93 1453.77 Q1281.74 1453.77 1284.79 1458.38 Q1287.87 1462.96 1287.87 1471.71 Q1287.87 1480.44 1284.79 1485.04 Q1281.74 1489.63 1275.93 1489.63 Q1270.12 1489.63 1267.04 1485.04 Q1263.98 1480.44 1263.98 1471.71 Q1263.98 1462.96 1267.04 1458.38 Q1270.12 1453.77 1275.93 1453.77 Z\" fill=\"#000000\" fill-rule=\"evenodd\" fill-opacity=\"1\" /><path clip-path=\"url(#clip280)\" d=\"M1287.87 1447.87 L1311.98 1447.87 L1311.98 1451.07 L1287.87 1451.07 L1287.87 1447.87 Z\" fill=\"#000000\" fill-rule=\"evenodd\" fill-opacity=\"1\" /><path clip-path=\"url(#clip280)\" d=\"M1323.46 1458.35 L1336.72 1458.35 L1336.72 1461.55 L1318.89 1461.55 L1318.89 1458.35 Q1321.05 1456.11 1324.77 1452.35 Q1328.52 1448.57 1329.48 1447.48 Q1331.3 1445.43 1332.01 1444.02 Q1332.75 1442.59 1332.75 1441.22 Q1332.75 1438.98 1331.17 1437.57 Q1329.61 1436.16 1327.09 1436.16 Q1325.3 1436.16 1323.31 1436.78 Q1321.33 1437.4 1319.07 1438.66 L1319.07 1434.82 Q1321.37 1433.9 1323.36 1433.43 Q1325.36 1432.96 1327.01 1432.96 Q1331.38 1432.96 1333.97 1435.14 Q1336.57 1437.32 1336.57 1440.97 Q1336.57 1442.7 1335.91 1444.26 Q1335.27 1445.8 1333.56 1447.91 Q1333.09 1448.46 1330.57 1451.07 Q1328.05 1453.67 1323.46 1458.35 Z\" fill=\"#000000\" fill-rule=\"evenodd\" fill-opacity=\"1\" /><path clip-path=\"url(#clip280)\" d=\"M1739.47 1485.02 L1747.11 1485.02 L1747.11 1458.66 L1738.8 1460.32 L1738.8 1456.06 L1747.06 1454.4 L1751.73 1454.4 L1751.73 1485.02 L1759.37 1485.02 L1759.37 1488.96 L1739.47 1488.96 L1739.47 1485.02 Z\" fill=\"#000000\" fill-rule=\"evenodd\" fill-opacity=\"1\" /><path clip-path=\"url(#clip280)\" d=\"M1778.82 1457.48 Q1775.21 1457.48 1773.38 1461.04 Q1771.57 1464.58 1771.57 1471.71 Q1771.57 1478.82 1773.38 1482.38 Q1775.21 1485.92 1778.82 1485.92 Q1782.45 1485.92 1784.26 1482.38 Q1786.09 1478.82 1786.09 1471.71 Q1786.09 1464.58 1784.26 1461.04 Q1782.45 1457.48 1778.82 1457.48 M1778.82 1453.77 Q1784.63 1453.77 1787.68 1458.38 Q1790.76 1462.96 1790.76 1471.71 Q1790.76 1480.44 1787.68 1485.04 Q1784.63 1489.63 1778.82 1489.63 Q1773.01 1489.63 1769.93 1485.04 Q1766.87 1480.44 1766.87 1471.71 Q1766.87 1462.96 1769.93 1458.38 Q1773.01 1453.77 1778.82 1453.77 Z\" fill=\"#000000\" fill-rule=\"evenodd\" fill-opacity=\"1\" /><path clip-path=\"url(#clip280)\" d=\"M1790.76 1447.87 L1814.87 1447.87 L1814.87 1451.07 L1790.76 1451.07 L1790.76 1447.87 Z\" fill=\"#000000\" fill-rule=\"evenodd\" fill-opacity=\"1\" /><path clip-path=\"url(#clip280)\" d=\"M1823.73 1458.35 L1829.94 1458.35 L1829.94 1436.93 L1823.19 1438.28 L1823.19 1434.82 L1829.9 1433.47 L1833.7 1433.47 L1833.7 1458.35 L1839.91 1458.35 L1839.91 1461.55 L1823.73 1461.55 L1823.73 1458.35 Z\" fill=\"#000000\" fill-rule=\"evenodd\" fill-opacity=\"1\" /><path clip-path=\"url(#clip280)\" d=\"M2257.37 1485.02 L2265.01 1485.02 L2265.01 1458.66 L2256.7 1460.32 L2256.7 1456.06 L2264.97 1454.4 L2269.64 1454.4 L2269.64 1485.02 L2277.28 1485.02 L2277.28 1488.96 L2257.37 1488.96 L2257.37 1485.02 Z\" fill=\"#000000\" fill-rule=\"evenodd\" fill-opacity=\"1\" /><path clip-path=\"url(#clip280)\" d=\"M2296.73 1457.48 Q2293.11 1457.48 2291.29 1461.04 Q2289.48 1464.58 2289.48 1471.71 Q2289.48 1478.82 2291.29 1482.38 Q2293.11 1485.92 2296.73 1485.92 Q2300.36 1485.92 2302.17 1482.38 Q2303.99 1478.82 2303.99 1471.71 Q2303.99 1464.58 2302.17 1461.04 Q2300.36 1457.48 2296.73 1457.48 M2296.73 1453.77 Q2302.54 1453.77 2305.59 1458.38 Q2308.67 1462.96 2308.67 1471.71 Q2308.67 1480.44 2305.59 1485.04 Q2302.54 1489.63 2296.73 1489.63 Q2290.92 1489.63 2287.84 1485.04 Q2284.78 1480.44 2284.78 1471.71 Q2284.78 1462.96 2287.84 1458.38 Q2290.92 1453.77 2296.73 1453.77 Z\" fill=\"#000000\" fill-rule=\"evenodd\" fill-opacity=\"1\" /><path clip-path=\"url(#clip280)\" d=\"M2318.37 1435.97 Q2315.44 1435.97 2313.95 1438.86 Q2312.49 1441.74 2312.49 1447.53 Q2312.49 1453.31 2313.95 1456.2 Q2315.44 1459.08 2318.37 1459.08 Q2321.33 1459.08 2322.79 1456.2 Q2324.28 1453.31 2324.28 1447.53 Q2324.28 1441.74 2322.79 1438.86 Q2321.33 1435.97 2318.37 1435.97 M2318.37 1432.96 Q2323.1 1432.96 2325.58 1436.7 Q2328.08 1440.43 2328.08 1447.53 Q2328.08 1454.62 2325.58 1458.37 Q2323.1 1462.09 2318.37 1462.09 Q2313.65 1462.09 2311.15 1458.37 Q2308.67 1454.62 2308.67 1447.53 Q2308.67 1440.43 2311.15 1436.7 Q2313.65 1432.96 2318.37 1432.96 Z\" fill=\"#000000\" fill-rule=\"evenodd\" fill-opacity=\"1\" /><path clip-path=\"url(#clip280)\" d=\"M1296.75 1544.01 Q1295.76 1543.44 1294.59 1543.18 Q1293.44 1542.9 1292.04 1542.9 Q1287.07 1542.9 1284.4 1546.14 Q1281.76 1549.36 1281.76 1555.41 L1281.76 1574.19 L1275.87 1574.19 L1275.87 1538.54 L1281.76 1538.54 L1281.76 1544.08 Q1283.61 1540.83 1286.57 1539.27 Q1289.53 1537.68 1293.76 1537.68 Q1294.36 1537.68 1295.1 1537.77 Q1295.83 1537.84 1296.72 1538 L1296.75 1544.01 Z\" fill=\"#000000\" fill-rule=\"evenodd\" fill-opacity=\"1\" /><polyline clip-path=\"url(#clip282)\" style=\"stroke:#000000; stroke-linecap:butt; stroke-linejoin:round; stroke-width:2; stroke-opacity:0.1; fill:none\" points=\"\n",
       "  219.866,1117.58 2352.76,1117.58 \n",
       "  \"/>\n",
       "<polyline clip-path=\"url(#clip282)\" style=\"stroke:#000000; stroke-linecap:butt; stroke-linejoin:round; stroke-width:2; stroke-opacity:0.1; fill:none\" points=\"\n",
       "  219.866,822.994 2352.76,822.994 \n",
       "  \"/>\n",
       "<polyline clip-path=\"url(#clip282)\" style=\"stroke:#000000; stroke-linecap:butt; stroke-linejoin:round; stroke-width:2; stroke-opacity:0.1; fill:none\" points=\"\n",
       "  219.866,528.407 2352.76,528.407 \n",
       "  \"/>\n",
       "<polyline clip-path=\"url(#clip282)\" style=\"stroke:#000000; stroke-linecap:butt; stroke-linejoin:round; stroke-width:2; stroke-opacity:0.1; fill:none\" points=\"\n",
       "  219.866,233.82 2352.76,233.82 \n",
       "  \"/>\n",
       "<polyline clip-path=\"url(#clip280)\" style=\"stroke:#000000; stroke-linecap:butt; stroke-linejoin:round; stroke-width:4; stroke-opacity:1; fill:none\" points=\"\n",
       "  219.866,1410.9 219.866,123.472 \n",
       "  \"/>\n",
       "<polyline clip-path=\"url(#clip280)\" style=\"stroke:#000000; stroke-linecap:butt; stroke-linejoin:round; stroke-width:4; stroke-opacity:1; fill:none\" points=\"\n",
       "  219.866,1117.58 238.764,1117.58 \n",
       "  \"/>\n",
       "<polyline clip-path=\"url(#clip280)\" style=\"stroke:#000000; stroke-linecap:butt; stroke-linejoin:round; stroke-width:4; stroke-opacity:1; fill:none\" points=\"\n",
       "  219.866,822.994 238.764,822.994 \n",
       "  \"/>\n",
       "<polyline clip-path=\"url(#clip280)\" style=\"stroke:#000000; stroke-linecap:butt; stroke-linejoin:round; stroke-width:4; stroke-opacity:1; fill:none\" points=\"\n",
       "  219.866,528.407 238.764,528.407 \n",
       "  \"/>\n",
       "<polyline clip-path=\"url(#clip280)\" style=\"stroke:#000000; stroke-linecap:butt; stroke-linejoin:round; stroke-width:4; stroke-opacity:1; fill:none\" points=\"\n",
       "  219.866,233.82 238.764,233.82 \n",
       "  \"/>\n",
       "<path clip-path=\"url(#clip280)\" d=\"M128.288 1103.38 Q124.677 1103.38 122.848 1106.94 Q121.043 1110.49 121.043 1117.62 Q121.043 1124.72 122.848 1128.29 Q124.677 1131.83 128.288 1131.83 Q131.922 1131.83 133.728 1128.29 Q135.556 1124.72 135.556 1117.62 Q135.556 1110.49 133.728 1106.94 Q131.922 1103.38 128.288 1103.38 M128.288 1099.68 Q134.098 1099.68 137.154 1104.28 Q140.232 1108.87 140.232 1117.62 Q140.232 1126.34 137.154 1130.95 Q134.098 1135.53 128.288 1135.53 Q122.478 1135.53 119.399 1130.95 Q116.343 1126.34 116.343 1117.62 Q116.343 1108.87 119.399 1104.28 Q122.478 1099.68 128.288 1099.68 Z\" fill=\"#000000\" fill-rule=\"evenodd\" fill-opacity=\"1\" /><path clip-path=\"url(#clip280)\" d=\"M148.45 1128.98 L153.334 1128.98 L153.334 1134.86 L148.45 1134.86 L148.45 1128.98 Z\" fill=\"#000000\" fill-rule=\"evenodd\" fill-opacity=\"1\" /><path clip-path=\"url(#clip280)\" d=\"M167.547 1130.93 L183.866 1130.93 L183.866 1134.86 L161.922 1134.86 L161.922 1130.93 Q164.584 1128.17 169.167 1123.54 Q173.774 1118.89 174.954 1117.55 Q177.2 1115.02 178.079 1113.29 Q178.982 1111.53 178.982 1109.84 Q178.982 1107.08 177.038 1105.35 Q175.116 1103.61 172.014 1103.61 Q169.815 1103.61 167.362 1104.37 Q164.931 1105.14 162.153 1106.69 L162.153 1101.97 Q164.977 1100.83 167.431 1100.25 Q169.885 1099.68 171.922 1099.68 Q177.292 1099.68 180.487 1102.36 Q183.681 1105.05 183.681 1109.54 Q183.681 1111.67 182.871 1113.59 Q182.084 1115.49 179.977 1118.08 Q179.399 1118.75 176.297 1121.97 Q173.195 1125.16 167.547 1130.93 Z\" fill=\"#000000\" fill-rule=\"evenodd\" fill-opacity=\"1\" /><path clip-path=\"url(#clip280)\" d=\"M126.205 808.793 Q122.593 808.793 120.765 812.357 Q118.959 815.899 118.959 823.029 Q118.959 830.135 120.765 833.7 Q122.593 837.241 126.205 837.241 Q129.839 837.241 131.644 833.7 Q133.473 830.135 133.473 823.029 Q133.473 815.899 131.644 812.357 Q129.839 808.793 126.205 808.793 M126.205 805.089 Q132.015 805.089 135.07 809.695 Q138.149 814.279 138.149 823.029 Q138.149 831.755 135.07 836.362 Q132.015 840.945 126.205 840.945 Q120.394 840.945 117.316 836.362 Q114.26 831.755 114.26 823.029 Q114.26 814.279 117.316 809.695 Q120.394 805.089 126.205 805.089 Z\" fill=\"#000000\" fill-rule=\"evenodd\" fill-opacity=\"1\" /><path clip-path=\"url(#clip280)\" d=\"M146.366 834.394 L151.251 834.394 L151.251 840.274 L146.366 840.274 L146.366 834.394 Z\" fill=\"#000000\" fill-rule=\"evenodd\" fill-opacity=\"1\" /><path clip-path=\"url(#clip280)\" d=\"M174.283 809.788 L162.477 828.237 L174.283 828.237 L174.283 809.788 M173.056 805.714 L178.936 805.714 L178.936 828.237 L183.866 828.237 L183.866 832.126 L178.936 832.126 L178.936 840.274 L174.283 840.274 L174.283 832.126 L158.681 832.126 L158.681 827.612 L173.056 805.714 Z\" fill=\"#000000\" fill-rule=\"evenodd\" fill-opacity=\"1\" /><path clip-path=\"url(#clip280)\" d=\"M126.529 514.206 Q122.918 514.206 121.089 517.771 Q119.283 521.312 119.283 528.442 Q119.283 535.548 121.089 539.113 Q122.918 542.655 126.529 542.655 Q130.163 542.655 131.968 539.113 Q133.797 535.548 133.797 528.442 Q133.797 521.312 131.968 517.771 Q130.163 514.206 126.529 514.206 M126.529 510.502 Q132.339 510.502 135.394 515.109 Q138.473 519.692 138.473 528.442 Q138.473 537.169 135.394 541.775 Q132.339 546.358 126.529 546.358 Q120.718 546.358 117.64 541.775 Q114.584 537.169 114.584 528.442 Q114.584 519.692 117.64 515.109 Q120.718 510.502 126.529 510.502 Z\" fill=\"#000000\" fill-rule=\"evenodd\" fill-opacity=\"1\" /><path clip-path=\"url(#clip280)\" d=\"M146.691 539.808 L151.575 539.808 L151.575 545.687 L146.691 545.687 L146.691 539.808 Z\" fill=\"#000000\" fill-rule=\"evenodd\" fill-opacity=\"1\" /><path clip-path=\"url(#clip280)\" d=\"M172.339 526.544 Q169.19 526.544 167.339 528.696 Q165.51 530.849 165.51 534.599 Q165.51 538.326 167.339 540.502 Q169.19 542.655 172.339 542.655 Q175.487 542.655 177.315 540.502 Q179.167 538.326 179.167 534.599 Q179.167 530.849 177.315 528.696 Q175.487 526.544 172.339 526.544 M181.621 511.891 L181.621 516.15 Q179.862 515.317 178.056 514.877 Q176.274 514.437 174.514 514.437 Q169.885 514.437 167.431 517.562 Q165.001 520.687 164.653 527.007 Q166.019 524.993 168.079 523.928 Q170.139 522.84 172.616 522.84 Q177.825 522.84 180.834 526.011 Q183.866 529.159 183.866 534.599 Q183.866 539.923 180.718 543.141 Q177.57 546.358 172.339 546.358 Q166.343 546.358 163.172 541.775 Q160.001 537.169 160.001 528.442 Q160.001 520.247 163.89 515.386 Q167.778 510.502 174.329 510.502 Q176.089 510.502 177.871 510.849 Q179.676 511.197 181.621 511.891 Z\" fill=\"#000000\" fill-rule=\"evenodd\" fill-opacity=\"1\" /><path clip-path=\"url(#clip280)\" d=\"M126.783 219.619 Q123.172 219.619 121.343 223.184 Q119.538 226.726 119.538 233.855 Q119.538 240.962 121.343 244.526 Q123.172 248.068 126.783 248.068 Q130.417 248.068 132.223 244.526 Q134.052 240.962 134.052 233.855 Q134.052 226.726 132.223 223.184 Q130.417 219.619 126.783 219.619 M126.783 215.915 Q132.593 215.915 135.649 220.522 Q138.728 225.105 138.728 233.855 Q138.728 242.582 135.649 247.188 Q132.593 251.772 126.783 251.772 Q120.973 251.772 117.894 247.188 Q114.839 242.582 114.839 233.855 Q114.839 225.105 117.894 220.522 Q120.973 215.915 126.783 215.915 Z\" fill=\"#000000\" fill-rule=\"evenodd\" fill-opacity=\"1\" /><path clip-path=\"url(#clip280)\" d=\"M146.945 245.221 L151.829 245.221 L151.829 251.1 L146.945 251.1 L146.945 245.221 Z\" fill=\"#000000\" fill-rule=\"evenodd\" fill-opacity=\"1\" /><path clip-path=\"url(#clip280)\" d=\"M172.014 234.689 Q168.681 234.689 166.76 236.471 Q164.862 238.253 164.862 241.378 Q164.862 244.503 166.76 246.286 Q168.681 248.068 172.014 248.068 Q175.348 248.068 177.269 246.286 Q179.19 244.48 179.19 241.378 Q179.19 238.253 177.269 236.471 Q175.371 234.689 172.014 234.689 M167.339 232.698 Q164.329 231.957 162.64 229.897 Q160.973 227.837 160.973 224.874 Q160.973 220.73 163.913 218.323 Q166.876 215.915 172.014 215.915 Q177.176 215.915 180.116 218.323 Q183.056 220.73 183.056 224.874 Q183.056 227.837 181.366 229.897 Q179.7 231.957 176.714 232.698 Q180.093 233.485 181.968 235.776 Q183.866 238.068 183.866 241.378 Q183.866 246.401 180.788 249.087 Q177.732 251.772 172.014 251.772 Q166.297 251.772 163.218 249.087 Q160.163 246.401 160.163 241.378 Q160.163 238.068 162.061 235.776 Q163.959 233.485 167.339 232.698 M165.626 225.314 Q165.626 227.999 167.292 229.503 Q168.982 231.008 172.014 231.008 Q175.024 231.008 176.714 229.503 Q178.426 227.999 178.426 225.314 Q178.426 222.628 176.714 221.124 Q175.024 219.619 172.014 219.619 Q168.982 219.619 167.292 221.124 Q165.626 222.628 165.626 225.314 Z\" fill=\"#000000\" fill-rule=\"evenodd\" fill-opacity=\"1\" /><path clip-path=\"url(#clip280)\" d=\"M22.818 936.496 L46.4666 945.217 L46.4666 927.743 L22.818 936.496 M16.4842 940.125 L16.4842 932.836 L64.0042 914.726 L64.0042 921.41 L51.8138 925.738 L51.8138 947.159 L64.0042 951.488 L64.0042 958.267 L16.4842 940.125 Z\" fill=\"#000000\" fill-rule=\"evenodd\" fill-opacity=\"1\" /><path clip-path=\"url(#clip280)\" d=\"M28.3562 916.062 L28.3562 909.856 L58.275 898.716 L28.3562 887.576 L28.3562 881.369 L64.0042 894.737 L64.0042 902.694 L28.3562 916.062 Z\" fill=\"#000000\" fill-rule=\"evenodd\" fill-opacity=\"1\" /><path clip-path=\"url(#clip280)\" d=\"M45.7664 849.827 Q39.4007 849.827 35.8996 852.469 Q32.3984 855.079 32.3984 859.821 Q32.3984 864.532 35.8996 867.174 Q39.4007 869.784 45.7664 869.784 Q52.1003 869.784 55.6014 867.174 Q59.1026 864.532 59.1026 859.821 Q59.1026 855.079 55.6014 852.469 Q52.1003 849.827 45.7664 849.827 M59.58 843.971 Q68.683 843.971 73.1071 848.013 Q77.5631 852.055 77.5631 860.394 Q77.5631 863.482 77.0857 866.219 Q76.6401 868.956 75.6852 871.534 L69.9879 871.534 Q71.3884 868.956 72.0568 866.442 Q72.7252 863.927 72.7252 861.317 Q72.7252 855.556 69.7015 852.692 Q66.7096 849.827 60.6303 849.827 L57.7339 849.827 Q60.885 851.641 62.4446 854.474 Q64.0042 857.307 64.0042 861.254 Q64.0042 867.81 59.0071 871.821 Q54.01 875.831 45.7664 875.831 Q37.491 875.831 32.4939 871.821 Q27.4968 867.81 27.4968 861.254 Q27.4968 857.307 29.0564 854.474 Q30.616 851.641 33.7671 849.827 L28.3562 849.827 L28.3562 843.971 L59.58 843.971 Z\" fill=\"#000000\" fill-rule=\"evenodd\" fill-opacity=\"1\" /><path clip-path=\"url(#clip280)\" d=\"M32.4621 797.374 Q32.4621 802.084 36.1542 804.822 Q39.8145 807.559 46.212 807.559 Q52.6095 807.559 56.3017 804.853 Q59.9619 802.116 59.9619 797.374 Q59.9619 792.695 56.2698 789.958 Q52.5777 787.22 46.212 787.22 Q39.8781 787.22 36.186 789.958 Q32.4621 792.695 32.4621 797.374 M27.4968 797.374 Q27.4968 789.735 32.4621 785.374 Q37.4273 781.014 46.212 781.014 Q54.9649 781.014 59.9619 785.374 Q64.9272 789.735 64.9272 797.374 Q64.9272 805.044 59.9619 809.405 Q54.9649 813.734 46.212 813.734 Q37.4273 813.734 32.4621 809.405 Q27.4968 805.044 27.4968 797.374 Z\" fill=\"#000000\" fill-rule=\"evenodd\" fill-opacity=\"1\" /><path clip-path=\"url(#clip280)\" d=\"M28.3562 775.508 L28.3562 769.301 L58.275 758.161 L28.3562 747.021 L28.3562 740.814 L64.0042 754.182 L64.0042 762.14 L28.3562 775.508 Z\" fill=\"#000000\" fill-rule=\"evenodd\" fill-opacity=\"1\" /><path clip-path=\"url(#clip280)\" d=\"M44.7161 702.238 L47.5806 702.238 L47.5806 729.165 Q53.6281 728.783 56.8109 725.537 Q59.9619 722.258 59.9619 716.434 Q59.9619 713.06 59.1344 709.909 Q58.3069 706.726 56.6518 703.607 L62.1899 703.607 Q63.5267 706.758 64.227 710.068 Q64.9272 713.378 64.9272 716.784 Q64.9272 725.314 59.9619 730.311 Q54.9967 735.276 46.5303 735.276 Q37.7774 735.276 32.6531 730.566 Q27.4968 725.823 27.4968 717.802 Q27.4968 710.609 32.1438 706.44 Q36.7589 702.238 44.7161 702.238 M42.9973 708.095 Q38.1912 708.158 35.3266 710.8 Q32.4621 713.41 32.4621 717.739 Q32.4621 722.64 35.2312 725.6 Q38.0002 728.529 43.0292 728.974 L42.9973 708.095 Z\" fill=\"#000000\" fill-rule=\"evenodd\" fill-opacity=\"1\" /><path clip-path=\"url(#clip280)\" d=\"M33.8307 671.969 Q33.2578 672.956 33.0032 674.134 Q32.7167 675.279 32.7167 676.68 Q32.7167 681.645 35.9632 684.319 Q39.1779 686.961 45.2253 686.961 L64.0042 686.961 L64.0042 692.849 L28.3562 692.849 L28.3562 686.961 L33.8944 686.961 Q30.6479 685.115 29.0883 682.154 Q27.4968 679.194 27.4968 674.961 Q27.4968 674.356 27.5923 673.624 Q27.656 672.892 27.8151 672.001 L33.8307 671.969 Z\" fill=\"#000000\" fill-rule=\"evenodd\" fill-opacity=\"1\" /><path clip-path=\"url(#clip280)\" d=\"M14.479 665.826 L14.479 659.97 L64.0042 659.97 L64.0042 665.826 L14.479 665.826 Z\" fill=\"#000000\" fill-rule=\"evenodd\" fill-opacity=\"1\" /><path clip-path=\"url(#clip280)\" d=\"M46.0847 631.515 Q46.0847 638.613 47.7079 641.35 Q49.3312 644.088 53.2461 644.088 Q56.3653 644.088 58.2114 642.051 Q60.0256 639.982 60.0256 636.449 Q60.0256 631.579 56.5881 628.651 Q53.1188 625.691 47.3897 625.691 L46.0847 625.691 L46.0847 631.515 M43.6657 619.834 L64.0042 619.834 L64.0042 625.691 L58.5933 625.691 Q61.8398 627.696 63.3994 630.688 Q64.9272 633.68 64.9272 638.008 Q64.9272 643.483 61.8716 646.729 Q58.7843 649.944 53.6281 649.944 Q47.6125 649.944 44.5569 645.934 Q41.5014 641.891 41.5014 633.902 L41.5014 625.691 L40.9285 625.691 Q36.8862 625.691 34.6901 628.364 Q32.4621 631.006 32.4621 635.812 Q32.4621 638.868 33.1941 641.764 Q33.9262 644.66 35.3903 647.334 L29.9795 647.334 Q28.7381 644.119 28.1334 641.096 Q27.4968 638.072 27.4968 635.207 Q27.4968 627.473 31.5072 623.654 Q35.5176 619.834 43.6657 619.834 Z\" fill=\"#000000\" fill-rule=\"evenodd\" fill-opacity=\"1\" /><path clip-path=\"url(#clip280)\" d=\"M58.657 602.106 L77.5631 602.106 L77.5631 607.994 L28.3562 607.994 L28.3562 602.106 L33.7671 602.106 Q30.5842 600.26 29.0564 597.459 Q27.4968 594.626 27.4968 590.711 Q27.4968 584.218 32.6531 580.176 Q37.8093 576.102 46.212 576.102 Q54.6147 576.102 59.771 580.176 Q64.9272 584.218 64.9272 590.711 Q64.9272 594.626 63.3994 597.459 Q61.8398 600.26 58.657 602.106 M46.212 582.181 Q39.7508 582.181 36.0905 584.855 Q32.3984 587.496 32.3984 592.143 Q32.3984 596.79 36.0905 599.464 Q39.7508 602.106 46.212 602.106 Q52.6732 602.106 56.3653 599.464 Q60.0256 596.79 60.0256 592.143 Q60.0256 587.496 56.3653 584.855 Q52.6732 582.181 46.212 582.181 Z\" fill=\"#000000\" fill-rule=\"evenodd\" fill-opacity=\"1\" /><path clip-path=\"url(#clip280)\" d=\"M505.965 20.1573 L494.866 50.2555 L517.105 50.2555 L505.965 20.1573 M501.347 12.096 L510.624 12.096 L533.673 72.576 L525.166 72.576 L519.657 57.061 L492.395 57.061 L486.885 72.576 L478.257 72.576 L501.347 12.096 Z\" fill=\"#000000\" fill-rule=\"evenodd\" fill-opacity=\"1\" /><path clip-path=\"url(#clip280)\" d=\"M531.972 27.2059 L539.871 27.2059 L554.049 65.2844 L568.228 27.2059 L576.127 27.2059 L559.113 72.576 L548.986 72.576 L531.972 27.2059 Z\" fill=\"#000000\" fill-rule=\"evenodd\" fill-opacity=\"1\" /><path clip-path=\"url(#clip280)\" d=\"M625.224 48.0275 L625.224 51.6733 L590.953 51.6733 Q591.439 59.3701 595.571 63.421 Q599.744 67.4314 607.157 67.4314 Q611.451 67.4314 615.461 66.3781 Q619.512 65.3249 623.482 63.2184 L623.482 70.267 Q619.471 71.9684 615.259 72.8596 Q611.046 73.7508 606.711 73.7508 Q595.855 73.7508 589.495 67.4314 Q583.175 61.1119 583.175 50.3365 Q583.175 39.1965 589.171 32.6746 Q595.207 26.1121 605.415 26.1121 Q614.57 26.1121 619.877 32.0264 Q625.224 37.9003 625.224 48.0275 M617.77 45.84 Q617.689 39.7232 614.327 36.0774 Q611.005 32.4315 605.496 32.4315 Q599.257 32.4315 595.49 35.9558 Q591.763 39.4801 591.196 45.8805 L617.77 45.84 Z\" fill=\"#000000\" fill-rule=\"evenodd\" fill-opacity=\"1\" /><path clip-path=\"url(#clip280)\" d=\"M663.748 34.1734 Q662.492 33.4443 660.993 33.1202 Q659.535 32.7556 657.753 32.7556 Q651.433 32.7556 648.03 36.8875 Q644.668 40.9789 644.668 48.6757 L644.668 72.576 L637.174 72.576 L637.174 27.2059 L644.668 27.2059 L644.668 34.2544 Q647.018 30.1225 650.785 28.1376 Q654.552 26.1121 659.94 26.1121 Q660.71 26.1121 661.641 26.2337 Q662.573 26.3147 663.707 26.5172 L663.748 34.1734 Z\" fill=\"#000000\" fill-rule=\"evenodd\" fill-opacity=\"1\" /><path clip-path=\"url(#clip280)\" d=\"M692.185 49.7694 Q683.152 49.7694 679.668 51.8354 Q676.184 53.9013 676.184 58.8839 Q676.184 62.8538 678.777 65.2034 Q681.41 67.5124 685.906 67.5124 Q692.104 67.5124 695.831 63.1374 Q699.598 58.7219 699.598 51.4303 L699.598 49.7694 L692.185 49.7694 M707.052 46.6907 L707.052 72.576 L699.598 72.576 L699.598 65.6895 Q697.046 69.8214 693.238 71.8063 Q689.431 73.7508 683.921 73.7508 Q676.954 73.7508 672.822 69.8619 Q668.73 65.9325 668.73 59.3701 Q668.73 51.7138 673.835 47.825 Q678.979 43.9361 689.147 43.9361 L699.598 43.9361 L699.598 43.2069 Q699.598 38.0623 696.196 35.2672 Q692.833 32.4315 686.716 32.4315 Q682.828 32.4315 679.141 33.3632 Q675.455 34.295 672.052 36.1584 L672.052 29.2718 Q676.144 27.692 679.992 26.9223 Q683.84 26.1121 687.486 26.1121 Q697.33 26.1121 702.191 31.2163 Q707.052 36.3204 707.052 46.6907 Z\" fill=\"#000000\" fill-rule=\"evenodd\" fill-opacity=\"1\" /><path clip-path=\"url(#clip280)\" d=\"M752.26 49.3643 Q752.26 41.2625 748.898 36.8065 Q745.576 32.3505 739.54 32.3505 Q733.545 32.3505 730.183 36.8065 Q726.861 41.2625 726.861 49.3643 Q726.861 57.4256 730.183 61.8816 Q733.545 66.3376 739.54 66.3376 Q745.576 66.3376 748.898 61.8816 Q752.26 57.4256 752.26 49.3643 M759.714 66.9452 Q759.714 78.5308 754.569 84.1616 Q749.424 89.8329 738.811 89.8329 Q734.882 89.8329 731.398 89.2252 Q727.914 88.6581 724.633 87.4428 L724.633 80.1917 Q727.914 81.9741 731.114 82.8248 Q734.315 83.6755 737.636 83.6755 Q744.969 83.6755 748.614 79.8271 Q752.26 76.0193 752.26 68.282 L752.26 64.5957 Q749.951 68.6061 746.346 70.5911 Q742.741 72.576 737.717 72.576 Q729.373 72.576 724.268 66.2161 Q719.164 59.8562 719.164 49.3643 Q719.164 38.832 724.268 32.472 Q729.373 26.1121 737.717 26.1121 Q742.741 26.1121 746.346 28.0971 Q749.951 30.082 752.26 34.0924 L752.26 27.2059 L759.714 27.2059 L759.714 66.9452 Z\" fill=\"#000000\" fill-rule=\"evenodd\" fill-opacity=\"1\" /><path clip-path=\"url(#clip280)\" d=\"M813.874 48.0275 L813.874 51.6733 L779.604 51.6733 Q780.09 59.3701 784.222 63.421 Q788.394 67.4314 795.807 67.4314 Q800.101 67.4314 804.112 66.3781 Q808.163 65.3249 812.132 63.2184 L812.132 70.267 Q808.122 71.9684 803.909 72.8596 Q799.696 73.7508 795.362 73.7508 Q784.505 73.7508 778.145 67.4314 Q771.826 61.1119 771.826 50.3365 Q771.826 39.1965 777.821 32.6746 Q783.857 26.1121 794.065 26.1121 Q803.221 26.1121 808.527 32.0264 Q813.874 37.9003 813.874 48.0275 M806.421 45.84 Q806.34 39.7232 802.977 36.0774 Q799.656 32.4315 794.146 32.4315 Q787.908 32.4315 784.141 35.9558 Q780.414 39.4801 779.847 45.8805 L806.421 45.84 Z\" fill=\"#000000\" fill-rule=\"evenodd\" fill-opacity=\"1\" /><path clip-path=\"url(#clip280)\" d=\"M870.06 32.4315 Q864.065 32.4315 860.581 37.1306 Q857.098 41.7891 857.098 49.9314 Q857.098 58.0738 860.541 62.7728 Q864.025 67.4314 870.06 67.4314 Q876.015 67.4314 879.499 62.7323 Q882.983 58.0333 882.983 49.9314 Q882.983 41.8701 879.499 37.1711 Q876.015 32.4315 870.06 32.4315 M870.06 26.1121 Q879.783 26.1121 885.332 32.4315 Q890.882 38.7509 890.882 49.9314 Q890.882 61.0714 885.332 67.4314 Q879.783 73.7508 870.06 73.7508 Q860.298 73.7508 854.748 67.4314 Q849.239 61.0714 849.239 49.9314 Q849.239 38.7509 854.748 32.4315 Q860.298 26.1121 870.06 26.1121 Z\" fill=\"#000000\" fill-rule=\"evenodd\" fill-opacity=\"1\" /><path clip-path=\"url(#clip280)\" d=\"M897.89 27.2059 L905.789 27.2059 L919.968 65.2844 L934.146 27.2059 L942.045 27.2059 L925.031 72.576 L914.904 72.576 L897.89 27.2059 Z\" fill=\"#000000\" fill-rule=\"evenodd\" fill-opacity=\"1\" /><path clip-path=\"url(#clip280)\" d=\"M991.142 48.0275 L991.142 51.6733 L956.871 51.6733 Q957.357 59.3701 961.489 63.421 Q965.662 67.4314 973.075 67.4314 Q977.369 67.4314 981.379 66.3781 Q985.43 65.3249 989.4 63.2184 L989.4 70.267 Q985.39 71.9684 981.177 72.8596 Q976.964 73.7508 972.629 73.7508 Q961.773 73.7508 955.413 67.4314 Q949.094 61.1119 949.094 50.3365 Q949.094 39.1965 955.089 32.6746 Q961.125 26.1121 971.333 26.1121 Q980.488 26.1121 985.795 32.0264 Q991.142 37.9003 991.142 48.0275 M983.688 45.84 Q983.607 39.7232 980.245 36.0774 Q976.923 32.4315 971.414 32.4315 Q965.176 32.4315 961.408 35.9558 Q957.681 39.4801 957.114 45.8805 L983.688 45.84 Z\" fill=\"#000000\" fill-rule=\"evenodd\" fill-opacity=\"1\" /><path clip-path=\"url(#clip280)\" d=\"M1029.67 34.1734 Q1028.41 33.4443 1026.91 33.1202 Q1025.45 32.7556 1023.67 32.7556 Q1017.35 32.7556 1013.95 36.8875 Q1010.59 40.9789 1010.59 48.6757 L1010.59 72.576 L1003.09 72.576 L1003.09 27.2059 L1010.59 27.2059 L1010.59 34.2544 Q1012.94 30.1225 1016.7 28.1376 Q1020.47 26.1121 1025.86 26.1121 Q1026.63 26.1121 1027.56 26.2337 Q1028.49 26.3147 1029.63 26.5172 L1029.67 34.1734 Z\" fill=\"#000000\" fill-rule=\"evenodd\" fill-opacity=\"1\" /><path clip-path=\"url(#clip280)\" d=\"M1037.48 9.54393 L1044.94 9.54393 L1044.94 72.576 L1037.48 72.576 L1037.48 9.54393 Z\" fill=\"#000000\" fill-rule=\"evenodd\" fill-opacity=\"1\" /><path clip-path=\"url(#clip280)\" d=\"M1081.15 49.7694 Q1072.12 49.7694 1068.64 51.8354 Q1065.15 53.9013 1065.15 58.8839 Q1065.15 62.8538 1067.74 65.2034 Q1070.38 67.5124 1074.87 67.5124 Q1081.07 67.5124 1084.8 63.1374 Q1088.57 58.7219 1088.57 51.4303 L1088.57 49.7694 L1081.15 49.7694 M1096.02 46.6907 L1096.02 72.576 L1088.57 72.576 L1088.57 65.6895 Q1086.01 69.8214 1082.21 71.8063 Q1078.4 73.7508 1072.89 73.7508 Q1065.92 73.7508 1061.79 69.8619 Q1057.7 65.9325 1057.7 59.3701 Q1057.7 51.7138 1062.8 47.825 Q1067.95 43.9361 1078.11 43.9361 L1088.57 43.9361 L1088.57 43.2069 Q1088.57 38.0623 1085.16 35.2672 Q1081.8 32.4315 1075.68 32.4315 Q1071.8 32.4315 1068.11 33.3632 Q1064.42 34.295 1061.02 36.1584 L1061.02 29.2718 Q1065.11 27.692 1068.96 26.9223 Q1072.81 26.1121 1076.45 26.1121 Q1086.3 26.1121 1091.16 31.2163 Q1096.02 36.3204 1096.02 46.6907 Z\" fill=\"#000000\" fill-rule=\"evenodd\" fill-opacity=\"1\" /><path clip-path=\"url(#clip280)\" d=\"M1118.58 65.7705 L1118.58 89.8329 L1111.09 89.8329 L1111.09 27.2059 L1118.58 27.2059 L1118.58 34.0924 Q1120.93 30.0415 1124.5 28.0971 Q1128.1 26.1121 1133.09 26.1121 Q1141.35 26.1121 1146.49 32.6746 Q1151.68 39.2371 1151.68 49.9314 Q1151.68 60.6258 1146.49 67.1883 Q1141.35 73.7508 1133.09 73.7508 Q1128.1 73.7508 1124.5 71.8063 Q1120.93 69.8214 1118.58 65.7705 M1143.94 49.9314 Q1143.94 41.7081 1140.54 37.0496 Q1137.18 32.3505 1131.26 32.3505 Q1125.35 32.3505 1121.95 37.0496 Q1118.58 41.7081 1118.58 49.9314 Q1118.58 58.1548 1121.95 62.8538 Q1125.35 67.5124 1131.26 67.5124 Q1137.18 67.5124 1140.54 62.8538 Q1143.94 58.1548 1143.94 49.9314 Z\" fill=\"#000000\" fill-rule=\"evenodd\" fill-opacity=\"1\" /><path clip-path=\"url(#clip280)\" d=\"M1207.99 32.4315 Q1201.99 32.4315 1198.51 37.1306 Q1195.02 41.7891 1195.02 49.9314 Q1195.02 58.0738 1198.47 62.7728 Q1201.95 67.4314 1207.99 67.4314 Q1213.94 67.4314 1217.43 62.7323 Q1220.91 58.0333 1220.91 49.9314 Q1220.91 41.8701 1217.43 37.1711 Q1213.94 32.4315 1207.99 32.4315 M1207.99 26.1121 Q1217.71 26.1121 1223.26 32.4315 Q1228.81 38.7509 1228.81 49.9314 Q1228.81 61.0714 1223.26 67.4314 Q1217.71 73.7508 1207.99 73.7508 Q1198.22 73.7508 1192.67 67.4314 Q1187.17 61.0714 1187.17 49.9314 Q1187.17 38.7509 1192.67 32.4315 Q1198.22 26.1121 1207.99 26.1121 Z\" fill=\"#000000\" fill-rule=\"evenodd\" fill-opacity=\"1\" /><path clip-path=\"url(#clip280)\" d=\"M1235.82 27.2059 L1243.72 27.2059 L1257.89 65.2844 L1272.07 27.2059 L1279.97 27.2059 L1262.96 72.576 L1252.83 72.576 L1235.82 27.2059 Z\" fill=\"#000000\" fill-rule=\"evenodd\" fill-opacity=\"1\" /><path clip-path=\"url(#clip280)\" d=\"M1329.07 48.0275 L1329.07 51.6733 L1294.8 51.6733 Q1295.28 59.3701 1299.42 63.421 Q1303.59 67.4314 1311 67.4314 Q1315.3 67.4314 1319.31 66.3781 Q1323.36 65.3249 1327.33 63.2184 L1327.33 70.267 Q1323.32 71.9684 1319.1 72.8596 Q1314.89 73.7508 1310.56 73.7508 Q1299.7 73.7508 1293.34 67.4314 Q1287.02 61.1119 1287.02 50.3365 Q1287.02 39.1965 1293.02 32.6746 Q1299.05 26.1121 1309.26 26.1121 Q1318.41 26.1121 1323.72 32.0264 Q1329.07 37.9003 1329.07 48.0275 M1321.61 45.84 Q1321.53 39.7232 1318.17 36.0774 Q1314.85 32.4315 1309.34 32.4315 Q1303.1 32.4315 1299.33 35.9558 Q1295.61 39.4801 1295.04 45.8805 L1321.61 45.84 Z\" fill=\"#000000\" fill-rule=\"evenodd\" fill-opacity=\"1\" /><path clip-path=\"url(#clip280)\" d=\"M1367.59 34.1734 Q1366.34 33.4443 1364.84 33.1202 Q1363.38 32.7556 1361.6 32.7556 Q1355.28 32.7556 1351.87 36.8875 Q1348.51 40.9789 1348.51 48.6757 L1348.51 72.576 L1341.02 72.576 L1341.02 27.2059 L1348.51 27.2059 L1348.51 34.2544 Q1350.86 30.1225 1354.63 28.1376 Q1358.4 26.1121 1363.78 26.1121 Q1364.55 26.1121 1365.49 26.2337 Q1366.42 26.3147 1367.55 26.5172 L1367.59 34.1734 Z\" fill=\"#000000\" fill-rule=\"evenodd\" fill-opacity=\"1\" /><path clip-path=\"url(#clip280)\" d=\"M1404.25 65.6895 L1417.62 65.6895 L1417.62 19.5497 L1403.08 22.4663 L1403.08 15.0127 L1417.54 12.096 L1425.72 12.096 L1425.72 65.6895 L1439.09 65.6895 L1439.09 72.576 L1404.25 72.576 L1404.25 65.6895 Z\" fill=\"#000000\" fill-rule=\"evenodd\" fill-opacity=\"1\" /><path clip-path=\"url(#clip280)\" d=\"M1473.12 17.4837 Q1466.8 17.4837 1463.6 23.7221 Q1460.44 29.92 1460.44 42.3968 Q1460.44 54.833 1463.6 61.0714 Q1466.8 67.2693 1473.12 67.2693 Q1479.48 67.2693 1482.64 61.0714 Q1485.84 54.833 1485.84 42.3968 Q1485.84 29.92 1482.64 23.7221 Q1479.48 17.4837 1473.12 17.4837 M1473.12 11.0023 Q1483.29 11.0023 1488.63 19.0636 Q1494.02 27.0843 1494.02 42.3968 Q1494.02 57.6687 1488.63 65.73 Q1483.29 73.7508 1473.12 73.7508 Q1462.95 73.7508 1457.56 65.73 Q1452.22 57.6687 1452.22 42.3968 Q1452.22 27.0843 1457.56 19.0636 Q1462.95 11.0023 1473.12 11.0023 Z\" fill=\"#000000\" fill-rule=\"evenodd\" fill-opacity=\"1\" /><path clip-path=\"url(#clip280)\" d=\"M1525.9 17.4837 Q1519.58 17.4837 1516.38 23.7221 Q1513.22 29.92 1513.22 42.3968 Q1513.22 54.833 1516.38 61.0714 Q1519.58 67.2693 1525.9 67.2693 Q1532.26 67.2693 1535.42 61.0714 Q1538.62 54.833 1538.62 42.3968 Q1538.62 29.92 1535.42 23.7221 Q1532.26 17.4837 1525.9 17.4837 M1525.9 11.0023 Q1536.07 11.0023 1541.42 19.0636 Q1546.8 27.0843 1546.8 42.3968 Q1546.8 57.6687 1541.42 65.73 Q1536.07 73.7508 1525.9 73.7508 Q1515.73 73.7508 1510.35 65.73 Q1505 57.6687 1505 42.3968 Q1505 27.0843 1510.35 19.0636 Q1515.73 11.0023 1525.9 11.0023 Z\" fill=\"#000000\" fill-rule=\"evenodd\" fill-opacity=\"1\" /><path clip-path=\"url(#clip280)\" d=\"M1625.31 48.0275 L1625.31 51.6733 L1591.04 51.6733 Q1591.53 59.3701 1595.66 63.421 Q1599.83 67.4314 1607.24 67.4314 Q1611.54 67.4314 1615.55 66.3781 Q1619.6 65.3249 1623.57 63.2184 L1623.57 70.267 Q1619.56 71.9684 1615.35 72.8596 Q1611.13 73.7508 1606.8 73.7508 Q1595.94 73.7508 1589.58 67.4314 Q1583.26 61.1119 1583.26 50.3365 Q1583.26 39.1965 1589.26 32.6746 Q1595.29 26.1121 1605.5 26.1121 Q1614.66 26.1121 1619.96 32.0264 Q1625.31 37.9003 1625.31 48.0275 M1617.86 45.84 Q1617.78 39.7232 1614.41 36.0774 Q1611.09 32.4315 1605.58 32.4315 Q1599.34 32.4315 1595.58 35.9558 Q1591.85 39.4801 1591.28 45.8805 L1617.86 45.84 Z\" fill=\"#000000\" fill-rule=\"evenodd\" fill-opacity=\"1\" /><path clip-path=\"url(#clip280)\" d=\"M1673.8 27.2059 L1657.39 49.2833 L1674.65 72.576 L1665.86 72.576 L1652.65 54.752 L1639.45 72.576 L1630.66 72.576 L1648.28 48.8377 L1632.16 27.2059 L1640.95 27.2059 L1652.98 43.369 L1665.01 27.2059 L1673.8 27.2059 Z\" fill=\"#000000\" fill-rule=\"evenodd\" fill-opacity=\"1\" /><path clip-path=\"url(#clip280)\" d=\"M1692.39 65.7705 L1692.39 89.8329 L1684.9 89.8329 L1684.9 27.2059 L1692.39 27.2059 L1692.39 34.0924 Q1694.74 30.0415 1698.31 28.0971 Q1701.91 26.1121 1706.9 26.1121 Q1715.16 26.1121 1720.3 32.6746 Q1725.49 39.2371 1725.49 49.9314 Q1725.49 60.6258 1720.3 67.1883 Q1715.16 73.7508 1706.9 73.7508 Q1701.91 73.7508 1698.31 71.8063 Q1694.74 69.8214 1692.39 65.7705 M1717.75 49.9314 Q1717.75 41.7081 1714.35 37.0496 Q1710.99 32.3505 1705.07 32.3505 Q1699.16 32.3505 1695.76 37.0496 Q1692.39 41.7081 1692.39 49.9314 Q1692.39 58.1548 1695.76 62.8538 Q1699.16 67.5124 1705.07 67.5124 Q1710.99 67.5124 1714.35 62.8538 Q1717.75 58.1548 1717.75 49.9314 Z\" fill=\"#000000\" fill-rule=\"evenodd\" fill-opacity=\"1\" /><path clip-path=\"url(#clip280)\" d=\"M1776.65 48.0275 L1776.65 51.6733 L1742.38 51.6733 Q1742.87 59.3701 1747 63.421 Q1751.17 67.4314 1758.59 67.4314 Q1762.88 67.4314 1766.89 66.3781 Q1770.94 65.3249 1774.91 63.2184 L1774.91 70.267 Q1770.9 71.9684 1766.69 72.8596 Q1762.47 73.7508 1758.14 73.7508 Q1747.28 73.7508 1740.92 67.4314 Q1734.6 61.1119 1734.6 50.3365 Q1734.6 39.1965 1740.6 32.6746 Q1746.64 26.1121 1756.84 26.1121 Q1766 26.1121 1771.31 32.0264 Q1776.65 37.9003 1776.65 48.0275 M1769.2 45.84 Q1769.12 39.7232 1765.76 36.0774 Q1762.43 32.4315 1756.92 32.4315 Q1750.69 32.4315 1746.92 35.9558 Q1743.19 39.4801 1742.63 45.8805 L1769.2 45.84 Z\" fill=\"#000000\" fill-rule=\"evenodd\" fill-opacity=\"1\" /><path clip-path=\"url(#clip280)\" d=\"M1815.18 34.1734 Q1813.92 33.4443 1812.42 33.1202 Q1810.96 32.7556 1809.18 32.7556 Q1802.86 32.7556 1799.46 36.8875 Q1796.1 40.9789 1796.1 48.6757 L1796.1 72.576 L1788.6 72.576 L1788.6 27.2059 L1796.1 27.2059 L1796.1 34.2544 Q1798.45 30.1225 1802.21 28.1376 Q1805.98 26.1121 1811.37 26.1121 Q1812.14 26.1121 1813.07 26.2337 Q1814 26.3147 1815.14 26.5172 L1815.18 34.1734 Z\" fill=\"#000000\" fill-rule=\"evenodd\" fill-opacity=\"1\" /><path clip-path=\"url(#clip280)\" d=\"M1823 27.2059 L1830.45 27.2059 L1830.45 72.576 L1823 72.576 L1823 27.2059 M1823 9.54393 L1830.45 9.54393 L1830.45 18.9825 L1823 18.9825 L1823 9.54393 Z\" fill=\"#000000\" fill-rule=\"evenodd\" fill-opacity=\"1\" /><path clip-path=\"url(#clip280)\" d=\"M1881.37 35.9153 Q1884.16 30.8922 1888.05 28.5022 Q1891.94 26.1121 1897.21 26.1121 Q1904.3 26.1121 1908.15 31.0947 Q1911.99 36.0368 1911.99 45.1919 L1911.99 72.576 L1904.5 72.576 L1904.5 45.4349 Q1904.5 38.913 1902.19 35.7533 Q1899.88 32.5936 1895.14 32.5936 Q1889.35 32.5936 1885.99 36.4419 Q1882.62 40.2903 1882.62 46.9338 L1882.62 72.576 L1875.13 72.576 L1875.13 45.4349 Q1875.13 38.8725 1872.82 35.7533 Q1870.51 32.5936 1865.69 32.5936 Q1859.98 32.5936 1856.62 36.4824 Q1853.26 40.3308 1853.26 46.9338 L1853.26 72.576 L1845.76 72.576 L1845.76 27.2059 L1853.26 27.2059 L1853.26 34.2544 Q1855.81 30.082 1859.37 28.0971 Q1862.94 26.1121 1867.84 26.1121 Q1872.78 26.1121 1876.22 28.6237 Q1879.71 31.1352 1881.37 35.9153 Z\" fill=\"#000000\" fill-rule=\"evenodd\" fill-opacity=\"1\" /><path clip-path=\"url(#clip280)\" d=\"M1965.67 48.0275 L1965.67 51.6733 L1931.4 51.6733 Q1931.88 59.3701 1936.02 63.421 Q1940.19 67.4314 1947.6 67.4314 Q1951.89 67.4314 1955.91 66.3781 Q1959.96 65.3249 1963.93 63.2184 L1963.93 70.267 Q1959.92 71.9684 1955.7 72.8596 Q1951.49 73.7508 1947.16 73.7508 Q1936.3 73.7508 1929.94 67.4314 Q1923.62 61.1119 1923.62 50.3365 Q1923.62 39.1965 1929.61 32.6746 Q1935.65 26.1121 1945.86 26.1121 Q1955.01 26.1121 1960.32 32.0264 Q1965.67 37.9003 1965.67 48.0275 M1958.21 45.84 Q1958.13 39.7232 1954.77 36.0774 Q1951.45 32.4315 1945.94 32.4315 Q1939.7 32.4315 1935.93 35.9558 Q1932.21 39.4801 1931.64 45.8805 L1958.21 45.84 Z\" fill=\"#000000\" fill-rule=\"evenodd\" fill-opacity=\"1\" /><path clip-path=\"url(#clip280)\" d=\"M2015.62 45.1919 L2015.62 72.576 L2008.16 72.576 L2008.16 45.4349 Q2008.16 38.994 2005.65 35.7938 Q2003.14 32.5936 1998.12 32.5936 Q1992.08 32.5936 1988.6 36.4419 Q1985.11 40.2903 1985.11 46.9338 L1985.11 72.576 L1977.62 72.576 L1977.62 27.2059 L1985.11 27.2059 L1985.11 34.2544 Q1987.79 30.163 1991.39 28.1376 Q1995.04 26.1121 1999.78 26.1121 Q2007.59 26.1121 2011.61 30.9732 Q2015.62 35.7938 2015.62 45.1919 Z\" fill=\"#000000\" fill-rule=\"evenodd\" fill-opacity=\"1\" /><path clip-path=\"url(#clip280)\" d=\"M2037.86 14.324 L2037.86 27.2059 L2053.21 27.2059 L2053.21 32.9987 L2037.86 32.9987 L2037.86 57.6282 Q2037.86 63.1779 2039.35 64.7578 Q2040.89 66.3376 2045.55 66.3376 L2053.21 66.3376 L2053.21 72.576 L2045.55 72.576 Q2036.92 72.576 2033.64 69.3758 Q2030.36 66.1351 2030.36 57.6282 L2030.36 32.9987 L2024.89 32.9987 L2024.89 27.2059 L2030.36 27.2059 L2030.36 14.324 L2037.86 14.324 Z\" fill=\"#000000\" fill-rule=\"evenodd\" fill-opacity=\"1\" /><path clip-path=\"url(#clip280)\" d=\"M2091.93 28.5427 L2091.93 35.5912 Q2088.77 33.9709 2085.37 33.1607 Q2081.97 32.3505 2078.32 32.3505 Q2072.77 32.3505 2069.98 34.0519 Q2067.22 35.7533 2067.22 39.156 Q2067.22 41.7486 2069.21 43.2475 Q2071.19 44.7058 2077.19 46.0426 L2079.74 46.6097 Q2087.68 48.3111 2091 51.4303 Q2094.37 54.509 2094.37 60.0587 Q2094.37 66.3781 2089.34 70.0644 Q2084.36 73.7508 2075.61 73.7508 Q2071.96 73.7508 2067.99 73.0216 Q2064.06 72.3329 2059.69 70.9151 L2059.69 63.2184 Q2063.82 65.3654 2067.83 66.4591 Q2071.84 67.5124 2075.77 67.5124 Q2081.04 67.5124 2083.87 65.73 Q2086.71 63.9071 2086.71 60.6258 Q2086.71 57.5877 2084.64 55.9673 Q2082.62 54.3469 2075.69 52.8481 L2073.1 52.2405 Q2066.17 50.7821 2063.09 47.7845 Q2060.01 44.7463 2060.01 39.4801 Q2060.01 33.0797 2064.55 29.5959 Q2069.09 26.1121 2077.43 26.1121 Q2081.56 26.1121 2085.21 26.7198 Q2088.86 27.3274 2091.93 28.5427 Z\" fill=\"#000000\" fill-rule=\"evenodd\" fill-opacity=\"1\" /><polyline clip-path=\"url(#clip282)\" style=\"stroke:#009af9; stroke-linecap:butt; stroke-linejoin:round; stroke-width:4; stroke-opacity:1; fill:none\" points=\"\n",
       "  280.231,787.025 423.957,694.348 567.683,738.33 711.408,652.251 855.134,531.235 998.86,450.548 1142.59,195.23 1286.31,159.909 1430.04,194.729 1573.76,302.96 \n",
       "  1717.49,573.479 1861.21,1214.74 2004.94,1356.67 2148.67,1373.4 2292.39,1374.46 \n",
       "  \"/>\n",
       "<polyline clip-path=\"url(#clip282)\" style=\"stroke:#e26f46; stroke-linecap:butt; stroke-linejoin:round; stroke-width:4; stroke-opacity:1; fill:none\" points=\"\n",
       "  2004.68,2698.32 2004.68,-1163.95 \n",
       "  \"/>\n",
       "<path clip-path=\"url(#clip280)\" d=\"\n",
       "M1992.24 321.906 L2281.66 321.906 L2281.66 166.386 L1992.24 166.386  Z\n",
       "  \" fill=\"#ffffff\" fill-rule=\"evenodd\" fill-opacity=\"1\"/>\n",
       "<polyline clip-path=\"url(#clip280)\" style=\"stroke:#000000; stroke-linecap:butt; stroke-linejoin:round; stroke-width:4; stroke-opacity:1; fill:none\" points=\"\n",
       "  1992.24,321.906 2281.66,321.906 2281.66,166.386 1992.24,166.386 1992.24,321.906 \n",
       "  \"/>\n",
       "<polyline clip-path=\"url(#clip280)\" style=\"stroke:#009af9; stroke-linecap:butt; stroke-linejoin:round; stroke-width:4; stroke-opacity:1; fill:none\" points=\"\n",
       "  2015.94,218.226 2158.13,218.226 \n",
       "  \"/>\n",
       "<path clip-path=\"url(#clip280)\" d=\"M2195.67 237.914 Q2193.87 242.543 2192.16 243.955 Q2190.44 245.367 2187.57 245.367 L2184.17 245.367 L2184.17 241.803 L2186.67 241.803 Q2188.43 241.803 2189.4 240.969 Q2190.37 240.136 2191.55 237.034 L2192.32 235.09 L2181.83 209.58 L2186.35 209.58 L2194.45 229.858 L2202.55 209.58 L2207.06 209.58 L2195.67 237.914 Z\" fill=\"#000000\" fill-rule=\"evenodd\" fill-opacity=\"1\" /><path clip-path=\"url(#clip280)\" d=\"M2214.35 231.571 L2221.99 231.571 L2221.99 205.206 L2213.68 206.872 L2213.68 202.613 L2221.95 200.946 L2226.62 200.946 L2226.62 231.571 L2234.26 231.571 L2234.26 235.506 L2214.35 235.506 L2214.35 231.571 Z\" fill=\"#000000\" fill-rule=\"evenodd\" fill-opacity=\"1\" /><polyline clip-path=\"url(#clip280)\" style=\"stroke:#e26f46; stroke-linecap:butt; stroke-linejoin:round; stroke-width:4; stroke-opacity:1; fill:none\" points=\"\n",
       "  2015.94,270.066 2158.13,270.066 \n",
       "  \"/>\n",
       "<path clip-path=\"url(#clip280)\" d=\"M2195.67 289.754 Q2193.87 294.383 2192.16 295.795 Q2190.44 297.207 2187.57 297.207 L2184.17 297.207 L2184.17 293.643 L2186.67 293.643 Q2188.43 293.643 2189.4 292.809 Q2190.37 291.976 2191.55 288.874 L2192.32 286.93 L2181.83 261.42 L2186.35 261.42 L2194.45 281.698 L2202.55 261.42 L2207.06 261.42 L2195.67 289.754 Z\" fill=\"#000000\" fill-rule=\"evenodd\" fill-opacity=\"1\" /><path clip-path=\"url(#clip280)\" d=\"M2217.57 283.411 L2233.89 283.411 L2233.89 287.346 L2211.95 287.346 L2211.95 283.411 Q2214.61 280.656 2219.19 276.027 Q2223.8 271.374 2224.98 270.032 Q2227.23 267.508 2228.1 265.772 Q2229.01 264.013 2229.01 262.323 Q2229.01 259.569 2227.06 257.833 Q2225.14 256.096 2222.04 256.096 Q2219.84 256.096 2217.39 256.86 Q2214.96 257.624 2212.18 259.175 L2212.18 254.453 Q2215 253.319 2217.46 252.74 Q2219.91 252.161 2221.95 252.161 Q2227.32 252.161 2230.51 254.846 Q2233.71 257.532 2233.71 262.022 Q2233.71 264.152 2232.9 266.073 Q2232.11 267.971 2230 270.564 Q2229.42 271.235 2226.32 274.453 Q2223.22 277.647 2217.57 283.411 Z\" fill=\"#000000\" fill-rule=\"evenodd\" fill-opacity=\"1\" /></svg>\n"
      ]
     },
     "execution_count": 29,
     "metadata": {},
     "output_type": "execute_result"
    }
   ],
   "source": [
    "plot_overlap_r(\n",
    "    overlap_r_vector_houdayer_mixed_100,\n",
    "    overlap_r_vector_houdayer_mixed_500,\n",
    "    overlap_r_vector_houdayer_mixed_1000,\n",
    "    overlap_r_vector_houdayer_mixed_5000,\n",
    "    range_r_100, d)\n",
    "\n",
    "savefig(\"figures/overlap_r_houdayer_mixed.png\")"
   ]
  },
  {
   "cell_type": "markdown",
   "id": "711f1a49",
   "metadata": {},
   "source": [
    "# Comparisons"
   ]
  },
  {
   "cell_type": "code",
   "execution_count": 16,
   "id": "d2908b9b",
   "metadata": {},
   "outputs": [],
   "source": [
    "overlap_metropolis_700 = npzread(\"data/overlap_hat_metropolis_700.npy\")\n",
    "overlap_houdayer_700 = npzread(\"data/overlap_time_vector_houdayer_700.npy\")\n",
    "overlap_houdayer_mixed_700 = npzread(\"data/overlap_hat_houdayer_mixed_700.npy\")\n",
    "\n",
    "plot_comparisons(\n",
    "    overlap_metropolis_700[1, :],\n",
    "    overlap_houdayer_700[1, :],\n",
    "    overlap_houdayer_mixed_700[1, :],\n",
    "    100\n",
    ")\n",
    "\n",
    "savefig(\"figures/overlap_comparisons_700.png\")"
   ]
  },
  {
   "cell_type": "markdown",
   "id": "0ea87149",
   "metadata": {},
   "source": [
    "# Competition"
   ]
  },
  {
   "cell_type": "code",
   "execution_count": 4,
   "id": "3dec868c",
   "metadata": {
    "scrolled": true
   },
   "outputs": [
    {
     "data": {
      "text/plain": [
       "100×100 BitMatrix:\n",
       " 0  0  0  0  0  0  0  0  0  0  0  0  0  …  0  0  1  0  0  0  0  0  0  0  0  0\n",
       " 0  0  0  0  0  0  0  0  0  0  0  0  0     0  0  0  0  0  0  0  0  0  0  0  0\n",
       " 0  0  0  0  0  0  0  0  0  0  0  0  0     0  0  0  0  0  0  0  0  0  0  0  0\n",
       " 0  0  0  0  0  0  0  1  1  0  0  0  0     0  0  0  0  0  0  0  0  0  0  0  1\n",
       " 0  0  0  0  0  0  0  0  0  0  1  0  0     0  0  0  0  0  0  0  0  0  0  0  0\n",
       " 0  0  0  0  0  0  0  0  0  0  0  0  0  …  0  0  0  0  0  0  0  0  0  0  0  0\n",
       " 0  0  0  0  0  0  0  1  0  0  0  0  0     0  0  0  0  0  0  0  0  0  0  0  0\n",
       " 0  0  0  1  0  0  1  0  0  0  0  0  0     0  0  0  0  0  0  0  0  0  0  0  0\n",
       " 0  0  0  1  0  0  0  0  0  0  0  0  0     0  0  0  0  0  0  0  0  0  0  0  0\n",
       " 0  0  0  0  0  0  0  0  0  0  0  0  0     0  0  0  0  0  0  0  0  0  0  0  0\n",
       " 0  0  0  0  1  0  0  0  0  0  0  0  0  …  0  0  0  0  0  0  0  0  0  0  0  0\n",
       " 0  0  0  0  0  0  0  0  0  0  0  0  0     0  0  0  0  0  0  0  0  0  0  0  0\n",
       " 0  0  0  0  0  0  0  0  0  0  0  0  0     0  0  0  0  1  0  0  0  0  0  0  0\n",
       " ⋮              ⋮              ⋮        ⋱        ⋮              ⋮           \n",
       " 0  0  0  0  0  0  0  0  0  0  0  0  0     0  0  0  0  0  0  0  0  0  0  0  0\n",
       " 0  0  0  0  0  0  0  0  0  0  0  0  0     0  0  0  0  0  0  0  0  0  0  0  0\n",
       " 1  0  0  0  0  0  0  0  0  0  0  0  0  …  0  0  0  0  0  0  0  0  0  0  0  0\n",
       " 0  0  0  0  0  0  0  0  0  0  0  0  0     0  0  0  0  0  0  0  0  0  0  0  0\n",
       " 0  0  0  0  0  0  0  0  0  0  0  0  1     0  0  0  0  0  0  0  0  0  0  0  0\n",
       " 0  0  0  0  0  0  0  0  0  0  0  0  0     0  0  0  0  0  0  0  0  0  0  0  0\n",
       " 0  0  0  0  0  0  0  0  0  0  0  0  0     0  0  0  0  0  0  0  0  0  0  0  0\n",
       " 0  0  0  0  0  0  0  0  0  0  0  0  0  …  0  0  0  0  0  0  0  0  0  0  0  1\n",
       " 0  0  0  0  0  0  0  0  0  0  0  0  0     0  0  0  0  0  0  0  0  0  0  0  0\n",
       " 0  0  0  0  0  0  0  0  0  0  0  0  0     0  0  0  0  0  0  0  0  0  0  0  0\n",
       " 0  0  0  0  0  0  0  0  0  0  0  0  0     0  0  0  0  0  0  0  0  0  0  0  0\n",
       " 0  0  0  1  0  0  0  0  0  0  0  0  0     0  0  0  0  0  0  0  1  0  0  0  0"
      ]
     },
     "execution_count": 4,
     "metadata": {},
     "output_type": "execute_result"
    }
   ],
   "source": [
    "# Load adjacency matrix\n",
    "adj = BitMatrix(npzread(\"A_test.npy\"))"
   ]
  },
  {
   "cell_type": "code",
   "execution_count": 41,
   "id": "4a3c090c",
   "metadata": {
    "scrolled": true
   },
   "outputs": [
    {
     "data": {
      "text/plain": [
       "2000×2000 BitMatrix:\n",
       " 0  0  0  0  0  0  0  0  0  0  0  0  0  …  0  0  0  0  0  0  0  0  0  0  0  0\n",
       " 0  0  0  0  0  0  0  0  0  0  0  0  0     0  0  0  0  0  0  0  0  0  0  0  0\n",
       " 0  0  0  0  0  0  0  0  0  0  0  0  0     0  0  0  0  0  0  0  0  0  0  0  0\n",
       " 0  0  0  0  0  0  0  0  0  0  0  0  0     0  0  0  0  0  0  0  0  0  0  0  0\n",
       " 0  0  0  0  0  0  0  0  0  0  0  0  0     0  0  0  0  0  0  0  0  0  0  0  0\n",
       " 0  0  0  0  0  0  0  0  0  0  0  0  0  …  0  0  0  0  0  0  0  0  0  0  0  0\n",
       " 0  0  0  0  0  0  0  0  0  0  0  0  0     0  0  0  0  0  0  0  0  0  0  0  0\n",
       " 0  0  0  0  0  0  0  0  0  0  0  0  0     0  0  0  0  0  0  0  0  0  0  0  0\n",
       " 0  0  0  0  0  0  0  0  0  0  0  0  0     0  0  0  0  0  0  0  0  0  0  0  0\n",
       " 0  0  0  0  0  0  0  0  0  0  0  0  0     0  0  0  0  0  0  0  0  0  0  0  0\n",
       " 0  0  0  0  0  0  0  0  0  0  0  0  0  …  0  0  0  0  0  0  0  0  0  0  0  0\n",
       " 0  0  0  0  0  0  0  0  0  0  0  0  0     0  0  0  0  0  0  0  0  0  0  0  0\n",
       " 0  0  0  0  0  0  0  0  0  0  0  0  0     0  0  0  0  0  0  0  0  0  0  0  0\n",
       " ⋮              ⋮              ⋮        ⋱        ⋮              ⋮           \n",
       " 0  0  0  0  0  0  0  0  0  0  0  0  0     0  0  0  0  0  0  0  0  0  0  0  0\n",
       " 0  0  0  0  0  0  0  0  0  0  0  0  0     0  0  0  0  0  0  0  0  0  0  0  0\n",
       " 0  0  0  0  0  0  0  0  0  0  0  0  0  …  0  0  0  0  0  0  0  0  0  0  0  0\n",
       " 0  0  0  0  0  0  0  0  0  0  0  0  0     0  0  0  0  0  0  0  0  0  0  0  0\n",
       " 0  0  0  0  0  0  0  0  0  0  0  0  0     0  0  0  0  0  0  0  0  0  0  0  0\n",
       " 0  0  0  0  0  0  0  0  0  0  0  0  0     0  0  0  0  0  0  0  0  0  0  0  0\n",
       " 0  0  0  0  0  0  0  0  0  0  0  0  0     0  0  0  0  0  0  0  0  0  0  0  0\n",
       " 0  0  0  0  0  0  0  0  0  0  0  0  0  …  0  0  0  0  0  0  0  0  0  0  0  0\n",
       " 0  0  0  0  0  0  0  0  0  0  0  0  0     0  0  0  0  0  0  0  0  0  0  0  0\n",
       " 0  0  0  0  0  0  0  0  0  0  0  0  0     0  0  0  0  0  0  0  0  0  0  0  0\n",
       " 0  0  0  0  0  0  0  0  0  0  0  0  0     0  0  0  0  0  0  0  0  0  0  0  0\n",
       " 0  0  0  0  0  0  0  0  0  0  0  0  0     0  0  0  0  0  0  0  0  0  0  0  0"
      ]
     },
     "execution_count": 41,
     "metadata": {},
     "output_type": "execute_result"
    }
   ],
   "source": [
    "# Test\n",
    "x_star = generate_x(2000)\n",
    "adj = generate_graph(x_star, 5.9, 0.1)"
   ]
  },
  {
   "cell_type": "code",
   "execution_count": 46,
   "id": "2bf399b3",
   "metadata": {},
   "outputs": [
    {
     "data": {
      "text/plain": [
       "10000000"
      ]
     },
     "execution_count": 46,
     "metadata": {},
     "output_type": "execute_result"
    }
   ],
   "source": [
    "# Number of nodes in graph\n",
    "N = size(adj, 1)\n",
    "a = 5.9\n",
    "b = 0.1\n",
    "n0 = 10000\n",
    "\n",
    "nb_exp = 1\n",
    "#nb_iter = f(N)\n",
    "nb_iter = 10_000_000"
   ]
  },
  {
   "cell_type": "code",
   "execution_count": null,
   "id": "36c4cd8a",
   "metadata": {
    "scrolled": false
   },
   "outputs": [],
   "source": [
    "@time begin\n",
    "\n",
    "    x_hat_matrix = competition(adj, a, b, nb_iter, nb_exp, N, n0)\n",
    "    \n",
    "end"
   ]
  },
  {
   "cell_type": "code",
   "execution_count": 44,
   "id": "0f8113b4",
   "metadata": {},
   "outputs": [
    {
     "data": {
      "text/plain": [
       "0.897"
      ]
     },
     "execution_count": 44,
     "metadata": {},
     "output_type": "execute_result"
    }
   ],
   "source": [
    "overlap(x_hat_matrix[:, 1], x_star)"
   ]
  }
 ],
 "metadata": {
  "kernelspec": {
   "display_name": "Julia 1.7.0",
   "language": "julia",
   "name": "julia-1.7"
  },
  "language_info": {
   "file_extension": ".jl",
   "mimetype": "application/julia",
   "name": "julia",
   "version": "1.7.0"
  }
 },
 "nbformat": 4,
 "nbformat_minor": 5
}

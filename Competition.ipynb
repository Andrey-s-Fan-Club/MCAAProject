{
 "cells": [
  {
   "cell_type": "code",
   "execution_count": 1,
   "id": "bec8ea74",
   "metadata": {},
   "outputs": [],
   "source": [
    "include(\"helper.jl\")\n",
    "include(\"algorithms.jl\")\n",
    "using NPZ\n",
    "using Plots"
   ]
  },
  {
   "cell_type": "code",
   "execution_count": 2,
   "id": "a0ea05b5",
   "metadata": {},
   "outputs": [
    {
     "data": {
      "text/plain": [
       "6"
      ]
     },
     "execution_count": 2,
     "metadata": {},
     "output_type": "execute_result"
    }
   ],
   "source": [
    "Threads.nthreads()"
   ]
  },
  {
   "cell_type": "markdown",
   "id": "1d05ed5f",
   "metadata": {},
   "source": [
    "# Competition"
   ]
  },
  {
   "cell_type": "code",
   "execution_count": 3,
   "id": "943b8006",
   "metadata": {},
   "outputs": [
    {
     "data": {
      "text/plain": [
       "f (generic function with 1 method)"
      ]
     },
     "execution_count": 3,
     "metadata": {},
     "output_type": "execute_result"
    }
   ],
   "source": [
    "f(N) = ceil(Int64, 11 * N * log(N))"
   ]
  },
  {
   "cell_type": "code",
   "execution_count": null,
   "id": "8f705471",
   "metadata": {},
   "outputs": [],
   "source": []
  },
  {
   "cell_type": "markdown",
   "id": "ee003290",
   "metadata": {},
   "source": [
    "# Number of iterations tests"
   ]
  },
  {
   "cell_type": "code",
   "execution_count": 4,
   "id": "ae3e9f5a",
   "metadata": {},
   "outputs": [
    {
     "data": {
      "text/plain": [
       "houdayer_mixed_tricks (generic function with 1 method)"
      ]
     },
     "execution_count": 4,
     "metadata": {},
     "output_type": "execute_result"
    }
   ],
   "source": [
    "@inline function houdayer_mixed_tricks(\n",
    "        h::Matrix{Float64}, nb::Int64, nb_iter::Int64,\n",
    "        x_star::Vector{Int8}, a::Float64, b::Float64, adj::BitMatrix, n0::Int64)\n",
    "    \n",
    "    cur_x1 = generate_x(nb)\n",
    "    cur_x2 = generate_x(nb)\n",
    "    \n",
    "    overlap_vector = Vector{Float64}(undef, nb_iter)\n",
    "    \n",
    "    nb_votes = 20000\n",
    "    \n",
    "    for i = 1:(nb_iter-nb_votes)\n",
    "        if mod(i, n0) == 0 && (!all(cur_x1 .== cur_x2))\n",
    "            houdayer_step!(cur_x1, cur_x2, adj, N)\n",
    "        end\n",
    "        \n",
    "        metropolis_step!(h, cur_x1, nb, false)\n",
    "        metropolis_step!(h, cur_x2, nb, false)\n",
    "        \n",
    "        if x_star != nothing\n",
    "            overlap_vector[i] = overlap(cur_x1, x_star)\n",
    "        end\n",
    "    end\n",
    "    \n",
    "    votes1 = Matrix{Int8}(undef, nb, nb_votes)\n",
    "    votes2 = Matrix{Int8}(undef, nb, nb_votes)\n",
    "    \n",
    "    for (idx, i) = enumerate((nb_iter-nb_votes+1):nb_iter)\n",
    "        if mod(i, n0) == 0 && (!all(cur_x1 .== cur_x2))\n",
    "            houdayer_step!(cur_x1, cur_x2, adj, N)\n",
    "        end\n",
    "        \n",
    "        metropolis_step!(h, cur_x1, nb, true)\n",
    "        metropolis_step!(h, cur_x2, nb, true)\n",
    "        \n",
    "        votes1[:, idx] = cur_x1\n",
    "        votes2[:, idx] = cur_x2\n",
    "        \n",
    "        \n",
    "        overlap_vector[i] = overlap(cur_x1, x_star)\n",
    "    end\n",
    "    \n",
    "    cur_x1 = majority_vote(votes1)\n",
    "    cur_x2 = majority_vote(votes2)\n",
    "    \n",
    "    return hamiltonian(cur_x1, h) < hamiltonian(cur_x2, h) ? cur_x1 : cur_x2, overlap_vector\n",
    "end"
   ]
  },
  {
   "cell_type": "code",
   "execution_count": 8,
   "id": "0cbe19e0",
   "metadata": {},
   "outputs": [
    {
     "data": {
      "text/plain": [
       "215162"
      ]
     },
     "execution_count": 8,
     "metadata": {},
     "output_type": "execute_result"
    }
   ],
   "source": [
    "# Number of nodes in graph\n",
    "a = 5.9\n",
    "b = 0.1\n",
    "n0 = 1000\n",
    "\n",
    "N = 2500\n",
    "x_star = generate_x(N)\n",
    "adj = generate_graph(x_star, a, b)\n",
    "\n",
    "nb_exp = 6\n",
    "nb_iter = f(N)"
   ]
  },
  {
   "cell_type": "code",
   "execution_count": null,
   "id": "69547d02",
   "metadata": {
    "scrolled": true
   },
   "outputs": [],
   "source": [
    "@time begin\n",
    "    \n",
    "    overlap_hat = run_experiment(N, a, b,\n",
    "        x_star, houdayer_mixed_tricks, nb_iter, nb_exp, n0)\n",
    "    npzwrite(\"data/overlap_test_comp_$(N).npy\", overlap_hat)\n",
    "    \n",
    "end"
   ]
  },
  {
   "cell_type": "code",
   "execution_count": null,
   "id": "84624be1",
   "metadata": {},
   "outputs": [],
   "source": [
    "plot(overlap_hat)"
   ]
  },
  {
   "cell_type": "markdown",
   "id": "219c7b92",
   "metadata": {},
   "source": [
    "# Runtimes tests"
   ]
  },
  {
   "cell_type": "code",
   "execution_count": null,
   "id": "01a34d3a",
   "metadata": {},
   "outputs": [],
   "source": [
    "# Number of nodes in graph\n",
    "a = 5.9\n",
    "b = 0.1\n",
    "n0 = 1000\n",
    "\n",
    "N = 2500\n",
    "x_star = generate_x(N)\n",
    "adj = generate_graph(x_star, a, b)\n",
    "\n",
    "nb_exp = 6\n",
    "nb_iter = f(N)"
   ]
  },
  {
   "cell_type": "code",
   "execution_count": null,
   "id": "0a386615",
   "metadata": {},
   "outputs": [],
   "source": [
    "@time begin\n",
    "\n",
    "    x_hat_matrix = competition(adj, a, b, nb_iter, nb_exp, N)\n",
    "    \n",
    "end"
   ]
  },
  {
   "cell_type": "code",
   "execution_count": null,
   "id": "cf935328",
   "metadata": {},
   "outputs": [],
   "source": []
  }
 ],
 "metadata": {
  "kernelspec": {
   "display_name": "Julia 1.7.0",
   "language": "julia",
   "name": "julia-1.7"
  },
  "language_info": {
   "file_extension": ".jl",
   "mimetype": "application/julia",
   "name": "julia",
   "version": "1.7.0"
  }
 },
 "nbformat": 4,
 "nbformat_minor": 5
}
